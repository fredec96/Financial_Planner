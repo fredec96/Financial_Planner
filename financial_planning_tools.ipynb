{
 "cells": [
  {
   "cell_type": "markdown",
   "metadata": {},
   "source": [
    "# Financial Planning with APIs and Monte Carlo Simulations\n",
    "\n",
    "This project creates two financial analysis tools by using a single Jupyter notebook:\n",
    "\n",
    "Part 1: A financial planner for emergencies. Users will be able to use this tool to visualize their current savings. The users can then determine if they have enough reserves for an emergency fund.\n",
    "\n",
    "Part 2: A financial planner for retirement. This tool will forecast the performance of the users retirement portfolio in 30 years. To do this, the tool will make an Alpaca API call via the Alpaca SDK to get historical price data for use in Monte Carlo simulations.\n"
   ]
  },
  {
   "cell_type": "code",
   "execution_count": 1,
   "metadata": {},
   "outputs": [],
   "source": [
    "# Import the required libraries and dependencies\n",
    "import os\n",
    "import requests\n",
    "import json\n",
    "import pandas as pd\n",
    "from dotenv import load_dotenv\n",
    "import alpaca_trade_api as tradeapi\n",
    "from MCForecastTools import MCSimulation\n",
    "\n",
    "%matplotlib inline"
   ]
  },
  {
   "cell_type": "code",
   "execution_count": 2,
   "metadata": {},
   "outputs": [
    {
     "data": {
      "text/plain": [
       "True"
      ]
     },
     "execution_count": 2,
     "metadata": {},
     "output_type": "execute_result"
    }
   ],
   "source": [
    "# Load the environment variables from the .env file\n",
    "# by calling the load_dotenv function\n",
    "load_dotenv()"
   ]
  },
  {
   "cell_type": "markdown",
   "metadata": {},
   "source": [
    "## Part 1: Create a Financial Planner for Emergencies"
   ]
  },
  {
   "cell_type": "markdown",
   "metadata": {},
   "source": [
    "### Evaluate the Cryptocurrency Wallet by Using the Requests Library\n",
    "\n",
    "This section determines the current value of a user’s cryptocurrency wallet. Current prices for the Bitcoin and Ethereum cryptocurrencies are collected by using the Python Requests library. For the prototype, we assume that the user holds the 1.2 Bitcoins (BTC) and 5.3 Ethereum coins (ETH). All this is done by completing the following steps:\n",
    "\n",
    "1. Create a variable named `monthly_income`, and set its value to `12000`.\n",
    "\n",
    "2. Use the Requests library to get the current price (in US dollars) of Bitcoin (BTC) and Ethereum (ETH) by using the API endpoints that the starter code supplies.\n",
    "\n",
    "3. Navigate the JSON response object to access the current price of each coin, and store each in a variable.\n",
    "\n",
    "    >  Note the specific identifier for each cryptocurrency in the API JSON response. The Bitcoin identifier is `1`, and the Ethereum identifier is `1027`.\n",
    "\n",
    "4. Calculate the value, in US dollars, of the current amount of each cryptocurrency and of the entire cryptocurrency wallet.\n"
   ]
  },
  {
   "cell_type": "code",
   "execution_count": 3,
   "metadata": {},
   "outputs": [],
   "source": [
    "# The current number of coins for each cryptocurrency asset held in the portfolio.\n",
    "btc_coins = 1.2\n",
    "eth_coins = 5.3"
   ]
  },
  {
   "cell_type": "markdown",
   "metadata": {},
   "source": [
    "#### Step 1: Create a variable named `monthly_income`, and set its value to `12000`."
   ]
  },
  {
   "cell_type": "code",
   "execution_count": 4,
   "metadata": {},
   "outputs": [],
   "source": [
    "# The monthly amount for the user's household income\n",
    "monthly_income = 12000"
   ]
  },
  {
   "cell_type": "markdown",
   "metadata": {},
   "source": [
    "#### Review the endpoint URLs for the API calls to Free Crypto API in order to get the current pricing information for both BTC and ETH."
   ]
  },
  {
   "cell_type": "code",
   "execution_count": 5,
   "metadata": {},
   "outputs": [],
   "source": [
    "# The Free Crypto API Call endpoint URLs for the held cryptocurrency assets\n",
    "btc_url = \"https://api.alternative.me/v2/ticker/Bitcoin/?convert=USD\"\n",
    "eth_url = \"https://api.alternative.me/v2/ticker/Ethereum/?convert=USD\""
   ]
  },
  {
   "cell_type": "markdown",
   "metadata": {},
   "source": [
    "#### Step 2. Use the Requests library to get the current price (in US dollars) of Bitcoin (BTC) and Ethereum (ETH) by using the API endpoints."
   ]
  },
  {
   "cell_type": "code",
   "execution_count": 6,
   "metadata": {},
   "outputs": [
    {
     "name": "stdout",
     "output_type": "stream",
     "text": [
      "{\n",
      "    \"data\": {\n",
      "        \"1\": {\n",
      "            \"circulating_supply\": 19362375,\n",
      "            \"id\": 1,\n",
      "            \"last_updated\": 1683054588,\n",
      "            \"max_supply\": 21000000,\n",
      "            \"name\": \"Bitcoin\",\n",
      "            \"quotes\": {\n",
      "                \"USD\": {\n",
      "                    \"market_cap\": 555696360030,\n",
      "                    \"percent_change_1h\": 0.605930248657844,\n",
      "                    \"percent_change_24h\": 2.21740863448106,\n",
      "                    \"percent_change_7d\": 4.68553657566699,\n",
      "                    \"percentage_change_1h\": 0.605930248657844,\n",
      "                    \"percentage_change_24h\": 2.21740863448106,\n",
      "                    \"percentage_change_7d\": 4.68553657566699,\n",
      "                    \"price\": 28801.0,\n",
      "                    \"volume_24h\": 18881369998\n",
      "                }\n",
      "            },\n",
      "            \"rank\": 1,\n",
      "            \"symbol\": \"BTC\",\n",
      "            \"total_supply\": 19362375,\n",
      "            \"website_slug\": \"bitcoin\"\n",
      "        }\n",
      "    },\n",
      "    \"metadata\": {\n",
      "        \"error\": null,\n",
      "        \"num_cryptocurrencies\": 3119,\n",
      "        \"timestamp\": 1683054588\n",
      "    }\n",
      "}\n"
     ]
    }
   ],
   "source": [
    "# Using the Python requests library, make an API call to access the current price of BTC\n",
    "btc_response = requests.get(btc_url).json()\n",
    "\n",
    "\n",
    "# Use the json.dumps function to review the response data from the API call\n",
    "# Use the indent and sort_keys parameters to make the response object readable\n",
    "print(json.dumps(btc_response, indent=4, sort_keys=True))"
   ]
  },
  {
   "cell_type": "code",
   "execution_count": 7,
   "metadata": {},
   "outputs": [
    {
     "name": "stdout",
     "output_type": "stream",
     "text": [
      "{\n",
      "    \"data\": {\n",
      "        \"1027\": {\n",
      "            \"circulating_supply\": 120388950,\n",
      "            \"id\": 1027,\n",
      "            \"last_updated\": 1683054589,\n",
      "            \"max_supply\": 120388950,\n",
      "            \"name\": \"Ethereum\",\n",
      "            \"quotes\": {\n",
      "                \"USD\": {\n",
      "                    \"market_cap\": 224957286085,\n",
      "                    \"percent_change_1h\": 0.656653422349816,\n",
      "                    \"percent_change_24h\": 2.31110665681904,\n",
      "                    \"percent_change_7d\": 1.77395422214692,\n",
      "                    \"percentage_change_1h\": 0.656653422349816,\n",
      "                    \"percentage_change_24h\": 2.31110665681904,\n",
      "                    \"percentage_change_7d\": 1.77395422214692,\n",
      "                    \"price\": 1875.32,\n",
      "                    \"volume_24h\": 8974231640\n",
      "                }\n",
      "            },\n",
      "            \"rank\": 2,\n",
      "            \"symbol\": \"ETH\",\n",
      "            \"total_supply\": 120388950,\n",
      "            \"website_slug\": \"ethereum\"\n",
      "        }\n",
      "    },\n",
      "    \"metadata\": {\n",
      "        \"error\": null,\n",
      "        \"num_cryptocurrencies\": 3119,\n",
      "        \"timestamp\": 1683054589\n",
      "    }\n",
      "}\n"
     ]
    }
   ],
   "source": [
    "# Using the Python requests library, make an API call to access the current price ETH\n",
    "eth_response = requests.get(eth_url).json()\n",
    "\n",
    "# Use the json.dumps function to review the response data from the API call\n",
    "# Use the indent and sort_keys parameters to make the response object readable\n",
    "print(json.dumps(eth_response, indent=4, sort_keys=True))"
   ]
  },
  {
   "cell_type": "markdown",
   "metadata": {},
   "source": [
    "#### Step 3: Navigate the JSON response object to access the current price of each coin, and store each in a variable."
   ]
  },
  {
   "cell_type": "code",
   "execution_count": 8,
   "metadata": {},
   "outputs": [
    {
     "name": "stdout",
     "output_type": "stream",
     "text": [
      "The current price of Bitcoin is: $28801.00\n"
     ]
    }
   ],
   "source": [
    "# Navigate the BTC response object to access the current price of BTC\n",
    "btc_price = btc_response['data']['1']['quotes']['USD']['price']\n",
    "\n",
    "# Print the current price of BTC\n",
    "print(f'The current price of Bitcoin is: ${btc_price:.2f}')"
   ]
  },
  {
   "cell_type": "code",
   "execution_count": 9,
   "metadata": {},
   "outputs": [
    {
     "name": "stdout",
     "output_type": "stream",
     "text": [
      "The current price of Ethereum is: $1875.32\n"
     ]
    }
   ],
   "source": [
    "# Navigate the BTC response object to access the current price of ETH\n",
    "eth_price = eth_response['data']['1027']['quotes']['USD']['price']\n",
    "\n",
    "# Print the current price of ETH\n",
    "print(f'The current price of Ethereum is: ${eth_price:.2f}')"
   ]
  },
  {
   "cell_type": "markdown",
   "metadata": {},
   "source": [
    "### Step 4: Calculate the value, in US dollars, of the current amount of each cryptocurrency and of the entire cryptocurrency wallet."
   ]
  },
  {
   "cell_type": "code",
   "execution_count": 10,
   "metadata": {},
   "outputs": [
    {
     "name": "stdout",
     "output_type": "stream",
     "text": [
      "The current value of Bitcoin holdings is: $34561.20\n"
     ]
    }
   ],
   "source": [
    "# Compute the current value of the BTC holding \n",
    "btc_value = btc_price * btc_coins\n",
    "\n",
    "# Print current value of the holdings in BTC\n",
    "print(f'The current value of Bitcoin holdings is: ${btc_value:.2f}')"
   ]
  },
  {
   "cell_type": "code",
   "execution_count": 11,
   "metadata": {},
   "outputs": [
    {
     "name": "stdout",
     "output_type": "stream",
     "text": [
      "The current value of Ethereum holdings is: $9939.20\n"
     ]
    }
   ],
   "source": [
    "# Compute the current value of the ETH holding \n",
    "eth_value = (eth_price * eth_coins)\n",
    "\n",
    "# Print current value of the holdings in ETH\n",
    "print(f'The current value of Ethereum holdings is: ${eth_value:.2f}')"
   ]
  },
  {
   "cell_type": "code",
   "execution_count": 12,
   "metadata": {},
   "outputs": [
    {
     "name": "stdout",
     "output_type": "stream",
     "text": [
      "The current balance of the cryptocurrency wallet is: $44500.40\n"
     ]
    }
   ],
   "source": [
    "# Compute the total value of the cryptocurrency wallet\n",
    "# Add the value of the BTC holding to the value of the ETH holding\n",
    "total_crypto_wallet = btc_value + eth_value\n",
    "\n",
    "# Print current cryptocurrency wallet balance\n",
    "print(f'The current balance of the cryptocurrency wallet is: ${total_crypto_wallet:.2f}')"
   ]
  },
  {
   "cell_type": "markdown",
   "metadata": {},
   "source": [
    "### Evaluate the Stock and Bond Holdings by Using the Alpaca SDK\n",
    "\n",
    "This section determines the current value of a user’s stock and bond holdings. An API call to Alpaca via the Alpaca SDK is used to get the current closing prices of the SPDR S&P 500 ETF Trust (ticker: SPY) and of the iShares Core US Aggregate Bond ETF (ticker: AGG). For the prototype, we assume that the user holds 110 shares of SPY, which represents the stock portion of their portfolio, and 200 shares of AGG, which represents the bond portion. All this is done by completing the following steps:\n",
    "\n",
    "1. In the `Financial_Planner` folder, create an environment file (`.env`) to store the values of your Alpaca API key and Alpaca secret key.\n",
    "\n",
    "2. Set the variables for the Alpaca API and secret keys. Using the Alpaca SDK, create the Alpaca `tradeapi.REST` object. In this object, include the parameters for the Alpaca API key, the secret key, and the version number.\n",
    "\n",
    "3. Set the following parameters for the Alpaca API call:\n",
    "\n",
    "    - `tickers`: Use the tickers for the user’s stock and bond holdings.\n",
    "\n",
    "    - `timeframe`: Use a time frame of one day.\n",
    "\n",
    "    - `start_date` and `end_date`: Use the same date for these parameters, and format them with the date of the previous weekday (example `2023-05-01`). This is because we want the one closing price for the most-recent trading day.\n",
    "\n",
    "4. Get the current closing prices for `SPY` and `AGG` by using the Alpaca `get_bars` function. Format the response as a Pandas DataFrame by including the `df` property at the end of the `get_bars` function.\n",
    "\n",
    "5. Navigating the Alpaca response DataFrame, select the `SPY` and `AGG` closing prices, and store them as variables.\n",
    "\n",
    "6. Calculate the value, in US dollars, of the current amount of shares in each of the stock and bond portions of the portfolio, and print the results.\n"
   ]
  },
  {
   "cell_type": "markdown",
   "metadata": {},
   "source": [
    "#### Review the total number of shares held in both (SPY) and (AGG)."
   ]
  },
  {
   "cell_type": "code",
   "execution_count": 13,
   "metadata": {},
   "outputs": [],
   "source": [
    "# Current amount of shares held in both the stock (SPY) and bond (AGG) portion of the portfolio.\n",
    "spy_shares = 110\n",
    "agg_shares = 200\n"
   ]
  },
  {
   "cell_type": "markdown",
   "metadata": {},
   "source": [
    "#### Step 1: In the project folder, create an environment file (`.env`) to store the values of personal Alpaca API key and Alpaca secret key."
   ]
  },
  {
   "cell_type": "markdown",
   "metadata": {},
   "source": [
    "#### Step 2: Set the variables for the Alpaca API and secret keys. Using the Alpaca SDK, create the Alpaca `tradeapi.REST` object. This object includes the parameters for the Alpaca API key, the secret key, and the version number."
   ]
  },
  {
   "cell_type": "code",
   "execution_count": 14,
   "metadata": {},
   "outputs": [],
   "source": [
    "# Set the variables for the Alpaca API and secret keys\n",
    "alpaca_api_key = os.getenv(\"ALPACA_API_KEY\")\n",
    "alpaca_secret_key = os.getenv(\"ALPACA_SECRET_KEY\")\n",
    "\n",
    "# Create the Alpaca tradeapi.REST object\n",
    "alpaca = tradeapi.REST(\n",
    "    alpaca_api_key,\n",
    "    alpaca_secret_key,\n",
    "    api_version=\"v2\")"
   ]
  },
  {
   "cell_type": "markdown",
   "metadata": {},
   "source": [
    "#### Step 3: Set the following parameters for the Alpaca API call:\n",
    "\n",
    "- `tickers`: Use the tickers for the user’s stock and bond holdings.\n",
    "\n",
    "- `timeframe`: Use a time frame of one day.\n",
    "\n",
    "- `start_date` and `end_date`: Use the same date for these parameters, and format them with the date of the previous weekday (example `2023-05-01`). This is because we want the one closing price for the most-recent trading day.\n"
   ]
  },
  {
   "cell_type": "code",
   "execution_count": 15,
   "metadata": {},
   "outputs": [],
   "source": [
    "# Set the tickers for both the bond and stock portion of the portfolio\n",
    "tickers = ['SPY', 'AGG']\n",
    "\n",
    "# Set timeframe to 1Day\n",
    "timeframe = '1Day'\n",
    "\n",
    "# Format current date as ISO format\n",
    "today = pd.Timestamp(\"2023-05-02\", tz=\"America/New_York\").isoformat()\n",
    "\n",
    "# Set both the start and end date at the date of the prior weekday \n",
    "# This will give the closing price of the previous trading day\n",
    "start = pd.Timestamp(\"2023-05-01\", tz=\"America/New_York\").isoformat()\n",
    "\n",
    "end = pd.Timestamp(\"2023-05-01\", tz=\"America/New_York\").isoformat()"
   ]
  },
  {
   "cell_type": "markdown",
   "metadata": {},
   "source": [
    "#### Step 4: Get the current closing prices for `SPY` and `AGG` by using the Alpaca `get_bars` function. Format the response as a Pandas DataFrame by including the `df` property at the end of the `get_bars` function."
   ]
  },
  {
   "cell_type": "code",
   "execution_count": 16,
   "metadata": {},
   "outputs": [
    {
     "data": {
      "text/html": [
       "<div>\n",
       "<style scoped>\n",
       "    .dataframe tbody tr th:only-of-type {\n",
       "        vertical-align: middle;\n",
       "    }\n",
       "\n",
       "    .dataframe tbody tr th {\n",
       "        vertical-align: top;\n",
       "    }\n",
       "\n",
       "    .dataframe thead tr th {\n",
       "        text-align: left;\n",
       "    }\n",
       "</style>\n",
       "<table border=\"1\" class=\"dataframe\">\n",
       "  <thead>\n",
       "    <tr>\n",
       "      <th></th>\n",
       "      <th colspan=\"7\" halign=\"left\">SPY</th>\n",
       "      <th colspan=\"7\" halign=\"left\">AGG</th>\n",
       "    </tr>\n",
       "    <tr>\n",
       "      <th></th>\n",
       "      <th>open</th>\n",
       "      <th>high</th>\n",
       "      <th>low</th>\n",
       "      <th>close</th>\n",
       "      <th>volume</th>\n",
       "      <th>trade_count</th>\n",
       "      <th>vwap</th>\n",
       "      <th>open</th>\n",
       "      <th>high</th>\n",
       "      <th>low</th>\n",
       "      <th>close</th>\n",
       "      <th>volume</th>\n",
       "      <th>trade_count</th>\n",
       "      <th>vwap</th>\n",
       "    </tr>\n",
       "  </thead>\n",
       "  <tbody>\n",
       "    <tr>\n",
       "      <th>2023-05-01</th>\n",
       "      <td>415.47</td>\n",
       "      <td>417.62</td>\n",
       "      <td>415.265</td>\n",
       "      <td>415.51</td>\n",
       "      <td>60527144</td>\n",
       "      <td>495345</td>\n",
       "      <td>416.216938</td>\n",
       "      <td>99.35</td>\n",
       "      <td>99.41</td>\n",
       "      <td>98.595</td>\n",
       "      <td>98.69</td>\n",
       "      <td>10479671</td>\n",
       "      <td>24169</td>\n",
       "      <td>99.02882</td>\n",
       "    </tr>\n",
       "  </tbody>\n",
       "</table>\n",
       "</div>"
      ],
      "text/plain": [
       "               SPY                                                             \\\n",
       "              open    high      low   close    volume trade_count        vwap   \n",
       "2023-05-01  415.47  417.62  415.265  415.51  60527144      495345  416.216938   \n",
       "\n",
       "              AGG                                                        \n",
       "             open   high     low  close    volume trade_count      vwap  \n",
       "2023-05-01  99.35  99.41  98.595  98.69  10479671       24169  99.02882  "
      ]
     },
     "execution_count": 16,
     "metadata": {},
     "output_type": "execute_result"
    }
   ],
   "source": [
    "# Use the Alpaca get_bars function to get current closing prices the portfolio\n",
    "# Set the `df` property after the function to format the response object as a DataFrame\n",
    "df_portfolio_closing = alpaca.get_bars(\n",
    "    tickers,\n",
    "    timeframe,\n",
    "    start = start,\n",
    "    end = end\n",
    ").df\n",
    "\n",
    "# Reorganize the DataFrame\n",
    "# Separate ticker data\n",
    "spy_day = df_portfolio_closing[df_portfolio_closing['symbol']=='SPY'].drop('symbol', axis=1)\n",
    "agg_day = df_portfolio_closing[df_portfolio_closing['symbol']=='AGG'].drop('symbol', axis=1)\n",
    "\n",
    "# Concatenate the ticker DataFrames\n",
    "df_portfolio_closing = pd.concat([spy_day, agg_day],axis=1, keys=['SPY','AGG'])\n",
    "\n",
    "# Drop the time component of the date\n",
    "df_portfolio_closing.index = df_portfolio_closing.index.date\n",
    "\n",
    "# Review the DataFrame\n",
    "df_portfolio_closing"
   ]
  },
  {
   "cell_type": "markdown",
   "metadata": {},
   "source": [
    "#### Step 5: Navigating the Alpaca response DataFrame, select the `SPY` and `AGG` closing prices, and store them as variables."
   ]
  },
  {
   "cell_type": "code",
   "execution_count": 17,
   "metadata": {
    "tags": []
   },
   "outputs": [
    {
     "name": "stdout",
     "output_type": "stream",
     "text": [
      "Closing price of AGG was: $98.69\n"
     ]
    }
   ],
   "source": [
    "# Access the closing price for AGG from the Alpaca DataFrame\n",
    "# Converting the value to a floating point number\n",
    "agg_close_price = float(df_portfolio_closing[\"AGG\"][\"close\"])\n",
    "\n",
    "# Print the AGG closing price\n",
    "print(f'Closing price of AGG was: ${agg_close_price:.2f}')"
   ]
  },
  {
   "cell_type": "code",
   "execution_count": 18,
   "metadata": {},
   "outputs": [
    {
     "name": "stdout",
     "output_type": "stream",
     "text": [
      "Closing price of SPY was: $415.51\n"
     ]
    }
   ],
   "source": [
    "# Access the closing price for SPY from the Alpaca DataFrame\n",
    "# Converting the value to a floating point number\n",
    "spy_close_price = float(df_portfolio_closing[\"SPY\"][\"close\"])\n",
    "\n",
    "# Print the SPY closing price\n",
    "print(f'Closing price of SPY was: ${spy_close_price:.2f}')"
   ]
  },
  {
   "cell_type": "markdown",
   "metadata": {},
   "source": [
    "#### Step 6: Calculate the value, in US dollars, of the current amount of shares in each of the stock and bond portions of the portfolio, and print the results."
   ]
  },
  {
   "cell_type": "code",
   "execution_count": 19,
   "metadata": {},
   "outputs": [
    {
     "name": "stdout",
     "output_type": "stream",
     "text": [
      "Current value of the bond portfolio is: $19738.00\n"
     ]
    }
   ],
   "source": [
    "# Calculate the current value of the bond portion of the portfolio\n",
    "agg_value = agg_close_price * agg_shares\n",
    "\n",
    "# Print the current value of the bond portfolio\n",
    "print(f'Current value of the bond portfolio is: ${agg_value:.2f}')"
   ]
  },
  {
   "cell_type": "code",
   "execution_count": 20,
   "metadata": {},
   "outputs": [
    {
     "name": "stdout",
     "output_type": "stream",
     "text": [
      "Current value of the stock portfolio is: $45706.10\n"
     ]
    }
   ],
   "source": [
    "# Calculate the current value of the stock portion of the portfolio\n",
    "spy_value = spy_close_price * spy_shares\n",
    "\n",
    "# Print the current value of the stock portfolio\n",
    "print(f'Current value of the stock portfolio is: ${spy_value:.2f}')"
   ]
  },
  {
   "cell_type": "code",
   "execution_count": 21,
   "metadata": {},
   "outputs": [],
   "source": [
    "# Calculate the total value of the stock and bond portion of the portfolio\n",
    "total_stocks_bonds = agg_value + spy_value\n"
   ]
  },
  {
   "cell_type": "code",
   "execution_count": 22,
   "metadata": {},
   "outputs": [
    {
     "name": "stdout",
     "output_type": "stream",
     "text": [
      "Current balance of the stock and bond portion of the portfolio is: $65444.10\n",
      "Current balance of the cryptocurrency wallet is: $44500.40\n",
      "Current balance of the user's entire savings portfolio is: $109944.50\n"
     ]
    }
   ],
   "source": [
    "# Calculate the total value of the user's entire savings portfolio\n",
    "total_portfolio = total_stocks_bonds + total_crypto_wallet\n",
    "\n",
    "# Print the current balance of the stock and bond portion of the portfolio\n",
    "print(f'Current balance of the stock and bond portion of the portfolio is: ${total_stocks_bonds:.2f}')\n",
    "\n",
    "# Print current cryptocurrency wallet balance\n",
    "print(f'Current balance of the cryptocurrency wallet is: ${total_crypto_wallet:.2f}')\n",
    "\n",
    "# Print the total value of the user's entire savings portfolio\n",
    "print(f\"Current balance of the user's entire savings portfolio is: ${total_portfolio:.2f}\")\n",
    "\n"
   ]
  },
  {
   "cell_type": "markdown",
   "metadata": {},
   "source": [
    "### Evaluate the Emergency Fund\n",
    "\n",
    "This section uses the valuations for the cryptocurrency wallet and for the stock and bond portions of the portfolio to determine if the user has enough savings to build an emergency fund into their financial plan. This is done by completing the following steps:\n",
    "\n",
    "1. Create a Python list named `savings_data` that has two elements. The first element contains the total value of the cryptocurrency wallet. The second element contains the total value of the stock and bond portions of the portfolio.\n",
    "\n",
    "2. Use the `savings_data` list to create a Pandas DataFrame named `savings_df`, and then display this DataFrame. The function to create the DataFrame should take the following three parameters:\n",
    "\n",
    "    - `savings_data`: Use the list that was just created.\n",
    "\n",
    "    - `columns`: Set this parameter equal to a Python list with a single value called `amount`.\n",
    "\n",
    "    - `index`: Set this parameter equal to a Python list with the values of `crypto` and `stock/bond`.\n",
    "\n",
    "3. Use the `savings_df` DataFrame to plot a pie chart that visualizes the composition of the user’s portfolio. The y-axis of the pie chart uses `amount`. \n",
    "\n",
    "4. Determine if the current portfolio has enough to create an emergency fund as part of the user’s financial plan. Ideally, an emergency fund should equal to three times the user’s monthly income. This is done by implementing the following steps:\n",
    "\n",
    "    1. Create a variable named `emergency_fund_value`, and set it equal to three times the value of the user’s `monthly_income` of $12000. (Set earlier in Part 1).\n",
    "\n",
    "    2. Create a series of three if statements to determine if the user’s total portfolio is large enough to fund the emergency portfolio:\n",
    "\n",
    "        1. If the total portfolio value is greater than the emergency fund value, display a message congratulating the user for having enough money in this fund.\n",
    "\n",
    "        2. Else if the total portfolio value is equal to the emergency fund value, display a message congratulating the user on reaching this important financial goal.\n",
    "\n",
    "        3. Else the total portfolio is less than the emergency fund value, so display a message showing how many dollars away the user is from reaching the goal. \n"
   ]
  },
  {
   "cell_type": "markdown",
   "metadata": {},
   "source": [
    "#### Step 1: Create a Python list named `savings_data` that has two elements. The first element contains the total value of the cryptocurrency wallet. The second element contains the total value of the stock and bond portions of the portfolio."
   ]
  },
  {
   "cell_type": "code",
   "execution_count": 23,
   "metadata": {},
   "outputs": [
    {
     "data": {
      "text/plain": [
       "[44500.39599999999, 65444.1]"
      ]
     },
     "execution_count": 23,
     "metadata": {},
     "output_type": "execute_result"
    }
   ],
   "source": [
    "# Consolidate financial assets data into a Python list\n",
    "savings_data = [total_crypto_wallet, total_stocks_bonds]\n",
    "\n",
    "# Review the Python list savings_data\n",
    "savings_data"
   ]
  },
  {
   "cell_type": "markdown",
   "metadata": {},
   "source": [
    "#### Step 2: Use the `savings_data` list to create a Pandas DataFrame named `savings_df`, and then display this DataFrame. The function to create the DataFrame should take the following three parameters:\n",
    "\n",
    "- `savings_data`: Use the list that was just created.\n",
    "\n",
    "- `columns`: Set this parameter equal to a Python list with a single value called `amount`.\n",
    "\n",
    "- `index`: Set this parameter equal to a Python list with the values of `crypto` and `stock/bond`.\n"
   ]
  },
  {
   "cell_type": "code",
   "execution_count": 24,
   "metadata": {},
   "outputs": [
    {
     "data": {
      "text/html": [
       "<div>\n",
       "<style scoped>\n",
       "    .dataframe tbody tr th:only-of-type {\n",
       "        vertical-align: middle;\n",
       "    }\n",
       "\n",
       "    .dataframe tbody tr th {\n",
       "        vertical-align: top;\n",
       "    }\n",
       "\n",
       "    .dataframe thead th {\n",
       "        text-align: right;\n",
       "    }\n",
       "</style>\n",
       "<table border=\"1\" class=\"dataframe\">\n",
       "  <thead>\n",
       "    <tr style=\"text-align: right;\">\n",
       "      <th></th>\n",
       "      <th>Amount</th>\n",
       "    </tr>\n",
       "  </thead>\n",
       "  <tbody>\n",
       "    <tr>\n",
       "      <th>Crypto</th>\n",
       "      <td>44500.396</td>\n",
       "    </tr>\n",
       "    <tr>\n",
       "      <th>Stock/Bond</th>\n",
       "      <td>65444.100</td>\n",
       "    </tr>\n",
       "  </tbody>\n",
       "</table>\n",
       "</div>"
      ],
      "text/plain": [
       "               Amount\n",
       "Crypto      44500.396\n",
       "Stock/Bond  65444.100"
      ]
     },
     "execution_count": 24,
     "metadata": {},
     "output_type": "execute_result"
    }
   ],
   "source": [
    "# Create colum and index variable\n",
    "column = ['Amount']\n",
    "index = ['Crypto', 'Stock/Bond']\n",
    "\n",
    "# Create a Pandas DataFrame called savings_df \n",
    "savings_df = pd.DataFrame(data=savings_data, columns=column, index=index)\n",
    "\n",
    "# Display the savings_df DataFrame\n",
    "savings_df"
   ]
  },
  {
   "cell_type": "markdown",
   "metadata": {},
   "source": [
    "#### Step 3: Use the `savings_df` DataFrame to plot a pie chart that visualizes the composition of the user’s portfolio. The y-axis of the pie chart uses `amount`. "
   ]
  },
  {
   "cell_type": "code",
   "execution_count": 25,
   "metadata": {},
   "outputs": [
    {
     "data": {
      "text/plain": [
       "<AxesSubplot:title={'center':'Total Portfolio Value'}, ylabel='Amount'>"
      ]
     },
     "execution_count": 25,
     "metadata": {},
     "output_type": "execute_result"
    },
    {
     "data": {
      "image/png": "[encoded data removed]",
      "text/plain": [
       "<Figure size 640x480 with 1 Axes>"
      ]
     },
     "metadata": {},
     "output_type": "display_data"
    }
   ],
   "source": [
    "# Plot the total value of the user's portfolio (crypto and stock/bond) in a pie chart\n",
    "savings_df.plot.pie(y='Amount', title='Total Portfolio Value')"
   ]
  },
  {
   "cell_type": "markdown",
   "metadata": {},
   "source": [
    "#### Step 4: Determine if the current portfolio has enough to create an emergency fund as part of the user’s financial plan. Ideally, an emergency fund should equal to three times the user’s monthly income. This is done by implementing the following steps:\n",
    "\n",
    "Step 1. Create a variable named `emergency_fund_value`, and set it equal to three times the value of the user’s `monthly_income` of 12000. (Set earlier in Part 1).\n",
    "\n",
    "Step 2. Create a series of three if statements to determine if the user’s total portfolio is large enough to fund the emergency portfolio:\n",
    "\n",
    "* If the total portfolio value is greater than the emergency fund value, display a message congratulating the user for having enough money in this fund.\n",
    "\n",
    "* Else if the total portfolio value is equal to the emergency fund value, display a message congratulating the user on reaching this important financial goal.\n",
    "\n",
    "* Else the total portfolio is less than the emergency fund value, so display a message showing how many dollars away the user is from reaching the goal. \n"
   ]
  },
  {
   "cell_type": "markdown",
   "metadata": {},
   "source": [
    "##### Step 4-1: Create a variable named `emergency_fund_value`, and set it equal to three times the value of the user’s `monthly_income` of 12000."
   ]
  },
  {
   "cell_type": "code",
   "execution_count": 26,
   "metadata": {},
   "outputs": [],
   "source": [
    "# Create a variable named emergency_fund_value\n",
    "emergency_fund_value = monthly_income * 3"
   ]
  },
  {
   "cell_type": "markdown",
   "metadata": {},
   "source": [
    "##### Step 4-2: Create a series of three if statements to determine if the user’s total portfolio is large enough to fund the emergency portfolio:\n",
    "\n",
    "* If the total portfolio value is greater than the emergency fund value, display a message congratulating the user for having enough money in this fund.\n",
    "\n",
    "* Else if the total portfolio value is equal to the emergency fund value, display a message congratulating the user on reaching this important financial goal.\n",
    "\n",
    "* Else the total portfolio is less than the emergency fund value, so display a message showing how many dollars away the user is from reaching the goal. "
   ]
  },
  {
   "cell_type": "code",
   "execution_count": 27,
   "metadata": {},
   "outputs": [
    {
     "name": "stdout",
     "output_type": "stream",
     "text": [
      "Congratulations! You have enough money in this fund\n"
     ]
    }
   ],
   "source": [
    "# Evaluate the possibility of creating an emergency fund with 3 conditions:\n",
    "if total_portfolio > emergency_fund_value:\n",
    "    print('Congratulations! You have enough money in this fund')\n",
    "elif total_portfolio == emergency_fund_value:\n",
    "    print(\"Congratulations on reaching this important financial goal! This portfolio is equal to the emergency fund value!\")  \n",
    "elif total_portfolio < emergency_fund_value:\n",
    "    print(f\"This portfolio is ${emergency_fund_value - total_portfolio} away from reaching the emergency fund value goal\")"
   ]
  },
  {
   "cell_type": "markdown",
   "metadata": {},
   "source": [
    "## Part 2: Create a Financial Planner for Retirement"
   ]
  },
  {
   "cell_type": "markdown",
   "metadata": {},
   "source": [
    "### Create the Monte Carlo Simulation\n",
    "\n",
    "This section uses the MCForecastTools library to create a Monte Carlo simulation for the user’s savings portfolio. This is done by completing the following steps:\n",
    "\n",
    "1. Make an API call via the Alpaca SDK to get 3 years of historical closing prices for a traditional 60/40 portfolio split: 60% stocks (SPY) and 40% bonds (AGG).\n",
    "\n",
    "2. Run a Monte Carlo simulation of 500 samples and 30 years for the 60/40 portfolio, and then plot the results. The following image shows the overlay line plot resulting from a simulation with these characteristics. However, because a random number generator is used to run each live Monte Carlo simulation, the image will differ slightly from this exact image:\n",
    "\n",
    "![A screenshot depicts the resulting plot.](Images/5-4-monte-carlo-line-plot.png)\n",
    "\n",
    "3. Plot the probability distribution of the Monte Carlo simulation. Plot the probability distribution of the Monte Carlo simulation. The following image shows the histogram plot resulting from a simulation with these characteristics. However, because a random number generator is used to run each live Monte Carlo simulation, the image will differ slightly from this exact image:\n",
    "\n",
    "![A screenshot depicts the histogram plot.](Images/5-4-monte-carlo-histogram.png)\n",
    "\n",
    "4. Generate the summary statistics for the Monte Carlo simulation.\n",
    "\n"
   ]
  },
  {
   "cell_type": "markdown",
   "metadata": {},
   "source": [
    "#### Step 1: Make an API call via the Alpaca SDK to get 3 years of historical closing prices for a traditional 60/40 portfolio split: 60% stocks (SPY) and 40% bonds (AGG)."
   ]
  },
  {
   "cell_type": "code",
   "execution_count": 28,
   "metadata": {},
   "outputs": [],
   "source": [
    "# Set start and end dates of 3 years back from current date\n",
    "start = pd.Timestamp(\"2020-05-01\", tz=\"America/New_York\").isoformat()\n",
    "\n",
    "end = pd.Timestamp(\"2023-05-02\", tz=\"America/New_York\").isoformat()"
   ]
  },
  {
   "cell_type": "code",
   "execution_count": 29,
   "metadata": {},
   "outputs": [
    {
     "data": {
      "text/html": [
       "<div>\n",
       "<style scoped>\n",
       "    .dataframe tbody tr th:only-of-type {\n",
       "        vertical-align: middle;\n",
       "    }\n",
       "\n",
       "    .dataframe tbody tr th {\n",
       "        vertical-align: top;\n",
       "    }\n",
       "\n",
       "    .dataframe thead tr th {\n",
       "        text-align: left;\n",
       "    }\n",
       "</style>\n",
       "<table border=\"1\" class=\"dataframe\">\n",
       "  <thead>\n",
       "    <tr>\n",
       "      <th></th>\n",
       "      <th colspan=\"7\" halign=\"left\">SPY</th>\n",
       "      <th colspan=\"7\" halign=\"left\">AGG</th>\n",
       "    </tr>\n",
       "    <tr>\n",
       "      <th></th>\n",
       "      <th>open</th>\n",
       "      <th>high</th>\n",
       "      <th>low</th>\n",
       "      <th>close</th>\n",
       "      <th>volume</th>\n",
       "      <th>trade_count</th>\n",
       "      <th>vwap</th>\n",
       "      <th>open</th>\n",
       "      <th>high</th>\n",
       "      <th>low</th>\n",
       "      <th>close</th>\n",
       "      <th>volume</th>\n",
       "      <th>trade_count</th>\n",
       "      <th>vwap</th>\n",
       "    </tr>\n",
       "  </thead>\n",
       "  <tbody>\n",
       "    <tr>\n",
       "      <th>2020-05-01</th>\n",
       "      <td>285.31</td>\n",
       "      <td>290.6572</td>\n",
       "      <td>281.5200</td>\n",
       "      <td>282.83</td>\n",
       "      <td>125180028</td>\n",
       "      <td>639987</td>\n",
       "      <td>284.092832</td>\n",
       "      <td>116.97</td>\n",
       "      <td>117.0998</td>\n",
       "      <td>116.6775</td>\n",
       "      <td>116.87</td>\n",
       "      <td>6099551</td>\n",
       "      <td>24394</td>\n",
       "      <td>116.846121</td>\n",
       "    </tr>\n",
       "    <tr>\n",
       "      <th>2020-05-04</th>\n",
       "      <td>280.73</td>\n",
       "      <td>283.9000</td>\n",
       "      <td>279.1300</td>\n",
       "      <td>283.59</td>\n",
       "      <td>80882213</td>\n",
       "      <td>460681</td>\n",
       "      <td>281.765334</td>\n",
       "      <td>116.89</td>\n",
       "      <td>117.0900</td>\n",
       "      <td>116.8700</td>\n",
       "      <td>116.97</td>\n",
       "      <td>3684081</td>\n",
       "      <td>15545</td>\n",
       "      <td>116.960599</td>\n",
       "    </tr>\n",
       "    <tr>\n",
       "      <th>2020-05-05</th>\n",
       "      <td>286.64</td>\n",
       "      <td>289.2500</td>\n",
       "      <td>283.7134</td>\n",
       "      <td>286.15</td>\n",
       "      <td>79569939</td>\n",
       "      <td>459764</td>\n",
       "      <td>287.400201</td>\n",
       "      <td>116.96</td>\n",
       "      <td>116.9700</td>\n",
       "      <td>116.8100</td>\n",
       "      <td>116.88</td>\n",
       "      <td>4611519</td>\n",
       "      <td>15146</td>\n",
       "      <td>116.879640</td>\n",
       "    </tr>\n",
       "    <tr>\n",
       "      <th>2020-05-06</th>\n",
       "      <td>288.05</td>\n",
       "      <td>288.4600</td>\n",
       "      <td>283.7800</td>\n",
       "      <td>284.34</td>\n",
       "      <td>73632628</td>\n",
       "      <td>436219</td>\n",
       "      <td>286.096273</td>\n",
       "      <td>116.44</td>\n",
       "      <td>116.7100</td>\n",
       "      <td>116.3000</td>\n",
       "      <td>116.41</td>\n",
       "      <td>6394949</td>\n",
       "      <td>20233</td>\n",
       "      <td>116.426742</td>\n",
       "    </tr>\n",
       "    <tr>\n",
       "      <th>2020-05-07</th>\n",
       "      <td>287.75</td>\n",
       "      <td>289.7800</td>\n",
       "      <td>287.1300</td>\n",
       "      <td>287.70</td>\n",
       "      <td>75250412</td>\n",
       "      <td>422688</td>\n",
       "      <td>287.989956</td>\n",
       "      <td>116.61</td>\n",
       "      <td>116.7700</td>\n",
       "      <td>116.4200</td>\n",
       "      <td>116.77</td>\n",
       "      <td>3786651</td>\n",
       "      <td>15963</td>\n",
       "      <td>116.641826</td>\n",
       "    </tr>\n",
       "    <tr>\n",
       "      <th>...</th>\n",
       "      <td>...</td>\n",
       "      <td>...</td>\n",
       "      <td>...</td>\n",
       "      <td>...</td>\n",
       "      <td>...</td>\n",
       "      <td>...</td>\n",
       "      <td>...</td>\n",
       "      <td>...</td>\n",
       "      <td>...</td>\n",
       "      <td>...</td>\n",
       "      <td>...</td>\n",
       "      <td>...</td>\n",
       "      <td>...</td>\n",
       "      <td>...</td>\n",
       "    </tr>\n",
       "    <tr>\n",
       "      <th>2023-04-26</th>\n",
       "      <td>406.72</td>\n",
       "      <td>407.8400</td>\n",
       "      <td>403.7800</td>\n",
       "      <td>404.36</td>\n",
       "      <td>80954650</td>\n",
       "      <td>572128</td>\n",
       "      <td>405.591919</td>\n",
       "      <td>100.16</td>\n",
       "      <td>100.2200</td>\n",
       "      <td>99.7200</td>\n",
       "      <td>99.81</td>\n",
       "      <td>3723566</td>\n",
       "      <td>18350</td>\n",
       "      <td>99.907609</td>\n",
       "    </tr>\n",
       "    <tr>\n",
       "      <th>2023-04-27</th>\n",
       "      <td>407.00</td>\n",
       "      <td>412.6900</td>\n",
       "      <td>406.7400</td>\n",
       "      <td>412.41</td>\n",
       "      <td>92968169</td>\n",
       "      <td>614868</td>\n",
       "      <td>410.101891</td>\n",
       "      <td>99.61</td>\n",
       "      <td>99.6300</td>\n",
       "      <td>99.3900</td>\n",
       "      <td>99.45</td>\n",
       "      <td>4018321</td>\n",
       "      <td>21343</td>\n",
       "      <td>99.478744</td>\n",
       "    </tr>\n",
       "    <tr>\n",
       "      <th>2023-04-28</th>\n",
       "      <td>411.49</td>\n",
       "      <td>415.9300</td>\n",
       "      <td>411.4300</td>\n",
       "      <td>415.93</td>\n",
       "      <td>84857179</td>\n",
       "      <td>592226</td>\n",
       "      <td>414.377425</td>\n",
       "      <td>99.91</td>\n",
       "      <td>99.9900</td>\n",
       "      <td>99.7200</td>\n",
       "      <td>99.96</td>\n",
       "      <td>5314632</td>\n",
       "      <td>24244</td>\n",
       "      <td>99.898951</td>\n",
       "    </tr>\n",
       "    <tr>\n",
       "      <th>2023-05-01</th>\n",
       "      <td>415.47</td>\n",
       "      <td>417.6200</td>\n",
       "      <td>415.2650</td>\n",
       "      <td>415.51</td>\n",
       "      <td>60527144</td>\n",
       "      <td>495345</td>\n",
       "      <td>416.216938</td>\n",
       "      <td>99.35</td>\n",
       "      <td>99.4100</td>\n",
       "      <td>98.5950</td>\n",
       "      <td>98.69</td>\n",
       "      <td>10479671</td>\n",
       "      <td>24169</td>\n",
       "      <td>99.028820</td>\n",
       "    </tr>\n",
       "    <tr>\n",
       "      <th>2023-05-02</th>\n",
       "      <td>414.77</td>\n",
       "      <td>414.8200</td>\n",
       "      <td>407.8200</td>\n",
       "      <td>410.97</td>\n",
       "      <td>78915110</td>\n",
       "      <td>604281</td>\n",
       "      <td>411.089861</td>\n",
       "      <td>98.96</td>\n",
       "      <td>99.6600</td>\n",
       "      <td>98.9300</td>\n",
       "      <td>99.65</td>\n",
       "      <td>4619649</td>\n",
       "      <td>23374</td>\n",
       "      <td>99.475031</td>\n",
       "    </tr>\n",
       "  </tbody>\n",
       "</table>\n",
       "<p>756 rows × 14 columns</p>\n",
       "</div>"
      ],
      "text/plain": [
       "               SPY                                                     \\\n",
       "              open      high       low   close     volume trade_count   \n",
       "2020-05-01  285.31  290.6572  281.5200  282.83  125180028      639987   \n",
       "2020-05-04  280.73  283.9000  279.1300  283.59   80882213      460681   \n",
       "2020-05-05  286.64  289.2500  283.7134  286.15   79569939      459764   \n",
       "2020-05-06  288.05  288.4600  283.7800  284.34   73632628      436219   \n",
       "2020-05-07  287.75  289.7800  287.1300  287.70   75250412      422688   \n",
       "...            ...       ...       ...     ...        ...         ...   \n",
       "2023-04-26  406.72  407.8400  403.7800  404.36   80954650      572128   \n",
       "2023-04-27  407.00  412.6900  406.7400  412.41   92968169      614868   \n",
       "2023-04-28  411.49  415.9300  411.4300  415.93   84857179      592226   \n",
       "2023-05-01  415.47  417.6200  415.2650  415.51   60527144      495345   \n",
       "2023-05-02  414.77  414.8200  407.8200  410.97   78915110      604281   \n",
       "\n",
       "                           AGG                                        \\\n",
       "                  vwap    open      high       low   close    volume   \n",
       "2020-05-01  284.092832  116.97  117.0998  116.6775  116.87   6099551   \n",
       "2020-05-04  281.765334  116.89  117.0900  116.8700  116.97   3684081   \n",
       "2020-05-05  287.400201  116.96  116.9700  116.8100  116.88   4611519   \n",
       "2020-05-06  286.096273  116.44  116.7100  116.3000  116.41   6394949   \n",
       "2020-05-07  287.989956  116.61  116.7700  116.4200  116.77   3786651   \n",
       "...                ...     ...       ...       ...     ...       ...   \n",
       "2023-04-26  405.591919  100.16  100.2200   99.7200   99.81   3723566   \n",
       "2023-04-27  410.101891   99.61   99.6300   99.3900   99.45   4018321   \n",
       "2023-04-28  414.377425   99.91   99.9900   99.7200   99.96   5314632   \n",
       "2023-05-01  416.216938   99.35   99.4100   98.5950   98.69  10479671   \n",
       "2023-05-02  411.089861   98.96   99.6600   98.9300   99.65   4619649   \n",
       "\n",
       "                                    \n",
       "           trade_count        vwap  \n",
       "2020-05-01       24394  116.846121  \n",
       "2020-05-04       15545  116.960599  \n",
       "2020-05-05       15146  116.879640  \n",
       "2020-05-06       20233  116.426742  \n",
       "2020-05-07       15963  116.641826  \n",
       "...                ...         ...  \n",
       "2023-04-26       18350   99.907609  \n",
       "2023-04-27       21343   99.478744  \n",
       "2023-04-28       24244   99.898951  \n",
       "2023-05-01       24169   99.028820  \n",
       "2023-05-02       23374   99.475031  \n",
       "\n",
       "[756 rows x 14 columns]"
      ]
     },
     "execution_count": 29,
     "metadata": {},
     "output_type": "execute_result"
    }
   ],
   "source": [
    "# Use the Alpaca get_bars function to make the API call to get the 3 years worth of pricing data\n",
    "# The tickers and timeframe parameters should have been set in Part 1  \n",
    "# The start and end dates should be updated with the information set above\n",
    "# Add the df property to the end of the call so the response is returned as a DataFrame\n",
    "historical_closing_df = alpaca.get_bars(\n",
    "    tickers,\n",
    "    timeframe,\n",
    "    start = start,\n",
    "    end = end\n",
    ").df\n",
    "\n",
    "# Reorganize the DataFrame\n",
    "# Separate ticker data\n",
    "spy_year = historical_closing_df[historical_closing_df['symbol']=='SPY'].drop('symbol', axis=1)\n",
    "agg_year = historical_closing_df[historical_closing_df['symbol']=='AGG'].drop('symbol', axis=1)\n",
    "\n",
    "# Concatenate the ticker DataFrames\n",
    "historical_closing_df = pd.concat([spy_year, agg_year],axis=1, keys=['SPY','AGG'])\n",
    "\n",
    "# Drop the time component of the date\n",
    "historical_closing_df.index = historical_closing_df.index.date\n",
    "\n",
    "# Display both the first and last five rows of the DataFrame\n",
    "historical_closing_df\n"
   ]
  },
  {
   "cell_type": "markdown",
   "metadata": {},
   "source": [
    "#### Step 2: Run a Monte Carlo simulation of 500 samples and 30 years for the 60/40 portfolio, and then plot the results."
   ]
  },
  {
   "cell_type": "code",
   "execution_count": 30,
   "metadata": {},
   "outputs": [
    {
     "data": {
      "text/html": [
       "<div>\n",
       "<style scoped>\n",
       "    .dataframe tbody tr th:only-of-type {\n",
       "        vertical-align: middle;\n",
       "    }\n",
       "\n",
       "    .dataframe tbody tr th {\n",
       "        vertical-align: top;\n",
       "    }\n",
       "\n",
       "    .dataframe thead tr th {\n",
       "        text-align: left;\n",
       "    }\n",
       "</style>\n",
       "<table border=\"1\" class=\"dataframe\">\n",
       "  <thead>\n",
       "    <tr>\n",
       "      <th></th>\n",
       "      <th colspan=\"8\" halign=\"left\">SPY</th>\n",
       "      <th colspan=\"8\" halign=\"left\">AGG</th>\n",
       "    </tr>\n",
       "    <tr>\n",
       "      <th></th>\n",
       "      <th>open</th>\n",
       "      <th>high</th>\n",
       "      <th>low</th>\n",
       "      <th>close</th>\n",
       "      <th>volume</th>\n",
       "      <th>trade_count</th>\n",
       "      <th>vwap</th>\n",
       "      <th>daily_return</th>\n",
       "      <th>open</th>\n",
       "      <th>high</th>\n",
       "      <th>low</th>\n",
       "      <th>close</th>\n",
       "      <th>volume</th>\n",
       "      <th>trade_count</th>\n",
       "      <th>vwap</th>\n",
       "      <th>daily_return</th>\n",
       "    </tr>\n",
       "  </thead>\n",
       "  <tbody>\n",
       "    <tr>\n",
       "      <th>2020-05-01</th>\n",
       "      <td>285.31</td>\n",
       "      <td>290.6572</td>\n",
       "      <td>281.5200</td>\n",
       "      <td>282.83</td>\n",
       "      <td>125180028</td>\n",
       "      <td>639987</td>\n",
       "      <td>284.092832</td>\n",
       "      <td>NaN</td>\n",
       "      <td>116.97</td>\n",
       "      <td>117.0998</td>\n",
       "      <td>116.6775</td>\n",
       "      <td>116.87</td>\n",
       "      <td>6099551</td>\n",
       "      <td>24394</td>\n",
       "      <td>116.846121</td>\n",
       "      <td>NaN</td>\n",
       "    </tr>\n",
       "    <tr>\n",
       "      <th>2020-05-04</th>\n",
       "      <td>280.73</td>\n",
       "      <td>283.9000</td>\n",
       "      <td>279.1300</td>\n",
       "      <td>283.59</td>\n",
       "      <td>80882213</td>\n",
       "      <td>460681</td>\n",
       "      <td>281.765334</td>\n",
       "      <td>0.002687</td>\n",
       "      <td>116.89</td>\n",
       "      <td>117.0900</td>\n",
       "      <td>116.8700</td>\n",
       "      <td>116.97</td>\n",
       "      <td>3684081</td>\n",
       "      <td>15545</td>\n",
       "      <td>116.960599</td>\n",
       "      <td>0.000856</td>\n",
       "    </tr>\n",
       "    <tr>\n",
       "      <th>2020-05-05</th>\n",
       "      <td>286.64</td>\n",
       "      <td>289.2500</td>\n",
       "      <td>283.7134</td>\n",
       "      <td>286.15</td>\n",
       "      <td>79569939</td>\n",
       "      <td>459764</td>\n",
       "      <td>287.400201</td>\n",
       "      <td>0.009027</td>\n",
       "      <td>116.96</td>\n",
       "      <td>116.9700</td>\n",
       "      <td>116.8100</td>\n",
       "      <td>116.88</td>\n",
       "      <td>4611519</td>\n",
       "      <td>15146</td>\n",
       "      <td>116.879640</td>\n",
       "      <td>-0.000769</td>\n",
       "    </tr>\n",
       "    <tr>\n",
       "      <th>2020-05-06</th>\n",
       "      <td>288.05</td>\n",
       "      <td>288.4600</td>\n",
       "      <td>283.7800</td>\n",
       "      <td>284.34</td>\n",
       "      <td>73632628</td>\n",
       "      <td>436219</td>\n",
       "      <td>286.096273</td>\n",
       "      <td>-0.006325</td>\n",
       "      <td>116.44</td>\n",
       "      <td>116.7100</td>\n",
       "      <td>116.3000</td>\n",
       "      <td>116.41</td>\n",
       "      <td>6394949</td>\n",
       "      <td>20233</td>\n",
       "      <td>116.426742</td>\n",
       "      <td>-0.004021</td>\n",
       "    </tr>\n",
       "    <tr>\n",
       "      <th>2020-05-07</th>\n",
       "      <td>287.75</td>\n",
       "      <td>289.7800</td>\n",
       "      <td>287.1300</td>\n",
       "      <td>287.70</td>\n",
       "      <td>75250412</td>\n",
       "      <td>422688</td>\n",
       "      <td>287.989956</td>\n",
       "      <td>0.011817</td>\n",
       "      <td>116.61</td>\n",
       "      <td>116.7700</td>\n",
       "      <td>116.4200</td>\n",
       "      <td>116.77</td>\n",
       "      <td>3786651</td>\n",
       "      <td>15963</td>\n",
       "      <td>116.641826</td>\n",
       "      <td>0.003093</td>\n",
       "    </tr>\n",
       "  </tbody>\n",
       "</table>\n",
       "</div>"
      ],
      "text/plain": [
       "               SPY                                                     \\\n",
       "              open      high       low   close     volume trade_count   \n",
       "2020-05-01  285.31  290.6572  281.5200  282.83  125180028      639987   \n",
       "2020-05-04  280.73  283.9000  279.1300  283.59   80882213      460681   \n",
       "2020-05-05  286.64  289.2500  283.7134  286.15   79569939      459764   \n",
       "2020-05-06  288.05  288.4600  283.7800  284.34   73632628      436219   \n",
       "2020-05-07  287.75  289.7800  287.1300  287.70   75250412      422688   \n",
       "\n",
       "                                        AGG                              \\\n",
       "                  vwap daily_return    open      high       low   close   \n",
       "2020-05-01  284.092832          NaN  116.97  117.0998  116.6775  116.87   \n",
       "2020-05-04  281.765334     0.002687  116.89  117.0900  116.8700  116.97   \n",
       "2020-05-05  287.400201     0.009027  116.96  116.9700  116.8100  116.88   \n",
       "2020-05-06  286.096273    -0.006325  116.44  116.7100  116.3000  116.41   \n",
       "2020-05-07  287.989956     0.011817  116.61  116.7700  116.4200  116.77   \n",
       "\n",
       "                                                          \n",
       "             volume trade_count        vwap daily_return  \n",
       "2020-05-01  6099551       24394  116.846121          NaN  \n",
       "2020-05-04  3684081       15545  116.960599     0.000856  \n",
       "2020-05-05  4611519       15146  116.879640    -0.000769  \n",
       "2020-05-06  6394949       20233  116.426742    -0.004021  \n",
       "2020-05-07  3786651       15963  116.641826     0.003093  "
      ]
     },
     "execution_count": 30,
     "metadata": {},
     "output_type": "execute_result"
    }
   ],
   "source": [
    "# Configure the Monte Carlo simulation to forecast 30 years cumulative returns\n",
    "# The weights should be split 40% to AGG and 60% to SPY.\n",
    "# Run 500 samples.\n",
    "# Create a simulation object\n",
    "thirty_year_simulation = MCSimulation(\n",
    "    portfolio_data=historical_closing_df,\n",
    "    weights=[0.6, 0.4],\n",
    "    num_simulation=500,\n",
    "    num_trading_days=252*30,\n",
    ")\n",
    "\n",
    "\n",
    "# Review the simulation input data\n",
    "thirty_year_simulation.portfolio_data.head()"
   ]
  },
  {
   "cell_type": "code",
   "execution_count": 31,
   "metadata": {},
   "outputs": [
    {
     "name": "stdout",
     "output_type": "stream",
     "text": [
      "Running Monte Carlo simulation number 0.\n",
      "Running Monte Carlo simulation number 10.\n",
      "Running Monte Carlo simulation number 20.\n",
      "Running Monte Carlo simulation number 30.\n",
      "Running Monte Carlo simulation number 40.\n",
      "Running Monte Carlo simulation number 50.\n",
      "Running Monte Carlo simulation number 60.\n",
      "Running Monte Carlo simulation number 70.\n",
      "Running Monte Carlo simulation number 80.\n",
      "Running Monte Carlo simulation number 90.\n",
      "Running Monte Carlo simulation number 100.\n"
     ]
    },
    {
     "name": "stderr",
     "output_type": "stream",
     "text": [
      "/Users/colefrederick/Desktop/Folders/Coding/Bootcamp/Challenge/Module_5_Challenge/Financial_Planner/MCForecastTools.py:117: PerformanceWarning: DataFrame is highly fragmented.  This is usually the result of calling `frame.insert` many times, which has poor performance.  Consider joining all columns at once using pd.concat(axis=1) instead.  To get a de-fragmented frame, use `newframe = frame.copy()`\n",
      "  portfolio_cumulative_returns[n] = (1 + sim_df.fillna(0)).cumprod()\n"
     ]
    },
    {
     "name": "stdout",
     "output_type": "stream",
     "text": [
      "Running Monte Carlo simulation number 110.\n",
      "Running Monte Carlo simulation number 120.\n",
      "Running Monte Carlo simulation number 130.\n",
      "Running Monte Carlo simulation number 140.\n",
      "Running Monte Carlo simulation number 150.\n",
      "Running Monte Carlo simulation number 160.\n",
      "Running Monte Carlo simulation number 170.\n",
      "Running Monte Carlo simulation number 180.\n",
      "Running Monte Carlo simulation number 190.\n",
      "Running Monte Carlo simulation number 200.\n",
      "Running Monte Carlo simulation number 210.\n",
      "Running Monte Carlo simulation number 220.\n",
      "Running Monte Carlo simulation number 230.\n",
      "Running Monte Carlo simulation number 240.\n",
      "Running Monte Carlo simulation number 250.\n",
      "Running Monte Carlo simulation number 260.\n",
      "Running Monte Carlo simulation number 270.\n",
      "Running Monte Carlo simulation number 280.\n",
      "Running Monte Carlo simulation number 290.\n",
      "Running Monte Carlo simulation number 300.\n",
      "Running Monte Carlo simulation number 310.\n",
      "Running Monte Carlo simulation number 320.\n",
      "Running Monte Carlo simulation number 330.\n",
      "Running Monte Carlo simulation number 340.\n",
      "Running Monte Carlo simulation number 350.\n",
      "Running Monte Carlo simulation number 360.\n",
      "Running Monte Carlo simulation number 370.\n",
      "Running Monte Carlo simulation number 380.\n",
      "Running Monte Carlo simulation number 390.\n",
      "Running Monte Carlo simulation number 400.\n",
      "Running Monte Carlo simulation number 410.\n",
      "Running Monte Carlo simulation number 420.\n",
      "Running Monte Carlo simulation number 430.\n",
      "Running Monte Carlo simulation number 440.\n",
      "Running Monte Carlo simulation number 450.\n",
      "Running Monte Carlo simulation number 460.\n",
      "Running Monte Carlo simulation number 470.\n",
      "Running Monte Carlo simulation number 480.\n",
      "Running Monte Carlo simulation number 490.\n"
     ]
    },
    {
     "data": {
      "text/html": [
       "<div>\n",
       "<style scoped>\n",
       "    .dataframe tbody tr th:only-of-type {\n",
       "        vertical-align: middle;\n",
       "    }\n",
       "\n",
       "    .dataframe tbody tr th {\n",
       "        vertical-align: top;\n",
       "    }\n",
       "\n",
       "    .dataframe thead th {\n",
       "        text-align: right;\n",
       "    }\n",
       "</style>\n",
       "<table border=\"1\" class=\"dataframe\">\n",
       "  <thead>\n",
       "    <tr style=\"text-align: right;\">\n",
       "      <th></th>\n",
       "      <th>0</th>\n",
       "      <th>1</th>\n",
       "      <th>2</th>\n",
       "      <th>3</th>\n",
       "      <th>4</th>\n",
       "      <th>5</th>\n",
       "      <th>6</th>\n",
       "      <th>7</th>\n",
       "      <th>8</th>\n",
       "      <th>9</th>\n",
       "      <th>...</th>\n",
       "      <th>490</th>\n",
       "      <th>491</th>\n",
       "      <th>492</th>\n",
       "      <th>493</th>\n",
       "      <th>494</th>\n",
       "      <th>495</th>\n",
       "      <th>496</th>\n",
       "      <th>497</th>\n",
       "      <th>498</th>\n",
       "      <th>499</th>\n",
       "    </tr>\n",
       "  </thead>\n",
       "  <tbody>\n",
       "    <tr>\n",
       "      <th>0</th>\n",
       "      <td>1.000000</td>\n",
       "      <td>1.000000</td>\n",
       "      <td>1.000000</td>\n",
       "      <td>1.000000</td>\n",
       "      <td>1.000000</td>\n",
       "      <td>1.000000</td>\n",
       "      <td>1.000000</td>\n",
       "      <td>1.000000</td>\n",
       "      <td>1.000000</td>\n",
       "      <td>1.000000</td>\n",
       "      <td>...</td>\n",
       "      <td>1.000000</td>\n",
       "      <td>1.000000</td>\n",
       "      <td>1.000000</td>\n",
       "      <td>1.000000</td>\n",
       "      <td>1.000000</td>\n",
       "      <td>1.000000</td>\n",
       "      <td>1.000000</td>\n",
       "      <td>1.000000</td>\n",
       "      <td>1.000000</td>\n",
       "      <td>1.000000</td>\n",
       "    </tr>\n",
       "    <tr>\n",
       "      <th>1</th>\n",
       "      <td>0.987722</td>\n",
       "      <td>1.003990</td>\n",
       "      <td>0.996617</td>\n",
       "      <td>0.995688</td>\n",
       "      <td>0.999390</td>\n",
       "      <td>0.998139</td>\n",
       "      <td>1.012937</td>\n",
       "      <td>1.000448</td>\n",
       "      <td>0.990436</td>\n",
       "      <td>0.991604</td>\n",
       "      <td>...</td>\n",
       "      <td>1.012060</td>\n",
       "      <td>1.007747</td>\n",
       "      <td>1.001582</td>\n",
       "      <td>1.006239</td>\n",
       "      <td>1.004120</td>\n",
       "      <td>0.987287</td>\n",
       "      <td>1.005412</td>\n",
       "      <td>1.007682</td>\n",
       "      <td>0.991549</td>\n",
       "      <td>0.995154</td>\n",
       "    </tr>\n",
       "    <tr>\n",
       "      <th>2</th>\n",
       "      <td>0.980969</td>\n",
       "      <td>1.007407</td>\n",
       "      <td>0.988407</td>\n",
       "      <td>1.001486</td>\n",
       "      <td>0.998344</td>\n",
       "      <td>0.996152</td>\n",
       "      <td>1.028276</td>\n",
       "      <td>0.998141</td>\n",
       "      <td>0.982828</td>\n",
       "      <td>0.989279</td>\n",
       "      <td>...</td>\n",
       "      <td>1.019968</td>\n",
       "      <td>1.001981</td>\n",
       "      <td>1.008809</td>\n",
       "      <td>1.008612</td>\n",
       "      <td>1.016340</td>\n",
       "      <td>0.969331</td>\n",
       "      <td>0.998930</td>\n",
       "      <td>1.003275</td>\n",
       "      <td>0.994839</td>\n",
       "      <td>1.007678</td>\n",
       "    </tr>\n",
       "    <tr>\n",
       "      <th>3</th>\n",
       "      <td>0.989488</td>\n",
       "      <td>1.008983</td>\n",
       "      <td>0.985707</td>\n",
       "      <td>1.001016</td>\n",
       "      <td>0.994573</td>\n",
       "      <td>0.996722</td>\n",
       "      <td>1.023849</td>\n",
       "      <td>1.000508</td>\n",
       "      <td>0.995490</td>\n",
       "      <td>0.985545</td>\n",
       "      <td>...</td>\n",
       "      <td>1.014930</td>\n",
       "      <td>1.001414</td>\n",
       "      <td>1.011114</td>\n",
       "      <td>1.019711</td>\n",
       "      <td>1.019137</td>\n",
       "      <td>0.972034</td>\n",
       "      <td>0.991168</td>\n",
       "      <td>0.996127</td>\n",
       "      <td>1.000667</td>\n",
       "      <td>1.013419</td>\n",
       "    </tr>\n",
       "    <tr>\n",
       "      <th>4</th>\n",
       "      <td>0.977309</td>\n",
       "      <td>1.007966</td>\n",
       "      <td>0.988274</td>\n",
       "      <td>1.001706</td>\n",
       "      <td>0.991265</td>\n",
       "      <td>1.003893</td>\n",
       "      <td>1.033724</td>\n",
       "      <td>1.002775</td>\n",
       "      <td>0.991615</td>\n",
       "      <td>0.987886</td>\n",
       "      <td>...</td>\n",
       "      <td>1.032594</td>\n",
       "      <td>0.990737</td>\n",
       "      <td>1.016027</td>\n",
       "      <td>1.023003</td>\n",
       "      <td>1.028363</td>\n",
       "      <td>0.972223</td>\n",
       "      <td>0.989121</td>\n",
       "      <td>0.994327</td>\n",
       "      <td>0.991215</td>\n",
       "      <td>1.017868</td>\n",
       "    </tr>\n",
       "    <tr>\n",
       "      <th>...</th>\n",
       "      <td>...</td>\n",
       "      <td>...</td>\n",
       "      <td>...</td>\n",
       "      <td>...</td>\n",
       "      <td>...</td>\n",
       "      <td>...</td>\n",
       "      <td>...</td>\n",
       "      <td>...</td>\n",
       "      <td>...</td>\n",
       "      <td>...</td>\n",
       "      <td>...</td>\n",
       "      <td>...</td>\n",
       "      <td>...</td>\n",
       "      <td>...</td>\n",
       "      <td>...</td>\n",
       "      <td>...</td>\n",
       "      <td>...</td>\n",
       "      <td>...</td>\n",
       "      <td>...</td>\n",
       "      <td>...</td>\n",
       "      <td>...</td>\n",
       "    </tr>\n",
       "    <tr>\n",
       "      <th>7556</th>\n",
       "      <td>3.394611</td>\n",
       "      <td>4.491930</td>\n",
       "      <td>3.448641</td>\n",
       "      <td>2.596843</td>\n",
       "      <td>3.977964</td>\n",
       "      <td>8.150745</td>\n",
       "      <td>7.443794</td>\n",
       "      <td>7.911048</td>\n",
       "      <td>6.590113</td>\n",
       "      <td>7.457740</td>\n",
       "      <td>...</td>\n",
       "      <td>8.074845</td>\n",
       "      <td>9.885168</td>\n",
       "      <td>3.148646</td>\n",
       "      <td>11.000073</td>\n",
       "      <td>7.099184</td>\n",
       "      <td>5.044326</td>\n",
       "      <td>2.870699</td>\n",
       "      <td>10.075922</td>\n",
       "      <td>8.900841</td>\n",
       "      <td>7.977562</td>\n",
       "    </tr>\n",
       "    <tr>\n",
       "      <th>7557</th>\n",
       "      <td>3.398192</td>\n",
       "      <td>4.452741</td>\n",
       "      <td>3.447281</td>\n",
       "      <td>2.614439</td>\n",
       "      <td>3.986177</td>\n",
       "      <td>8.325851</td>\n",
       "      <td>7.485128</td>\n",
       "      <td>7.848044</td>\n",
       "      <td>6.653980</td>\n",
       "      <td>7.474169</td>\n",
       "      <td>...</td>\n",
       "      <td>8.060506</td>\n",
       "      <td>9.890757</td>\n",
       "      <td>3.136549</td>\n",
       "      <td>11.008822</td>\n",
       "      <td>7.066201</td>\n",
       "      <td>5.125604</td>\n",
       "      <td>2.884826</td>\n",
       "      <td>10.204504</td>\n",
       "      <td>8.708195</td>\n",
       "      <td>7.985715</td>\n",
       "    </tr>\n",
       "    <tr>\n",
       "      <th>7558</th>\n",
       "      <td>3.352188</td>\n",
       "      <td>4.416778</td>\n",
       "      <td>3.416583</td>\n",
       "      <td>2.640700</td>\n",
       "      <td>3.960412</td>\n",
       "      <td>8.261538</td>\n",
       "      <td>7.505071</td>\n",
       "      <td>7.831631</td>\n",
       "      <td>6.665496</td>\n",
       "      <td>7.471908</td>\n",
       "      <td>...</td>\n",
       "      <td>8.025990</td>\n",
       "      <td>9.950000</td>\n",
       "      <td>3.104376</td>\n",
       "      <td>11.041300</td>\n",
       "      <td>7.043366</td>\n",
       "      <td>5.119795</td>\n",
       "      <td>2.870279</td>\n",
       "      <td>10.132358</td>\n",
       "      <td>8.620810</td>\n",
       "      <td>7.977687</td>\n",
       "    </tr>\n",
       "    <tr>\n",
       "      <th>7559</th>\n",
       "      <td>3.353133</td>\n",
       "      <td>4.433583</td>\n",
       "      <td>3.421353</td>\n",
       "      <td>2.674900</td>\n",
       "      <td>3.964174</td>\n",
       "      <td>8.202848</td>\n",
       "      <td>7.396414</td>\n",
       "      <td>7.871701</td>\n",
       "      <td>6.668074</td>\n",
       "      <td>7.505260</td>\n",
       "      <td>...</td>\n",
       "      <td>8.034051</td>\n",
       "      <td>9.752364</td>\n",
       "      <td>3.089732</td>\n",
       "      <td>11.039132</td>\n",
       "      <td>7.050149</td>\n",
       "      <td>5.102204</td>\n",
       "      <td>2.868117</td>\n",
       "      <td>10.121802</td>\n",
       "      <td>8.574011</td>\n",
       "      <td>7.945570</td>\n",
       "    </tr>\n",
       "    <tr>\n",
       "      <th>7560</th>\n",
       "      <td>3.349154</td>\n",
       "      <td>4.459330</td>\n",
       "      <td>3.433014</td>\n",
       "      <td>2.658392</td>\n",
       "      <td>3.940447</td>\n",
       "      <td>8.226901</td>\n",
       "      <td>7.400374</td>\n",
       "      <td>7.822316</td>\n",
       "      <td>6.663471</td>\n",
       "      <td>7.478662</td>\n",
       "      <td>...</td>\n",
       "      <td>8.129441</td>\n",
       "      <td>9.723020</td>\n",
       "      <td>3.118924</td>\n",
       "      <td>10.998429</td>\n",
       "      <td>7.063677</td>\n",
       "      <td>5.094193</td>\n",
       "      <td>2.861649</td>\n",
       "      <td>10.025529</td>\n",
       "      <td>8.438760</td>\n",
       "      <td>8.030483</td>\n",
       "    </tr>\n",
       "  </tbody>\n",
       "</table>\n",
       "<p>7561 rows × 500 columns</p>\n",
       "</div>"
      ],
      "text/plain": [
       "           0         1         2         3         4         5         6    \\\n",
       "0     1.000000  1.000000  1.000000  1.000000  1.000000  1.000000  1.000000   \n",
       "1     0.987722  1.003990  0.996617  0.995688  0.999390  0.998139  1.012937   \n",
       "2     0.980969  1.007407  0.988407  1.001486  0.998344  0.996152  1.028276   \n",
       "3     0.989488  1.008983  0.985707  1.001016  0.994573  0.996722  1.023849   \n",
       "4     0.977309  1.007966  0.988274  1.001706  0.991265  1.003893  1.033724   \n",
       "...        ...       ...       ...       ...       ...       ...       ...   \n",
       "7556  3.394611  4.491930  3.448641  2.596843  3.977964  8.150745  7.443794   \n",
       "7557  3.398192  4.452741  3.447281  2.614439  3.986177  8.325851  7.485128   \n",
       "7558  3.352188  4.416778  3.416583  2.640700  3.960412  8.261538  7.505071   \n",
       "7559  3.353133  4.433583  3.421353  2.674900  3.964174  8.202848  7.396414   \n",
       "7560  3.349154  4.459330  3.433014  2.658392  3.940447  8.226901  7.400374   \n",
       "\n",
       "           7         8         9    ...       490       491       492  \\\n",
       "0     1.000000  1.000000  1.000000  ...  1.000000  1.000000  1.000000   \n",
       "1     1.000448  0.990436  0.991604  ...  1.012060  1.007747  1.001582   \n",
       "2     0.998141  0.982828  0.989279  ...  1.019968  1.001981  1.008809   \n",
       "3     1.000508  0.995490  0.985545  ...  1.014930  1.001414  1.011114   \n",
       "4     1.002775  0.991615  0.987886  ...  1.032594  0.990737  1.016027   \n",
       "...        ...       ...       ...  ...       ...       ...       ...   \n",
       "7556  7.911048  6.590113  7.457740  ...  8.074845  9.885168  3.148646   \n",
       "7557  7.848044  6.653980  7.474169  ...  8.060506  9.890757  3.136549   \n",
       "7558  7.831631  6.665496  7.471908  ...  8.025990  9.950000  3.104376   \n",
       "7559  7.871701  6.668074  7.505260  ...  8.034051  9.752364  3.089732   \n",
       "7560  7.822316  6.663471  7.478662  ...  8.129441  9.723020  3.118924   \n",
       "\n",
       "            493       494       495       496        497       498       499  \n",
       "0      1.000000  1.000000  1.000000  1.000000   1.000000  1.000000  1.000000  \n",
       "1      1.006239  1.004120  0.987287  1.005412   1.007682  0.991549  0.995154  \n",
       "2      1.008612  1.016340  0.969331  0.998930   1.003275  0.994839  1.007678  \n",
       "3      1.019711  1.019137  0.972034  0.991168   0.996127  1.000667  1.013419  \n",
       "4      1.023003  1.028363  0.972223  0.989121   0.994327  0.991215  1.017868  \n",
       "...         ...       ...       ...       ...        ...       ...       ...  \n",
       "7556  11.000073  7.099184  5.044326  2.870699  10.075922  8.900841  7.977562  \n",
       "7557  11.008822  7.066201  5.125604  2.884826  10.204504  8.708195  7.985715  \n",
       "7558  11.041300  7.043366  5.119795  2.870279  10.132358  8.620810  7.977687  \n",
       "7559  11.039132  7.050149  5.102204  2.868117  10.121802  8.574011  7.945570  \n",
       "7560  10.998429  7.063677  5.094193  2.861649  10.025529  8.438760  8.030483  \n",
       "\n",
       "[7561 rows x 500 columns]"
      ]
     },
     "execution_count": 31,
     "metadata": {},
     "output_type": "execute_result"
    }
   ],
   "source": [
    "# Run the Monte Carlo simulation to forecast 30 years cumulative returns\n",
    "thirty_year_simulation.calc_cumulative_return()"
   ]
  },
  {
   "cell_type": "code",
   "execution_count": 32,
   "metadata": {},
   "outputs": [
    {
     "data": {
      "text/plain": [
       "<AxesSubplot:title={'center':'500 Simulations of Cumulative Portfolio Return Trajectories Over the Next 7560 Trading Days.'}>"
      ]
     },
     "execution_count": 32,
     "metadata": {},
     "output_type": "execute_result"
    },
    {
     "data": {
      "image/png": "[encoded data removed]",
      "text/plain": [
       "<Figure size 640x480 with 1 Axes>"
      ]
     },
     "metadata": {},
     "output_type": "display_data"
    }
   ],
   "source": [
    "# Visualize the 30-year Monte Carlo simulation by creating an\n",
    "# overlay line plot\n",
    "thirty_year_simulation.plot_simulation()"
   ]
  },
  {
   "cell_type": "markdown",
   "metadata": {},
   "source": [
    "#### Step 3: Plot the probability distribution of the Monte Carlo simulation."
   ]
  },
  {
   "cell_type": "code",
   "execution_count": 33,
   "metadata": {},
   "outputs": [
    {
     "data": {
      "text/plain": [
       "<AxesSubplot:title={'center':'Distribution of Final Cumuluative Returns Across All 500 Simulations'}, ylabel='Frequency'>"
      ]
     },
     "execution_count": 33,
     "metadata": {},
     "output_type": "execute_result"
    },
    {
     "data": {
      "image/png": "[encoded data removed]",
      "text/plain": [
       "<Figure size 640x480 with 1 Axes>"
      ]
     },
     "metadata": {},
     "output_type": "display_data"
    }
   ],
   "source": [
    "# Visualize the probability distribution of the 30-year Monte Carlo simulation \n",
    "# by plotting a histogram\n",
    "thirty_year_simulation.plot_distribution()"
   ]
  },
  {
   "cell_type": "markdown",
   "metadata": {},
   "source": [
    "#### Step 4: Generate the summary statistics for the Monte Carlo simulation."
   ]
  },
  {
   "cell_type": "code",
   "execution_count": 34,
   "metadata": {},
   "outputs": [
    {
     "data": {
      "text/plain": [
       "count           500.000000\n",
       "mean              6.690259\n",
       "std               4.329435\n",
       "min               0.558091\n",
       "25%               3.838639\n",
       "50%               5.745629\n",
       "75%               8.308727\n",
       "max              34.570331\n",
       "95% CI Lower      1.357002\n",
       "95% CI Upper     16.452033\n",
       "Name: 7560, dtype: float64"
      ]
     },
     "execution_count": 34,
     "metadata": {},
     "output_type": "execute_result"
    }
   ],
   "source": [
    "# Generate summary statistics from the 30-year Monte Carlo simulation results\n",
    "# Save the results as a variable\n",
    "thirty_year_simulation_statistics = thirty_year_simulation.summarize_cumulative_return()\n",
    "\n",
    "# Review the 30-year Monte Carlo summary statistics\n",
    "thirty_year_simulation_statistics\n"
   ]
  },
  {
   "cell_type": "markdown",
   "metadata": {},
   "source": [
    "### 30 Year Plan Analysis "
   ]
  },
  {
   "cell_type": "code",
   "execution_count": 35,
   "metadata": {},
   "outputs": [
    {
     "data": {
      "text/plain": [
       "65444.1"
      ]
     },
     "execution_count": 35,
     "metadata": {},
     "output_type": "execute_result"
    }
   ],
   "source": [
    "# Print the current balance of the stock and bond portion of the user's portfolio\n",
    "total_stocks_bonds"
   ]
  },
  {
   "cell_type": "code",
   "execution_count": 36,
   "metadata": {},
   "outputs": [
    {
     "name": "stdout",
     "output_type": "stream",
     "text": [
      "There is a 95% chance that the current portfolio investment total of 65444.1  with a weight of 60% stock 40% bond will end within in the range of $88807.79 and $1076688.48 over the next 30 years.\n"
     ]
    }
   ],
   "source": [
    "# Use the lower and upper `95%` confidence intervals to calculate the range of the possible outcomes for the current stock/bond portfolio\n",
    "ci_lower_thirty_cumulative_return = round(thirty_year_simulation_statistics[8]*total_stocks_bonds,2)\n",
    "ci_upper_thirty_cumulative_return = round(thirty_year_simulation_statistics[9]*total_stocks_bonds,2)\n",
    "\n",
    "# Print the result of the calculations\n",
    "print(f\"There is a 95% chance that the current portfolio investment total of {total_stocks_bonds} \"\n",
    "      f\" with a weight of 60% stock 40% bond will end within in the range of\"\n",
    "      f\" ${ci_lower_thirty_cumulative_return} and ${ci_upper_thirty_cumulative_return} over the next 30 years.\")"
   ]
  },
  {
   "cell_type": "markdown",
   "metadata": {},
   "source": [
    "### Forecast Cumulative Returns in 10 Years\n",
    "\n",
    "The next task is to adjust the retirement portfolio and run a new Monte Carlo simulation to find out if the changes will allow users to retire earlier.\n",
    "\n",
    "This new Monte Carlo simulation does the following: \n",
    "\n",
    "- Forecast the cumulative returns for 10 years from now. Because of the shortened investment horizon (30 years to 10 years), the portfolio needs to invest more heavily in the riskier asset&mdash;that is, stock&mdash;to help accumulate wealth for retirement. \n",
    "\n",
    "- Adjust the weights of the retirement portfolio so that the composition for the Monte Carlo simulation consists of 20% bonds and 80% stocks. \n",
    "\n",
    "- Run the simulation over 500 samples, and use the same data that the API call to Alpaca generated.\n",
    "\n",
    "- Based on the new Monte Carlo simulation, we will aim to answer the following questions:\n",
    "\n",
    "    - Using the current value of only the stock and bond portion of the user's portfolio and the summary statistics that were generated from the new Monte Carlo simulation, what are the lower and upper bounds for the expected value of the portfolio (with the new weights) with a 95% confidence interval?\n",
    "\n",
    "    - Will weighting the portfolio more heavily toward stocks allow the users to retire after only 10 years?\n"
   ]
  },
  {
   "cell_type": "code",
   "execution_count": 37,
   "metadata": {},
   "outputs": [
    {
     "data": {
      "text/html": [
       "<div>\n",
       "<style scoped>\n",
       "    .dataframe tbody tr th:only-of-type {\n",
       "        vertical-align: middle;\n",
       "    }\n",
       "\n",
       "    .dataframe tbody tr th {\n",
       "        vertical-align: top;\n",
       "    }\n",
       "\n",
       "    .dataframe thead tr th {\n",
       "        text-align: left;\n",
       "    }\n",
       "</style>\n",
       "<table border=\"1\" class=\"dataframe\">\n",
       "  <thead>\n",
       "    <tr>\n",
       "      <th></th>\n",
       "      <th colspan=\"8\" halign=\"left\">SPY</th>\n",
       "      <th colspan=\"8\" halign=\"left\">AGG</th>\n",
       "    </tr>\n",
       "    <tr>\n",
       "      <th></th>\n",
       "      <th>open</th>\n",
       "      <th>high</th>\n",
       "      <th>low</th>\n",
       "      <th>close</th>\n",
       "      <th>volume</th>\n",
       "      <th>trade_count</th>\n",
       "      <th>vwap</th>\n",
       "      <th>daily_return</th>\n",
       "      <th>open</th>\n",
       "      <th>high</th>\n",
       "      <th>low</th>\n",
       "      <th>close</th>\n",
       "      <th>volume</th>\n",
       "      <th>trade_count</th>\n",
       "      <th>vwap</th>\n",
       "      <th>daily_return</th>\n",
       "    </tr>\n",
       "  </thead>\n",
       "  <tbody>\n",
       "    <tr>\n",
       "      <th>2020-05-01</th>\n",
       "      <td>285.31</td>\n",
       "      <td>290.6572</td>\n",
       "      <td>281.5200</td>\n",
       "      <td>282.83</td>\n",
       "      <td>125180028</td>\n",
       "      <td>639987</td>\n",
       "      <td>284.092832</td>\n",
       "      <td>NaN</td>\n",
       "      <td>116.97</td>\n",
       "      <td>117.0998</td>\n",
       "      <td>116.6775</td>\n",
       "      <td>116.87</td>\n",
       "      <td>6099551</td>\n",
       "      <td>24394</td>\n",
       "      <td>116.846121</td>\n",
       "      <td>NaN</td>\n",
       "    </tr>\n",
       "    <tr>\n",
       "      <th>2020-05-04</th>\n",
       "      <td>280.73</td>\n",
       "      <td>283.9000</td>\n",
       "      <td>279.1300</td>\n",
       "      <td>283.59</td>\n",
       "      <td>80882213</td>\n",
       "      <td>460681</td>\n",
       "      <td>281.765334</td>\n",
       "      <td>0.002687</td>\n",
       "      <td>116.89</td>\n",
       "      <td>117.0900</td>\n",
       "      <td>116.8700</td>\n",
       "      <td>116.97</td>\n",
       "      <td>3684081</td>\n",
       "      <td>15545</td>\n",
       "      <td>116.960599</td>\n",
       "      <td>0.000856</td>\n",
       "    </tr>\n",
       "    <tr>\n",
       "      <th>2020-05-05</th>\n",
       "      <td>286.64</td>\n",
       "      <td>289.2500</td>\n",
       "      <td>283.7134</td>\n",
       "      <td>286.15</td>\n",
       "      <td>79569939</td>\n",
       "      <td>459764</td>\n",
       "      <td>287.400201</td>\n",
       "      <td>0.009027</td>\n",
       "      <td>116.96</td>\n",
       "      <td>116.9700</td>\n",
       "      <td>116.8100</td>\n",
       "      <td>116.88</td>\n",
       "      <td>4611519</td>\n",
       "      <td>15146</td>\n",
       "      <td>116.879640</td>\n",
       "      <td>-0.000769</td>\n",
       "    </tr>\n",
       "    <tr>\n",
       "      <th>2020-05-06</th>\n",
       "      <td>288.05</td>\n",
       "      <td>288.4600</td>\n",
       "      <td>283.7800</td>\n",
       "      <td>284.34</td>\n",
       "      <td>73632628</td>\n",
       "      <td>436219</td>\n",
       "      <td>286.096273</td>\n",
       "      <td>-0.006325</td>\n",
       "      <td>116.44</td>\n",
       "      <td>116.7100</td>\n",
       "      <td>116.3000</td>\n",
       "      <td>116.41</td>\n",
       "      <td>6394949</td>\n",
       "      <td>20233</td>\n",
       "      <td>116.426742</td>\n",
       "      <td>-0.004021</td>\n",
       "    </tr>\n",
       "    <tr>\n",
       "      <th>2020-05-07</th>\n",
       "      <td>287.75</td>\n",
       "      <td>289.7800</td>\n",
       "      <td>287.1300</td>\n",
       "      <td>287.70</td>\n",
       "      <td>75250412</td>\n",
       "      <td>422688</td>\n",
       "      <td>287.989956</td>\n",
       "      <td>0.011817</td>\n",
       "      <td>116.61</td>\n",
       "      <td>116.7700</td>\n",
       "      <td>116.4200</td>\n",
       "      <td>116.77</td>\n",
       "      <td>3786651</td>\n",
       "      <td>15963</td>\n",
       "      <td>116.641826</td>\n",
       "      <td>0.003093</td>\n",
       "    </tr>\n",
       "  </tbody>\n",
       "</table>\n",
       "</div>"
      ],
      "text/plain": [
       "               SPY                                                     \\\n",
       "              open      high       low   close     volume trade_count   \n",
       "2020-05-01  285.31  290.6572  281.5200  282.83  125180028      639987   \n",
       "2020-05-04  280.73  283.9000  279.1300  283.59   80882213      460681   \n",
       "2020-05-05  286.64  289.2500  283.7134  286.15   79569939      459764   \n",
       "2020-05-06  288.05  288.4600  283.7800  284.34   73632628      436219   \n",
       "2020-05-07  287.75  289.7800  287.1300  287.70   75250412      422688   \n",
       "\n",
       "                                        AGG                              \\\n",
       "                  vwap daily_return    open      high       low   close   \n",
       "2020-05-01  284.092832          NaN  116.97  117.0998  116.6775  116.87   \n",
       "2020-05-04  281.765334     0.002687  116.89  117.0900  116.8700  116.97   \n",
       "2020-05-05  287.400201     0.009027  116.96  116.9700  116.8100  116.88   \n",
       "2020-05-06  286.096273    -0.006325  116.44  116.7100  116.3000  116.41   \n",
       "2020-05-07  287.989956     0.011817  116.61  116.7700  116.4200  116.77   \n",
       "\n",
       "                                                          \n",
       "             volume trade_count        vwap daily_return  \n",
       "2020-05-01  6099551       24394  116.846121          NaN  \n",
       "2020-05-04  3684081       15545  116.960599     0.000856  \n",
       "2020-05-05  4611519       15146  116.879640    -0.000769  \n",
       "2020-05-06  6394949       20233  116.426742    -0.004021  \n",
       "2020-05-07  3786651       15963  116.641826     0.003093  "
      ]
     },
     "execution_count": 37,
     "metadata": {},
     "output_type": "execute_result"
    }
   ],
   "source": [
    "# Configure a Monte Carlo simulation to forecast 10 years cumulative returns\n",
    "# The weights should be split 20% to AGG and 80% to SPY.\n",
    "# Run 500 samples.\n",
    "ten_year_simulation = MCSimulation(\n",
    "    portfolio_data=historical_closing_df,\n",
    "    weights=[0.8, 0.2],\n",
    "    num_simulation=500,\n",
    "    num_trading_days=252*10,\n",
    ")\n",
    "\n",
    "\n",
    "# Review the simulation input data\n",
    "ten_year_simulation.portfolio_data.head()\n"
   ]
  },
  {
   "cell_type": "code",
   "execution_count": 38,
   "metadata": {},
   "outputs": [
    {
     "name": "stdout",
     "output_type": "stream",
     "text": [
      "Running Monte Carlo simulation number 0.\n",
      "Running Monte Carlo simulation number 10.\n",
      "Running Monte Carlo simulation number 20.\n",
      "Running Monte Carlo simulation number 30.\n",
      "Running Monte Carlo simulation number 40.\n",
      "Running Monte Carlo simulation number 50.\n",
      "Running Monte Carlo simulation number 60.\n",
      "Running Monte Carlo simulation number 70.\n",
      "Running Monte Carlo simulation number 80.\n",
      "Running Monte Carlo simulation number 90.\n",
      "Running Monte Carlo simulation number 100.\n"
     ]
    },
    {
     "name": "stderr",
     "output_type": "stream",
     "text": [
      "/Users/colefrederick/Desktop/Folders/Coding/Bootcamp/Challenge/Module_5_Challenge/Financial_Planner/MCForecastTools.py:117: PerformanceWarning: DataFrame is highly fragmented.  This is usually the result of calling `frame.insert` many times, which has poor performance.  Consider joining all columns at once using pd.concat(axis=1) instead.  To get a de-fragmented frame, use `newframe = frame.copy()`\n",
      "  portfolio_cumulative_returns[n] = (1 + sim_df.fillna(0)).cumprod()\n"
     ]
    },
    {
     "name": "stdout",
     "output_type": "stream",
     "text": [
      "Running Monte Carlo simulation number 110.\n",
      "Running Monte Carlo simulation number 120.\n",
      "Running Monte Carlo simulation number 130.\n",
      "Running Monte Carlo simulation number 140.\n",
      "Running Monte Carlo simulation number 150.\n",
      "Running Monte Carlo simulation number 160.\n",
      "Running Monte Carlo simulation number 170.\n",
      "Running Monte Carlo simulation number 180.\n",
      "Running Monte Carlo simulation number 190.\n",
      "Running Monte Carlo simulation number 200.\n",
      "Running Monte Carlo simulation number 210.\n",
      "Running Monte Carlo simulation number 220.\n",
      "Running Monte Carlo simulation number 230.\n",
      "Running Monte Carlo simulation number 240.\n",
      "Running Monte Carlo simulation number 250.\n",
      "Running Monte Carlo simulation number 260.\n",
      "Running Monte Carlo simulation number 270.\n",
      "Running Monte Carlo simulation number 280.\n",
      "Running Monte Carlo simulation number 290.\n",
      "Running Monte Carlo simulation number 300.\n",
      "Running Monte Carlo simulation number 310.\n",
      "Running Monte Carlo simulation number 320.\n",
      "Running Monte Carlo simulation number 330.\n",
      "Running Monte Carlo simulation number 340.\n",
      "Running Monte Carlo simulation number 350.\n",
      "Running Monte Carlo simulation number 360.\n",
      "Running Monte Carlo simulation number 370.\n",
      "Running Monte Carlo simulation number 380.\n",
      "Running Monte Carlo simulation number 390.\n",
      "Running Monte Carlo simulation number 400.\n",
      "Running Monte Carlo simulation number 410.\n",
      "Running Monte Carlo simulation number 420.\n",
      "Running Monte Carlo simulation number 430.\n",
      "Running Monte Carlo simulation number 440.\n",
      "Running Monte Carlo simulation number 450.\n",
      "Running Monte Carlo simulation number 460.\n",
      "Running Monte Carlo simulation number 470.\n",
      "Running Monte Carlo simulation number 480.\n",
      "Running Monte Carlo simulation number 490.\n"
     ]
    },
    {
     "data": {
      "text/html": [
       "<div>\n",
       "<style scoped>\n",
       "    .dataframe tbody tr th:only-of-type {\n",
       "        vertical-align: middle;\n",
       "    }\n",
       "\n",
       "    .dataframe tbody tr th {\n",
       "        vertical-align: top;\n",
       "    }\n",
       "\n",
       "    .dataframe thead th {\n",
       "        text-align: right;\n",
       "    }\n",
       "</style>\n",
       "<table border=\"1\" class=\"dataframe\">\n",
       "  <thead>\n",
       "    <tr style=\"text-align: right;\">\n",
       "      <th></th>\n",
       "      <th>0</th>\n",
       "      <th>1</th>\n",
       "      <th>2</th>\n",
       "      <th>3</th>\n",
       "      <th>4</th>\n",
       "      <th>5</th>\n",
       "      <th>6</th>\n",
       "      <th>7</th>\n",
       "      <th>8</th>\n",
       "      <th>9</th>\n",
       "      <th>...</th>\n",
       "      <th>490</th>\n",
       "      <th>491</th>\n",
       "      <th>492</th>\n",
       "      <th>493</th>\n",
       "      <th>494</th>\n",
       "      <th>495</th>\n",
       "      <th>496</th>\n",
       "      <th>497</th>\n",
       "      <th>498</th>\n",
       "      <th>499</th>\n",
       "    </tr>\n",
       "  </thead>\n",
       "  <tbody>\n",
       "    <tr>\n",
       "      <th>0</th>\n",
       "      <td>1.000000</td>\n",
       "      <td>1.000000</td>\n",
       "      <td>1.000000</td>\n",
       "      <td>1.000000</td>\n",
       "      <td>1.000000</td>\n",
       "      <td>1.000000</td>\n",
       "      <td>1.000000</td>\n",
       "      <td>1.000000</td>\n",
       "      <td>1.000000</td>\n",
       "      <td>1.000000</td>\n",
       "      <td>...</td>\n",
       "      <td>1.000000</td>\n",
       "      <td>1.000000</td>\n",
       "      <td>1.000000</td>\n",
       "      <td>1.000000</td>\n",
       "      <td>1.000000</td>\n",
       "      <td>1.000000</td>\n",
       "      <td>1.000000</td>\n",
       "      <td>1.000000</td>\n",
       "      <td>1.000000</td>\n",
       "      <td>1.000000</td>\n",
       "    </tr>\n",
       "    <tr>\n",
       "      <th>1</th>\n",
       "      <td>1.010257</td>\n",
       "      <td>1.009139</td>\n",
       "      <td>0.991868</td>\n",
       "      <td>0.982042</td>\n",
       "      <td>0.987278</td>\n",
       "      <td>0.997818</td>\n",
       "      <td>0.972732</td>\n",
       "      <td>0.997597</td>\n",
       "      <td>1.004069</td>\n",
       "      <td>0.986641</td>\n",
       "      <td>...</td>\n",
       "      <td>0.993398</td>\n",
       "      <td>0.980560</td>\n",
       "      <td>1.013795</td>\n",
       "      <td>1.010681</td>\n",
       "      <td>1.002529</td>\n",
       "      <td>0.996596</td>\n",
       "      <td>1.007582</td>\n",
       "      <td>1.008170</td>\n",
       "      <td>1.001275</td>\n",
       "      <td>0.995135</td>\n",
       "    </tr>\n",
       "    <tr>\n",
       "      <th>2</th>\n",
       "      <td>1.020330</td>\n",
       "      <td>1.025627</td>\n",
       "      <td>0.985440</td>\n",
       "      <td>0.996549</td>\n",
       "      <td>0.992869</td>\n",
       "      <td>0.991373</td>\n",
       "      <td>0.965201</td>\n",
       "      <td>1.006182</td>\n",
       "      <td>1.003378</td>\n",
       "      <td>0.986549</td>\n",
       "      <td>...</td>\n",
       "      <td>1.003162</td>\n",
       "      <td>0.974339</td>\n",
       "      <td>1.003640</td>\n",
       "      <td>0.979950</td>\n",
       "      <td>1.000281</td>\n",
       "      <td>0.998300</td>\n",
       "      <td>1.015429</td>\n",
       "      <td>1.002828</td>\n",
       "      <td>0.999872</td>\n",
       "      <td>0.984604</td>\n",
       "    </tr>\n",
       "    <tr>\n",
       "      <th>3</th>\n",
       "      <td>1.018739</td>\n",
       "      <td>1.030452</td>\n",
       "      <td>0.975992</td>\n",
       "      <td>0.994485</td>\n",
       "      <td>0.989418</td>\n",
       "      <td>0.986926</td>\n",
       "      <td>0.955700</td>\n",
       "      <td>1.006336</td>\n",
       "      <td>1.010804</td>\n",
       "      <td>0.993314</td>\n",
       "      <td>...</td>\n",
       "      <td>0.998173</td>\n",
       "      <td>0.968142</td>\n",
       "      <td>1.009252</td>\n",
       "      <td>0.976312</td>\n",
       "      <td>1.007249</td>\n",
       "      <td>1.000898</td>\n",
       "      <td>1.020004</td>\n",
       "      <td>1.014256</td>\n",
       "      <td>0.999502</td>\n",
       "      <td>0.996862</td>\n",
       "    </tr>\n",
       "    <tr>\n",
       "      <th>4</th>\n",
       "      <td>1.035067</td>\n",
       "      <td>1.019235</td>\n",
       "      <td>0.955564</td>\n",
       "      <td>0.990193</td>\n",
       "      <td>0.973294</td>\n",
       "      <td>0.993191</td>\n",
       "      <td>0.972800</td>\n",
       "      <td>1.011673</td>\n",
       "      <td>1.008397</td>\n",
       "      <td>1.002432</td>\n",
       "      <td>...</td>\n",
       "      <td>1.012786</td>\n",
       "      <td>0.965902</td>\n",
       "      <td>1.001109</td>\n",
       "      <td>0.967102</td>\n",
       "      <td>1.009466</td>\n",
       "      <td>1.001043</td>\n",
       "      <td>1.018170</td>\n",
       "      <td>1.018536</td>\n",
       "      <td>0.995677</td>\n",
       "      <td>0.986347</td>\n",
       "    </tr>\n",
       "    <tr>\n",
       "      <th>...</th>\n",
       "      <td>...</td>\n",
       "      <td>...</td>\n",
       "      <td>...</td>\n",
       "      <td>...</td>\n",
       "      <td>...</td>\n",
       "      <td>...</td>\n",
       "      <td>...</td>\n",
       "      <td>...</td>\n",
       "      <td>...</td>\n",
       "      <td>...</td>\n",
       "      <td>...</td>\n",
       "      <td>...</td>\n",
       "      <td>...</td>\n",
       "      <td>...</td>\n",
       "      <td>...</td>\n",
       "      <td>...</td>\n",
       "      <td>...</td>\n",
       "      <td>...</td>\n",
       "      <td>...</td>\n",
       "      <td>...</td>\n",
       "      <td>...</td>\n",
       "    </tr>\n",
       "    <tr>\n",
       "      <th>2516</th>\n",
       "      <td>4.907496</td>\n",
       "      <td>4.806494</td>\n",
       "      <td>1.751042</td>\n",
       "      <td>4.635631</td>\n",
       "      <td>1.823871</td>\n",
       "      <td>2.915858</td>\n",
       "      <td>1.732667</td>\n",
       "      <td>2.690197</td>\n",
       "      <td>0.574226</td>\n",
       "      <td>3.604628</td>\n",
       "      <td>...</td>\n",
       "      <td>2.724086</td>\n",
       "      <td>0.946185</td>\n",
       "      <td>1.222006</td>\n",
       "      <td>3.414254</td>\n",
       "      <td>3.367122</td>\n",
       "      <td>1.709815</td>\n",
       "      <td>3.079649</td>\n",
       "      <td>2.168191</td>\n",
       "      <td>3.119546</td>\n",
       "      <td>2.887064</td>\n",
       "    </tr>\n",
       "    <tr>\n",
       "      <th>2517</th>\n",
       "      <td>4.876618</td>\n",
       "      <td>4.796653</td>\n",
       "      <td>1.760238</td>\n",
       "      <td>4.619605</td>\n",
       "      <td>1.832588</td>\n",
       "      <td>2.916551</td>\n",
       "      <td>1.750263</td>\n",
       "      <td>2.710856</td>\n",
       "      <td>0.576045</td>\n",
       "      <td>3.609280</td>\n",
       "      <td>...</td>\n",
       "      <td>2.736946</td>\n",
       "      <td>0.928046</td>\n",
       "      <td>1.236088</td>\n",
       "      <td>3.445149</td>\n",
       "      <td>3.402722</td>\n",
       "      <td>1.688517</td>\n",
       "      <td>3.138851</td>\n",
       "      <td>2.185071</td>\n",
       "      <td>3.126777</td>\n",
       "      <td>2.892780</td>\n",
       "    </tr>\n",
       "    <tr>\n",
       "      <th>2518</th>\n",
       "      <td>4.888430</td>\n",
       "      <td>4.844247</td>\n",
       "      <td>1.786277</td>\n",
       "      <td>4.607544</td>\n",
       "      <td>1.826733</td>\n",
       "      <td>2.931016</td>\n",
       "      <td>1.797634</td>\n",
       "      <td>2.731522</td>\n",
       "      <td>0.572912</td>\n",
       "      <td>3.608513</td>\n",
       "      <td>...</td>\n",
       "      <td>2.713145</td>\n",
       "      <td>0.934965</td>\n",
       "      <td>1.230402</td>\n",
       "      <td>3.408715</td>\n",
       "      <td>3.411718</td>\n",
       "      <td>1.679457</td>\n",
       "      <td>3.128385</td>\n",
       "      <td>2.215457</td>\n",
       "      <td>3.166016</td>\n",
       "      <td>2.856178</td>\n",
       "    </tr>\n",
       "    <tr>\n",
       "      <th>2519</th>\n",
       "      <td>4.903512</td>\n",
       "      <td>4.915469</td>\n",
       "      <td>1.786731</td>\n",
       "      <td>4.618984</td>\n",
       "      <td>1.832713</td>\n",
       "      <td>2.909955</td>\n",
       "      <td>1.797172</td>\n",
       "      <td>2.740472</td>\n",
       "      <td>0.572991</td>\n",
       "      <td>3.567727</td>\n",
       "      <td>...</td>\n",
       "      <td>2.723556</td>\n",
       "      <td>0.931251</td>\n",
       "      <td>1.242677</td>\n",
       "      <td>3.430104</td>\n",
       "      <td>3.410046</td>\n",
       "      <td>1.667640</td>\n",
       "      <td>3.152991</td>\n",
       "      <td>2.179999</td>\n",
       "      <td>3.200992</td>\n",
       "      <td>2.927672</td>\n",
       "    </tr>\n",
       "    <tr>\n",
       "      <th>2520</th>\n",
       "      <td>4.907038</td>\n",
       "      <td>4.925382</td>\n",
       "      <td>1.811209</td>\n",
       "      <td>4.629879</td>\n",
       "      <td>1.838584</td>\n",
       "      <td>2.898499</td>\n",
       "      <td>1.796762</td>\n",
       "      <td>2.727907</td>\n",
       "      <td>0.567746</td>\n",
       "      <td>3.544152</td>\n",
       "      <td>...</td>\n",
       "      <td>2.725283</td>\n",
       "      <td>0.917605</td>\n",
       "      <td>1.244953</td>\n",
       "      <td>3.447726</td>\n",
       "      <td>3.454819</td>\n",
       "      <td>1.676211</td>\n",
       "      <td>3.173035</td>\n",
       "      <td>2.188977</td>\n",
       "      <td>3.244179</td>\n",
       "      <td>2.950928</td>\n",
       "    </tr>\n",
       "  </tbody>\n",
       "</table>\n",
       "<p>2521 rows × 500 columns</p>\n",
       "</div>"
      ],
      "text/plain": [
       "           0         1         2         3         4         5         6    \\\n",
       "0     1.000000  1.000000  1.000000  1.000000  1.000000  1.000000  1.000000   \n",
       "1     1.010257  1.009139  0.991868  0.982042  0.987278  0.997818  0.972732   \n",
       "2     1.020330  1.025627  0.985440  0.996549  0.992869  0.991373  0.965201   \n",
       "3     1.018739  1.030452  0.975992  0.994485  0.989418  0.986926  0.955700   \n",
       "4     1.035067  1.019235  0.955564  0.990193  0.973294  0.993191  0.972800   \n",
       "...        ...       ...       ...       ...       ...       ...       ...   \n",
       "2516  4.907496  4.806494  1.751042  4.635631  1.823871  2.915858  1.732667   \n",
       "2517  4.876618  4.796653  1.760238  4.619605  1.832588  2.916551  1.750263   \n",
       "2518  4.888430  4.844247  1.786277  4.607544  1.826733  2.931016  1.797634   \n",
       "2519  4.903512  4.915469  1.786731  4.618984  1.832713  2.909955  1.797172   \n",
       "2520  4.907038  4.925382  1.811209  4.629879  1.838584  2.898499  1.796762   \n",
       "\n",
       "           7         8         9    ...       490       491       492  \\\n",
       "0     1.000000  1.000000  1.000000  ...  1.000000  1.000000  1.000000   \n",
       "1     0.997597  1.004069  0.986641  ...  0.993398  0.980560  1.013795   \n",
       "2     1.006182  1.003378  0.986549  ...  1.003162  0.974339  1.003640   \n",
       "3     1.006336  1.010804  0.993314  ...  0.998173  0.968142  1.009252   \n",
       "4     1.011673  1.008397  1.002432  ...  1.012786  0.965902  1.001109   \n",
       "...        ...       ...       ...  ...       ...       ...       ...   \n",
       "2516  2.690197  0.574226  3.604628  ...  2.724086  0.946185  1.222006   \n",
       "2517  2.710856  0.576045  3.609280  ...  2.736946  0.928046  1.236088   \n",
       "2518  2.731522  0.572912  3.608513  ...  2.713145  0.934965  1.230402   \n",
       "2519  2.740472  0.572991  3.567727  ...  2.723556  0.931251  1.242677   \n",
       "2520  2.727907  0.567746  3.544152  ...  2.725283  0.917605  1.244953   \n",
       "\n",
       "           493       494       495       496       497       498       499  \n",
       "0     1.000000  1.000000  1.000000  1.000000  1.000000  1.000000  1.000000  \n",
       "1     1.010681  1.002529  0.996596  1.007582  1.008170  1.001275  0.995135  \n",
       "2     0.979950  1.000281  0.998300  1.015429  1.002828  0.999872  0.984604  \n",
       "3     0.976312  1.007249  1.000898  1.020004  1.014256  0.999502  0.996862  \n",
       "4     0.967102  1.009466  1.001043  1.018170  1.018536  0.995677  0.986347  \n",
       "...        ...       ...       ...       ...       ...       ...       ...  \n",
       "2516  3.414254  3.367122  1.709815  3.079649  2.168191  3.119546  2.887064  \n",
       "2517  3.445149  3.402722  1.688517  3.138851  2.185071  3.126777  2.892780  \n",
       "2518  3.408715  3.411718  1.679457  3.128385  2.215457  3.166016  2.856178  \n",
       "2519  3.430104  3.410046  1.667640  3.152991  2.179999  3.200992  2.927672  \n",
       "2520  3.447726  3.454819  1.676211  3.173035  2.188977  3.244179  2.950928  \n",
       "\n",
       "[2521 rows x 500 columns]"
      ]
     },
     "execution_count": 38,
     "metadata": {},
     "output_type": "execute_result"
    }
   ],
   "source": [
    "# Run the Monte Carlo simulation to forecast 10 years cumulative returns\n",
    "ten_year_simulation.calc_cumulative_return()"
   ]
  },
  {
   "cell_type": "code",
   "execution_count": 39,
   "metadata": {},
   "outputs": [
    {
     "data": {
      "text/plain": [
       "<AxesSubplot:title={'center':'500 Simulations of Cumulative Portfolio Return Trajectories Over the Next 2520 Trading Days.'}>"
      ]
     },
     "execution_count": 39,
     "metadata": {},
     "output_type": "execute_result"
    },
    {
     "data": {
      "image/png": "[encoded data removed]",
      "text/plain": [
       "<Figure size 640x480 with 1 Axes>"
      ]
     },
     "metadata": {},
     "output_type": "display_data"
    }
   ],
   "source": [
    "# Visualize the 10-year Monte Carlo simulation by creating an\n",
    "# overlay line plot\n",
    "ten_year_simulation.plot_simulation()"
   ]
  },
  {
   "cell_type": "code",
   "execution_count": 40,
   "metadata": {},
   "outputs": [
    {
     "data": {
      "text/plain": [
       "<AxesSubplot:title={'center':'Distribution of Final Cumuluative Returns Across All 500 Simulations'}, ylabel='Frequency'>"
      ]
     },
     "execution_count": 40,
     "metadata": {},
     "output_type": "execute_result"
    },
    {
     "data": {
      "image/png": "[encoded data removed]",
      "text/plain": [
       "<Figure size 640x480 with 1 Axes>"
      ]
     },
     "metadata": {},
     "output_type": "display_data"
    }
   ],
   "source": [
    "# Visualize the probability distribution of the 10-year Monte Carlo simulation \n",
    "# by plotting a histogram\n",
    "ten_year_simulation.plot_distribution()"
   ]
  },
  {
   "cell_type": "code",
   "execution_count": 41,
   "metadata": {},
   "outputs": [
    {
     "data": {
      "text/plain": [
       "count           500.000000\n",
       "mean              2.799263\n",
       "std               1.557211\n",
       "min               0.567746\n",
       "25%               1.742903\n",
       "50%               2.500626\n",
       "75%               3.438252\n",
       "max              12.292914\n",
       "95% CI Lower      1.008288\n",
       "95% CI Upper      6.560302\n",
       "Name: 2520, dtype: float64"
      ]
     },
     "execution_count": 41,
     "metadata": {},
     "output_type": "execute_result"
    }
   ],
   "source": [
    "# Generate summary statistics from the 10-year Monte Carlo simulation results\n",
    "# Save the results as a variable\n",
    "ten_year_simulation_statistics = ten_year_simulation.summarize_cumulative_return()\n",
    "\n",
    "# Review the 10-year Monte Carlo summary statistics\n",
    "ten_year_simulation_statistics\n"
   ]
  },
  {
   "cell_type": "markdown",
   "metadata": {},
   "source": [
    "### 10 Year Plan Analysis"
   ]
  },
  {
   "cell_type": "code",
   "execution_count": 42,
   "metadata": {},
   "outputs": [
    {
     "data": {
      "text/plain": [
       "65444.1"
      ]
     },
     "execution_count": 42,
     "metadata": {},
     "output_type": "execute_result"
    }
   ],
   "source": [
    "# Print the current balance of the stock and bond portion of the user's portfolio\n",
    "total_stocks_bonds"
   ]
  },
  {
   "cell_type": "code",
   "execution_count": 43,
   "metadata": {},
   "outputs": [
    {
     "name": "stdout",
     "output_type": "stream",
     "text": [
      "There is a 95% chance that the current portfolio investment total of 65444.1  with a weight of 80% stock 20% bond will end within in the range of $65986.52 and $429333.03 over the next 10 years.\n"
     ]
    }
   ],
   "source": [
    "# Use the lower and upper `95%` confidence intervals to calculate the range of the possible outcomes for the current stock/bond portfolio\n",
    "ci_lower_ten_cumulative_return = round(ten_year_simulation_statistics[8]*total_stocks_bonds,2)\n",
    "ci_upper_ten_cumulative_return = round(ten_year_simulation_statistics[9]*total_stocks_bonds,2)\n",
    "\n",
    "# Print the result of the calculations\n",
    "print(f\"There is a 95% chance that the current portfolio investment total of {total_stocks_bonds} \"\n",
    "      f\" with a weight of 80% stock 20% bond will end within in the range of\"\n",
    "      f\" ${ci_lower_ten_cumulative_return} and ${ci_upper_ten_cumulative_return} over the next 10 years.\")\n"
   ]
  },
  {
   "cell_type": "code",
   "execution_count": 44,
   "metadata": {
    "tags": []
   },
   "outputs": [],
   "source": [
    "# Create df containing summaries of 10 and 30 year Monte Carlo Simulation\n",
    "monte_summaries_df = pd.concat([\n",
    "    thirty_year_simulation_statistics, \n",
    "    ten_year_simulation_statistics],\n",
    "    axis=1, \n",
    "    keys=['30 Year','10 Year'])"
   ]
  },
  {
   "cell_type": "code",
   "execution_count": 45,
   "metadata": {},
   "outputs": [],
   "source": [
    "# Create cumulative profit and loss dataframe by multiplying stock values by the Monte Carlo return data\n",
    "cumulative_pnl = total_stocks_bonds * monte_summaries_df.drop(['count'])"
   ]
  },
  {
   "cell_type": "code",
   "execution_count": 46,
   "metadata": {},
   "outputs": [
    {
     "data": {
      "text/html": [
       "<style type=\"text/css\">\n",
       "</style>\n",
       "<table id=\"T_dff8d_\">\n",
       "  <thead>\n",
       "    <tr>\n",
       "      <th class=\"blank level0\" >&nbsp;</th>\n",
       "      <th class=\"col_heading level0 col0\" >30 Year</th>\n",
       "      <th class=\"col_heading level0 col1\" >10 Year</th>\n",
       "    </tr>\n",
       "  </thead>\n",
       "  <tbody>\n",
       "    <tr>\n",
       "      <th id=\"T_dff8d_level0_row0\" class=\"row_heading level0 row0\" >mean</th>\n",
       "      <td id=\"T_dff8d_row0_col0\" class=\"data row0 col0\" >437,838</td>\n",
       "      <td id=\"T_dff8d_row0_col1\" class=\"data row0 col1\" >183,195</td>\n",
       "    </tr>\n",
       "    <tr>\n",
       "      <th id=\"T_dff8d_level0_row1\" class=\"row_heading level0 row1\" >std</th>\n",
       "      <td id=\"T_dff8d_row1_col0\" class=\"data row1 col0\" >283,336</td>\n",
       "      <td id=\"T_dff8d_row1_col1\" class=\"data row1 col1\" >101,910</td>\n",
       "    </tr>\n",
       "    <tr>\n",
       "      <th id=\"T_dff8d_level0_row2\" class=\"row_heading level0 row2\" >min</th>\n",
       "      <td id=\"T_dff8d_row2_col0\" class=\"data row2 col0\" >36,524</td>\n",
       "      <td id=\"T_dff8d_row2_col1\" class=\"data row2 col1\" >37,156</td>\n",
       "    </tr>\n",
       "    <tr>\n",
       "      <th id=\"T_dff8d_level0_row3\" class=\"row_heading level0 row3\" >25%</th>\n",
       "      <td id=\"T_dff8d_row3_col0\" class=\"data row3 col0\" >251,216</td>\n",
       "      <td id=\"T_dff8d_row3_col1\" class=\"data row3 col1\" >114,063</td>\n",
       "    </tr>\n",
       "    <tr>\n",
       "      <th id=\"T_dff8d_level0_row4\" class=\"row_heading level0 row4\" >50%</th>\n",
       "      <td id=\"T_dff8d_row4_col0\" class=\"data row4 col0\" >376,018</td>\n",
       "      <td id=\"T_dff8d_row4_col1\" class=\"data row4 col1\" >163,651</td>\n",
       "    </tr>\n",
       "    <tr>\n",
       "      <th id=\"T_dff8d_level0_row5\" class=\"row_heading level0 row5\" >75%</th>\n",
       "      <td id=\"T_dff8d_row5_col0\" class=\"data row5 col0\" >543,757</td>\n",
       "      <td id=\"T_dff8d_row5_col1\" class=\"data row5 col1\" >225,013</td>\n",
       "    </tr>\n",
       "    <tr>\n",
       "      <th id=\"T_dff8d_level0_row6\" class=\"row_heading level0 row6\" >max</th>\n",
       "      <td id=\"T_dff8d_row6_col0\" class=\"data row6 col0\" >2,262,424</td>\n",
       "      <td id=\"T_dff8d_row6_col1\" class=\"data row6 col1\" >804,499</td>\n",
       "    </tr>\n",
       "    <tr>\n",
       "      <th id=\"T_dff8d_level0_row7\" class=\"row_heading level0 row7\" >95% CI Lower</th>\n",
       "      <td id=\"T_dff8d_row7_col0\" class=\"data row7 col0\" >88,808</td>\n",
       "      <td id=\"T_dff8d_row7_col1\" class=\"data row7 col1\" >65,987</td>\n",
       "    </tr>\n",
       "    <tr>\n",
       "      <th id=\"T_dff8d_level0_row8\" class=\"row_heading level0 row8\" >95% CI Upper</th>\n",
       "      <td id=\"T_dff8d_row8_col0\" class=\"data row8 col0\" >1,076,688</td>\n",
       "      <td id=\"T_dff8d_row8_col1\" class=\"data row8 col1\" >429,333</td>\n",
       "    </tr>\n",
       "  </tbody>\n",
       "</table>\n"
      ],
      "text/plain": [
       "<pandas.io.formats.style.Styler at 0x7ff1e09dc990>"
      ]
     },
     "execution_count": 46,
     "metadata": {},
     "output_type": "execute_result"
    }
   ],
   "source": [
    "# Format cumulative profit and loss dataframe\n",
    "cumulative_pnl = cumulative_pnl.style.format(\"{:,.0f}\")\n",
    "\n",
    "# Display cumulative profit and loss dataframe\n",
    "cumulative_pnl"
   ]
  },
  {
   "cell_type": "raw",
   "metadata": {},
   "source": [
    "Based off of the upper and lower 95% confidence interval there is roughly a 5% chance that the 10 year option would generate enough income to retire. Most likely, after ten years the portfolio would be worth around $183,195 (as shown by the 10 year mean in the cumulative_pnl dataframe) which is well bellow a comfortable retirement savings. The max projected portfolio size after ten years is $804,499 so theoretically it is possible to earn enough, but very unlikely. That is also if the user feels the difference in the max projection and the standard $401,000 is enough to retire 20 years early. "
   ]
  },
  {
   "cell_type": "code",
   "execution_count": null,
   "metadata": {},
   "outputs": [],
   "source": []
  }
 ],
 "metadata": {
  "kernelspec": {
   "display_name": "Python 3 (ipykernel)",
   "language": "python",
   "name": "python3"
  },
  "language_info": {
   "codemirror_mode": {
    "name": "ipython",
    "version": 3
   },
   "file_extension": ".py",
   "mimetype": "text/x-python",
   "name": "python",
   "nbconvert_exporter": "python",
   "pygments_lexer": "ipython3",
   "version": "3.7.13"
  }
 },
 "nbformat": 4,
 "nbformat_minor": 4
}
