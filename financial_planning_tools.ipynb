{
 "cells": [
  {
   "cell_type": "markdown",
   "metadata": {},
   "source": [
    "# Financial Planning with APIs and Simulations\n",
    "\n",
    "In this Challenge, you’ll create two financial analysis tools by using a single Jupyter notebook:\n",
    "\n",
    "Part 1: A financial planner for emergencies. The members will be able to use this tool to visualize their current savings. The members can then determine if they have enough reserves for an emergency fund.\n",
    "\n",
    "Part 2: A financial planner for retirement. This tool will forecast the performance of their retirement portfolio in 30 years. To do this, the tool will make an Alpaca API call via the Alpaca SDK to get historical price data for use in Monte Carlo simulations.\n",
    "\n",
    "You’ll use the information from the Monte Carlo simulation to answer questions about the portfolio in your Jupyter notebook.\n",
    "\n"
   ]
  },
  {
   "cell_type": "code",
   "execution_count": 1,
   "metadata": {},
   "outputs": [],
   "source": [
    "# Import the required libraries and dependencies\n",
    "import os\n",
    "import requests\n",
    "import json\n",
    "import pandas as pd\n",
    "from dotenv import load_dotenv\n",
    "import alpaca_trade_api as tradeapi\n",
    "from MCForecastTools import MCSimulation\n",
    "\n",
    "%matplotlib inline"
   ]
  },
  {
   "cell_type": "code",
   "execution_count": 2,
   "metadata": {},
   "outputs": [
    {
     "data": {
      "text/plain": [
       "True"
      ]
     },
     "execution_count": 2,
     "metadata": {},
     "output_type": "execute_result"
    }
   ],
   "source": [
    "# Load the environment variables from the .env file\n",
    "# by calling the load_dotenv function\n",
    "load_dotenv()"
   ]
  },
  {
   "cell_type": "markdown",
   "metadata": {},
   "source": [
    "## Part 1: Create a Financial Planner for Emergencies"
   ]
  },
  {
   "cell_type": "markdown",
   "metadata": {},
   "source": [
    "### Evaluate the Cryptocurrency Wallet by Using the Requests Library\n",
    "\n",
    "In this section, you’ll determine the current value of a member’s cryptocurrency wallet. You’ll collect the current prices for the Bitcoin and Ethereum cryptocurrencies by using the Python Requests library. For the prototype, you’ll assume that the member holds the 1.2 Bitcoins (BTC) and 5.3 Ethereum coins (ETH). To do all this, complete the following steps:\n",
    "\n",
    "1. Create a variable named `monthly_income`, and set its value to `12000`.\n",
    "\n",
    "2. Use the Requests library to get the current price (in US dollars) of Bitcoin (BTC) and Ethereum (ETH) by using the API endpoints that the starter code supplies.\n",
    "\n",
    "3. Navigate the JSON response object to access the current price of each coin, and store each in a variable.\n",
    "\n",
    "    > **Hint** Note the specific identifier for each cryptocurrency in the API JSON response. The Bitcoin identifier is `1`, and the Ethereum identifier is `1027`.\n",
    "\n",
    "4. Calculate the value, in US dollars, of the current amount of each cryptocurrency and of the entire cryptocurrency wallet.\n",
    "\n"
   ]
  },
  {
   "cell_type": "code",
   "execution_count": 3,
   "metadata": {},
   "outputs": [],
   "source": [
    "# The current number of coins for each cryptocurrency asset held in the portfolio.\n",
    "btc_coins = 1.2\n",
    "eth_coins = 5.3"
   ]
  },
  {
   "cell_type": "markdown",
   "metadata": {},
   "source": [
    "#### Step 1: Create a variable named `monthly_income`, and set its value to `12000`."
   ]
  },
  {
   "cell_type": "code",
   "execution_count": 4,
   "metadata": {},
   "outputs": [],
   "source": [
    "# The monthly amount for the member's household income\n",
    "monthly_income = 12000"
   ]
  },
  {
   "cell_type": "markdown",
   "metadata": {},
   "source": [
    "#### Review the endpoint URLs for the API calls to Free Crypto API in order to get the current pricing information for both BTC and ETH."
   ]
  },
  {
   "cell_type": "code",
   "execution_count": 5,
   "metadata": {},
   "outputs": [],
   "source": [
    "# The Free Crypto API Call endpoint URLs for the held cryptocurrency assets\n",
    "btc_url = \"https://api.alternative.me/v2/ticker/Bitcoin/?convert=USD\"\n",
    "eth_url = \"https://api.alternative.me/v2/ticker/Ethereum/?convert=USD\""
   ]
  },
  {
   "cell_type": "markdown",
   "metadata": {},
   "source": [
    "#### Step 2. Use the Requests library to get the current price (in US dollars) of Bitcoin (BTC) and Ethereum (ETH) by using the API endpoints that the starter code supplied."
   ]
  },
  {
   "cell_type": "code",
   "execution_count": 6,
   "metadata": {},
   "outputs": [
    {
     "name": "stdout",
     "output_type": "stream",
     "text": [
      "{\n",
      "    \"data\": {\n",
      "        \"1\": {\n",
      "            \"circulating_supply\": 19098831,\n",
      "            \"id\": 1,\n",
      "            \"last_updated\": 1658363662,\n",
      "            \"max_supply\": 21000000,\n",
      "            \"name\": \"Bitcoin\",\n",
      "            \"quotes\": {\n",
      "                \"USD\": {\n",
      "                    \"market_cap\": 444979738829,\n",
      "                    \"percent_change_1h\": 0.176253727175195,\n",
      "                    \"percent_change_24h\": -0.187724391486447,\n",
      "                    \"percent_change_7d\": 15.1788310579524,\n",
      "                    \"percentage_change_1h\": 0.176253727175195,\n",
      "                    \"percentage_change_24h\": -0.187724391486447,\n",
      "                    \"percentage_change_7d\": 15.1788310579524,\n",
      "                    \"price\": 23295.0,\n",
      "                    \"volume_24h\": 41068532250\n",
      "                }\n",
      "            },\n",
      "            \"rank\": 1,\n",
      "            \"symbol\": \"BTC\",\n",
      "            \"total_supply\": 19098831,\n",
      "            \"website_slug\": \"bitcoin\"\n",
      "        }\n",
      "    },\n",
      "    \"metadata\": {\n",
      "        \"error\": null,\n",
      "        \"num_cryptocurrencies\": 3116,\n",
      "        \"timestamp\": 1658363662\n",
      "    }\n",
      "}\n"
     ]
    }
   ],
   "source": [
    "# Using the Python requests library, make an API call to access the current price of BTC\n",
    "btc_response = requests.get(btc_url).json()\n",
    "\n",
    "\n",
    "# Use the json.dumps function to review the response data from the API call\n",
    "# Use the indent and sort_keys parameters to make the response object readable\n",
    "print(json.dumps(btc_response, indent=4, sort_keys=True))"
   ]
  },
  {
   "cell_type": "code",
   "execution_count": 7,
   "metadata": {},
   "outputs": [
    {
     "name": "stdout",
     "output_type": "stream",
     "text": [
      "{\n",
      "    \"data\": {\n",
      "        \"1027\": {\n",
      "            \"circulating_supply\": 119759407,\n",
      "            \"id\": 1027,\n",
      "            \"last_updated\": 1658363648,\n",
      "            \"max_supply\": 119758305,\n",
      "            \"name\": \"Ethereum\",\n",
      "            \"quotes\": {\n",
      "                \"USD\": {\n",
      "                    \"market_cap\": 183121951531,\n",
      "                    \"percent_change_1h\": 0.252888690596255,\n",
      "                    \"percent_change_24h\": -0.314244094656763,\n",
      "                    \"percent_change_7d\": 37.3936046545529,\n",
      "                    \"percentage_change_1h\": 0.252888690596255,\n",
      "                    \"percentage_change_24h\": -0.314244094656763,\n",
      "                    \"percentage_change_7d\": 37.3936046545529,\n",
      "                    \"price\": 1529.08,\n",
      "                    \"volume_24h\": 21431088212\n",
      "                }\n",
      "            },\n",
      "            \"rank\": 2,\n",
      "            \"symbol\": \"ETH\",\n",
      "            \"total_supply\": 119759407,\n",
      "            \"website_slug\": \"ethereum\"\n",
      "        }\n",
      "    },\n",
      "    \"metadata\": {\n",
      "        \"error\": null,\n",
      "        \"num_cryptocurrencies\": 3116,\n",
      "        \"timestamp\": 1658363648\n",
      "    }\n",
      "}\n"
     ]
    }
   ],
   "source": [
    "# Using the Python requests library, make an API call to access the current price ETH\n",
    "eth_response = requests.get(eth_url).json()\n",
    "\n",
    "# Use the json.dumps function to review the response data from the API call\n",
    "# Use the indent and sort_keys parameters to make the response object readable\n",
    "print(json.dumps(eth_response, indent=4, sort_keys=True))"
   ]
  },
  {
   "cell_type": "markdown",
   "metadata": {},
   "source": [
    "#### Step 3: Navigate the JSON response object to access the current price of each coin, and store each in a variable."
   ]
  },
  {
   "cell_type": "code",
   "execution_count": 8,
   "metadata": {},
   "outputs": [
    {
     "name": "stdout",
     "output_type": "stream",
     "text": [
      "The current price of Bitcoin is: $23295.00\n"
     ]
    }
   ],
   "source": [
    "# Navigate the BTC response object to access the current price of BTC\n",
    "btc_price = btc_response['data']['1']['quotes']['USD']['price']\n",
    "\n",
    "# Print the current price of BTC\n",
    "print(f'The current price of Bitcoin is: ${btc_price:.2f}')"
   ]
  },
  {
   "cell_type": "code",
   "execution_count": 9,
   "metadata": {},
   "outputs": [
    {
     "name": "stdout",
     "output_type": "stream",
     "text": [
      "The current price of Ethereum is: $1529.08\n"
     ]
    }
   ],
   "source": [
    "# Navigate the BTC response object to access the current price of ETH\n",
    "eth_price = eth_response['data']['1027']['quotes']['USD']['price']\n",
    "\n",
    "# Print the current price of ETH\n",
    "print(f'The current price of Ethereum is: ${eth_price:.2f}')"
   ]
  },
  {
   "cell_type": "markdown",
   "metadata": {},
   "source": [
    "### Step 4: Calculate the value, in US dollars, of the current amount of each cryptocurrency and of the entire cryptocurrency wallet."
   ]
  },
  {
   "cell_type": "code",
   "execution_count": 10,
   "metadata": {},
   "outputs": [
    {
     "name": "stdout",
     "output_type": "stream",
     "text": [
      "The current value of Bitcoin holdings is: $27954.00\n"
     ]
    }
   ],
   "source": [
    "# Compute the current value of the BTC holding \n",
    "btc_value = btc_price * btc_coins\n",
    "\n",
    "# Print current value of your holding in BTC\n",
    "print(f'The current value of Bitcoin holdings is: ${btc_value:.2f}')"
   ]
  },
  {
   "cell_type": "code",
   "execution_count": 11,
   "metadata": {},
   "outputs": [
    {
     "name": "stdout",
     "output_type": "stream",
     "text": [
      "The current value of Ethereum holdings is: $8104.12\n"
     ]
    }
   ],
   "source": [
    "# Compute the current value of the ETH holding \n",
    "eth_value = (eth_price * eth_coins)\n",
    "\n",
    "# Print current value of your holding in ETH\n",
    "print(f'The current value of Ethereum holdings is: ${eth_value:.2f}')"
   ]
  },
  {
   "cell_type": "code",
   "execution_count": 12,
   "metadata": {},
   "outputs": [
    {
     "name": "stdout",
     "output_type": "stream",
     "text": [
      "The current balance of the cryptocurrency wallet is: $36058.12\n"
     ]
    }
   ],
   "source": [
    "# Compute the total value of the cryptocurrency wallet\n",
    "# Add the value of the BTC holding to the value of the ETH holding\n",
    "total_crypto_wallet = btc_value + eth_value\n",
    "\n",
    "# Print current cryptocurrency wallet balance\n",
    "print(f'The current balance of the cryptocurrency wallet is: ${total_crypto_wallet:.2f}')"
   ]
  },
  {
   "cell_type": "markdown",
   "metadata": {},
   "source": [
    "### Evaluate the Stock and Bond Holdings by Using the Alpaca SDK\n",
    "\n",
    "In this section, you’ll determine the current value of a member’s stock and bond holdings. You’ll make an API call to Alpaca via the Alpaca SDK to get the current closing prices of the SPDR S&P 500 ETF Trust (ticker: SPY) and of the iShares Core US Aggregate Bond ETF (ticker: AGG). For the prototype, assume that the member holds 110 shares of SPY, which represents the stock portion of their portfolio, and 200 shares of AGG, which represents the bond portion. To do all this, complete the following steps:\n",
    "\n",
    "1. In the `Starter_Code` folder, create an environment file (`.env`) to store the values of your Alpaca API key and Alpaca secret key.\n",
    "\n",
    "2. Set the variables for the Alpaca API and secret keys. Using the Alpaca SDK, create the Alpaca `tradeapi.REST` object. In this object, include the parameters for the Alpaca API key, the secret key, and the version number.\n",
    "\n",
    "3. Set the following parameters for the Alpaca API call:\n",
    "\n",
    "    - `tickers`: Use the tickers for the member’s stock and bond holdings.\n",
    "\n",
    "    - `timeframe`: Use a time frame of one day.\n",
    "\n",
    "    - `start_date` and `end_date`: Use the same date for these parameters, and format them with the date of the previous weekday (or `2020-08-07`). This is because you want the one closing price for the most-recent trading day.\n",
    "\n",
    "4. Get the current closing prices for `SPY` and `AGG` by using the Alpaca `get_bars` function. Format the response as a Pandas DataFrame by including the `df` property at the end of the `get_bars` function.\n",
    "\n",
    "5. Navigating the Alpaca response DataFrame, select the `SPY` and `AGG` closing prices, and store them as variables.\n",
    "\n",
    "6. Calculate the value, in US dollars, of the current amount of shares in each of the stock and bond portions of the portfolio, and print the results.\n"
   ]
  },
  {
   "cell_type": "markdown",
   "metadata": {},
   "source": [
    "#### Review the total number of shares held in both (SPY) and (AGG)."
   ]
  },
  {
   "cell_type": "code",
   "execution_count": 13,
   "metadata": {},
   "outputs": [],
   "source": [
    "# Current amount of shares held in both the stock (SPY) and bond (AGG) portion of the portfolio.\n",
    "spy_shares = 110\n",
    "agg_shares = 200\n"
   ]
  },
  {
   "cell_type": "markdown",
   "metadata": {},
   "source": [
    "#### Step 1: In the `Starter_Code` folder, create an environment file (`.env`) to store the values of your Alpaca API key and Alpaca secret key."
   ]
  },
  {
   "cell_type": "markdown",
   "metadata": {},
   "source": [
    "#### Step 2: Set the variables for the Alpaca API and secret keys. Using the Alpaca SDK, create the Alpaca `tradeapi.REST` object. In this object, include the parameters for the Alpaca API key, the secret key, and the version number."
   ]
  },
  {
   "cell_type": "code",
   "execution_count": 14,
   "metadata": {},
   "outputs": [],
   "source": [
    "# Set the variables for the Alpaca API and secret keys\n",
    "alpaca_api_key = os.getenv(\"ALPACA_API_KEY\")\n",
    "alpaca_secret_key = os.getenv(\"ALPACA_SECRET_KEY\")\n",
    "\n",
    "# Create the Alpaca tradeapi.REST object\n",
    "alpaca = tradeapi.REST(\n",
    "    alpaca_api_key,\n",
    "    alpaca_secret_key,\n",
    "    api_version=\"v2\")"
   ]
  },
  {
   "cell_type": "markdown",
   "metadata": {},
   "source": [
    "#### Step 3: Set the following parameters for the Alpaca API call:\n",
    "\n",
    "- `tickers`: Use the tickers for the member’s stock and bond holdings.\n",
    "\n",
    "- `timeframe`: Use a time frame of one day.\n",
    "\n",
    "- `start_date` and `end_date`: Use the same date for these parameters, and format them with the date of the previous weekday (or `2020-08-07`). This is because you want the one closing price for the most-recent trading day.\n"
   ]
  },
  {
   "cell_type": "code",
   "execution_count": 15,
   "metadata": {},
   "outputs": [],
   "source": [
    "# Set the tickers for both the bond and stock portion of the portfolio\n",
    "tickers = ['SPY', 'AGG']\n",
    "\n",
    "# Set timeframe to 1Day\n",
    "timeframe = '1Day'\n",
    "\n",
    "# Format current date as ISO format\n",
    "today = pd.Timestamp(\"2020-07-20\", tz=\"America/New_York\").isoformat()\n",
    "\n",
    "# Set both the start and end date at the date of your prior weekday \n",
    "# This will give you the closing price of the previous trading day\n",
    "start = pd.Timestamp(\"2022-07-19\", tz=\"America/New_York\").isoformat()\n",
    "\n",
    "end = pd.Timestamp(\"2022-07-19\", tz=\"America/New_York\").isoformat()"
   ]
  },
  {
   "cell_type": "markdown",
   "metadata": {},
   "source": [
    "#### Step 4: Get the current closing prices for `SPY` and `AGG` by using the Alpaca `get_bars` function. Format the response as a Pandas DataFrame by including the `df` property at the end of the `get_bars` function."
   ]
  },
  {
   "cell_type": "code",
   "execution_count": 16,
   "metadata": {},
   "outputs": [
    {
     "data": {
      "text/html": [
       "<div>\n",
       "<style scoped>\n",
       "    .dataframe tbody tr th:only-of-type {\n",
       "        vertical-align: middle;\n",
       "    }\n",
       "\n",
       "    .dataframe tbody tr th {\n",
       "        vertical-align: top;\n",
       "    }\n",
       "\n",
       "    .dataframe thead tr th {\n",
       "        text-align: left;\n",
       "    }\n",
       "</style>\n",
       "<table border=\"1\" class=\"dataframe\">\n",
       "  <thead>\n",
       "    <tr>\n",
       "      <th></th>\n",
       "      <th colspan=\"7\" halign=\"left\">SPY</th>\n",
       "      <th colspan=\"7\" halign=\"left\">AGG</th>\n",
       "    </tr>\n",
       "    <tr>\n",
       "      <th></th>\n",
       "      <th>open</th>\n",
       "      <th>high</th>\n",
       "      <th>low</th>\n",
       "      <th>close</th>\n",
       "      <th>volume</th>\n",
       "      <th>trade_count</th>\n",
       "      <th>vwap</th>\n",
       "      <th>open</th>\n",
       "      <th>high</th>\n",
       "      <th>low</th>\n",
       "      <th>close</th>\n",
       "      <th>volume</th>\n",
       "      <th>trade_count</th>\n",
       "      <th>vwap</th>\n",
       "    </tr>\n",
       "  </thead>\n",
       "  <tbody>\n",
       "    <tr>\n",
       "      <th>2022-07-19</th>\n",
       "      <td>386.17</td>\n",
       "      <td>392.87</td>\n",
       "      <td>385.4</td>\n",
       "      <td>392.27</td>\n",
       "      <td>78242523</td>\n",
       "      <td>533601</td>\n",
       "      <td>389.362273</td>\n",
       "      <td>101.95</td>\n",
       "      <td>101.99</td>\n",
       "      <td>101.6615</td>\n",
       "      <td>101.78</td>\n",
       "      <td>4240277</td>\n",
       "      <td>18210</td>\n",
       "      <td>101.821971</td>\n",
       "    </tr>\n",
       "  </tbody>\n",
       "</table>\n",
       "</div>"
      ],
      "text/plain": [
       "               SPY                                                           \\\n",
       "              open    high    low   close    volume trade_count        vwap   \n",
       "2022-07-19  386.17  392.87  385.4  392.27  78242523      533601  389.362273   \n",
       "\n",
       "               AGG                                                             \n",
       "              open    high       low   close   volume trade_count        vwap  \n",
       "2022-07-19  101.95  101.99  101.6615  101.78  4240277       18210  101.821971  "
      ]
     },
     "execution_count": 16,
     "metadata": {},
     "output_type": "execute_result"
    }
   ],
   "source": [
    "# Use the Alpaca get_bars function to get current closing prices the portfolio\n",
    "# Be sure to set the `df` property after the function to format the response object as a DataFrame\n",
    "df_portfolio_closing = alpaca.get_bars(\n",
    "    tickers,\n",
    "    timeframe,\n",
    "    start = start,\n",
    "    end = end\n",
    ").df\n",
    "\n",
    "# Reorganize the DataFrame\n",
    "# Separate ticker data\n",
    "spy_day = df_portfolio_closing[df_portfolio_closing['symbol']=='SPY'].drop('symbol', axis=1)\n",
    "agg_day = df_portfolio_closing[df_portfolio_closing['symbol']=='AGG'].drop('symbol', axis=1)\n",
    "\n",
    "# Concatenate the ticker DataFrames\n",
    "df_portfolio_closing = pd.concat([spy_day, agg_day],axis=1, keys=['SPY','AGG'])\n",
    "\n",
    "# Drop the time component of the date\n",
    "df_portfolio_closing.index = df_portfolio_closing.index.date\n",
    "\n",
    "# Review the DataFrame\n",
    "df_portfolio_closing"
   ]
  },
  {
   "cell_type": "markdown",
   "metadata": {},
   "source": [
    "#### Step 5: Navigating the Alpaca response DataFrame, select the `SPY` and `AGG` closing prices, and store them as variables."
   ]
  },
  {
   "cell_type": "code",
   "execution_count": 17,
   "metadata": {
    "tags": []
   },
   "outputs": [
    {
     "name": "stdout",
     "output_type": "stream",
     "text": [
      "Closing price of AGG was: $101.78\n"
     ]
    }
   ],
   "source": [
    "# Access the closing price for AGG from the Alpaca DataFrame\n",
    "# Converting the value to a floating point number\n",
    "agg_close_price = float(df_portfolio_closing[\"AGG\"][\"close\"])\n",
    "\n",
    "# Print the AGG closing price\n",
    "print(f'Closing price of AGG was: ${agg_close_price:.2f}')"
   ]
  },
  {
   "cell_type": "code",
   "execution_count": 18,
   "metadata": {},
   "outputs": [
    {
     "name": "stdout",
     "output_type": "stream",
     "text": [
      "Closing price of SPY was: $392.27\n"
     ]
    }
   ],
   "source": [
    "# Access the closing price for SPY from the Alpaca DataFrame\n",
    "# Converting the value to a floating point number\n",
    "spy_close_price = float(df_portfolio_closing[\"SPY\"][\"close\"])\n",
    "\n",
    "# Print the SPY closing price\n",
    "print(f'Closing price of SPY was: ${spy_close_price:.2f}')"
   ]
  },
  {
   "cell_type": "markdown",
   "metadata": {},
   "source": [
    "#### Step 6: Calculate the value, in US dollars, of the current amount of shares in each of the stock and bond portions of the portfolio, and print the results."
   ]
  },
  {
   "cell_type": "code",
   "execution_count": 19,
   "metadata": {},
   "outputs": [
    {
     "name": "stdout",
     "output_type": "stream",
     "text": [
      "Current value of the bond portfolio is: $20356.00\n"
     ]
    }
   ],
   "source": [
    "# Calculate the current value of the bond portion of the portfolio\n",
    "agg_value = agg_close_price * agg_shares\n",
    "\n",
    "# Print the current value of the bond portfolio\n",
    "print(f'Current value of the bond portfolio is: ${agg_value:.2f}')"
   ]
  },
  {
   "cell_type": "code",
   "execution_count": 20,
   "metadata": {},
   "outputs": [
    {
     "name": "stdout",
     "output_type": "stream",
     "text": [
      "Current value of the stock portfolio is: $43149.70\n"
     ]
    }
   ],
   "source": [
    "# Calculate the current value of the stock portion of the portfolio\n",
    "spy_value = spy_close_price * spy_shares\n",
    "\n",
    "# Print the current value of the stock portfolio\n",
    "print(f'Current value of the stock portfolio is: ${spy_value:.2f}')"
   ]
  },
  {
   "cell_type": "code",
   "execution_count": 21,
   "metadata": {},
   "outputs": [],
   "source": [
    "# Calculate the total value of the stock and bond portion of the portfolio\n",
    "total_stocks_bonds = agg_value + spy_value\n"
   ]
  },
  {
   "cell_type": "code",
   "execution_count": 22,
   "metadata": {},
   "outputs": [
    {
     "name": "stdout",
     "output_type": "stream",
     "text": [
      "Current balance of the stock and bond portion of the portfolio is: $63505.70\n",
      "Current balance of the cryptocurrency wallet is: $36058.12\n",
      "Current balance of the member's entire savings portfolio is: $99563.82\n"
     ]
    }
   ],
   "source": [
    "# Calculate the total value of the member's entire savings portfolio\n",
    "total_portfolio = total_stocks_bonds + total_crypto_wallet\n",
    "\n",
    "# Print the current balance of the stock and bond portion of the portfolio\n",
    "print(f'Current balance of the stock and bond portion of the portfolio is: ${total_stocks_bonds:.2f}')\n",
    "\n",
    "# Print current cryptocurrency wallet balance\n",
    "print(f'Current balance of the cryptocurrency wallet is: ${total_crypto_wallet:.2f}')\n",
    "\n",
    "# Print the total value of the member's entire savings portfolio\n",
    "print(f\"Current balance of the member's entire savings portfolio is: ${total_portfolio:.2f}\")\n",
    "\n"
   ]
  },
  {
   "cell_type": "markdown",
   "metadata": {},
   "source": [
    "### Evaluate the Emergency Fund\n",
    "\n",
    "In this section, you’ll use the valuations for the cryptocurrency wallet and for the stock and bond portions of the portfolio to determine if the credit union member has enough savings to build an emergency fund into their financial plan. To do this, complete the following steps:\n",
    "\n",
    "1. Create a Python list named `savings_data` that has two elements. The first element contains the total value of the cryptocurrency wallet. The second element contains the total value of the stock and bond portions of the portfolio.\n",
    "\n",
    "2. Use the `savings_data` list to create a Pandas DataFrame named `savings_df`, and then display this DataFrame. The function to create the DataFrame should take the following three parameters:\n",
    "\n",
    "    - `savings_data`: Use the list that you just created.\n",
    "\n",
    "    - `columns`: Set this parameter equal to a Python list with a single value called `amount`.\n",
    "\n",
    "    - `index`: Set this parameter equal to a Python list with the values of `crypto` and `stock/bond`.\n",
    "\n",
    "3. Use the `savings_df` DataFrame to plot a pie chart that visualizes the composition of the member’s portfolio. The y-axis of the pie chart uses `amount`. Be sure to add a title.\n",
    "\n",
    "4. Using Python, determine if the current portfolio has enough to create an emergency fund as part of the member’s financial plan. Ideally, an emergency fund should equal to three times the member’s monthly income. To do this, implement the following steps:\n",
    "\n",
    "    1. Create a variable named `emergency_fund_value`, and set it equal to three times the value of the member’s `monthly_income` of $12000. (You set this earlier in Part 1).\n",
    "\n",
    "    2. Create a series of three if statements to determine if the member’s total portfolio is large enough to fund the emergency portfolio:\n",
    "\n",
    "        1. If the total portfolio value is greater than the emergency fund value, display a message congratulating the member for having enough money in this fund.\n",
    "\n",
    "        2. Else if the total portfolio value is equal to the emergency fund value, display a message congratulating the member on reaching this important financial goal.\n",
    "\n",
    "        3. Else the total portfolio is less than the emergency fund value, so display a message showing how many dollars away the member is from reaching the goal. (Subtract the total portfolio value from the emergency fund value.)\n"
   ]
  },
  {
   "cell_type": "markdown",
   "metadata": {},
   "source": [
    "#### Step 1: Create a Python list named `savings_data` that has two elements. The first element contains the total value of the cryptocurrency wallet. The second element contains the total value of the stock and bond portions of the portfolio."
   ]
  },
  {
   "cell_type": "code",
   "execution_count": 23,
   "metadata": {},
   "outputs": [
    {
     "data": {
      "text/plain": [
       "[36058.123999999996, 63505.7]"
      ]
     },
     "execution_count": 23,
     "metadata": {},
     "output_type": "execute_result"
    }
   ],
   "source": [
    "# Consolidate financial assets data into a Python list\n",
    "savings_data = [total_crypto_wallet, total_stocks_bonds]\n",
    "\n",
    "# Review the Python list savings_data\n",
    "savings_data"
   ]
  },
  {
   "cell_type": "markdown",
   "metadata": {},
   "source": [
    "#### Step 2: Use the `savings_data` list to create a Pandas DataFrame named `savings_df`, and then display this DataFrame. The function to create the DataFrame should take the following three parameters:\n",
    "\n",
    "- `savings_data`: Use the list that you just created.\n",
    "\n",
    "- `columns`: Set this parameter equal to a Python list with a single value called `amount`.\n",
    "\n",
    "- `index`: Set this parameter equal to a Python list with the values of `crypto` and `stock/bond`.\n"
   ]
  },
  {
   "cell_type": "code",
   "execution_count": 24,
   "metadata": {},
   "outputs": [
    {
     "data": {
      "text/html": [
       "<div>\n",
       "<style scoped>\n",
       "    .dataframe tbody tr th:only-of-type {\n",
       "        vertical-align: middle;\n",
       "    }\n",
       "\n",
       "    .dataframe tbody tr th {\n",
       "        vertical-align: top;\n",
       "    }\n",
       "\n",
       "    .dataframe thead th {\n",
       "        text-align: right;\n",
       "    }\n",
       "</style>\n",
       "<table border=\"1\" class=\"dataframe\">\n",
       "  <thead>\n",
       "    <tr style=\"text-align: right;\">\n",
       "      <th></th>\n",
       "      <th>Amount</th>\n",
       "    </tr>\n",
       "  </thead>\n",
       "  <tbody>\n",
       "    <tr>\n",
       "      <th>Crypto</th>\n",
       "      <td>36058.124</td>\n",
       "    </tr>\n",
       "    <tr>\n",
       "      <th>Stock/Bond</th>\n",
       "      <td>63505.700</td>\n",
       "    </tr>\n",
       "  </tbody>\n",
       "</table>\n",
       "</div>"
      ],
      "text/plain": [
       "               Amount\n",
       "Crypto      36058.124\n",
       "Stock/Bond  63505.700"
      ]
     },
     "execution_count": 24,
     "metadata": {},
     "output_type": "execute_result"
    }
   ],
   "source": [
    "# Create colum and index variable\n",
    "column = ['Amount']\n",
    "index = ['Crypto', 'Stock/Bond']\n",
    "\n",
    "# Create a Pandas DataFrame called savings_df \n",
    "savings_df = pd.DataFrame(data=savings_data, columns=column, index=index)\n",
    "\n",
    "# Display the savings_df DataFrame\n",
    "savings_df"
   ]
  },
  {
   "cell_type": "markdown",
   "metadata": {},
   "source": [
    "#### Step 3: Use the `savings_df` DataFrame to plot a pie chart that visualizes the composition of the member’s portfolio. The y-axis of the pie chart uses `amount`. Be sure to add a title."
   ]
  },
  {
   "cell_type": "code",
   "execution_count": 25,
   "metadata": {},
   "outputs": [
    {
     "data": {
      "text/plain": [
       "<AxesSubplot:title={'center':'Total Portfolio Value'}, ylabel='Amount'>"
      ]
     },
     "execution_count": 25,
     "metadata": {},
     "output_type": "execute_result"
    },
    {
     "data": {
      "image/png": "[encoded data removed]",
      "text/plain": [
       "<Figure size 432x288 with 1 Axes>"
      ]
     },
     "metadata": {},
     "output_type": "display_data"
    }
   ],
   "source": [
    "# Plot the total value of the member's portfolio (crypto and stock/bond) in a pie chart\n",
    "savings_df.plot.pie(y='Amount', title='Total Portfolio Value')"
   ]
  },
  {
   "cell_type": "markdown",
   "metadata": {},
   "source": [
    "#### Step 4: Using Python, determine if the current portfolio has enough to create an emergency fund as part of the member’s financial plan. Ideally, an emergency fund should equal to three times the member’s monthly income. To do this, implement the following steps:\n",
    "\n",
    "Step 1. Create a variable named `emergency_fund_value`, and set it equal to three times the value of the member’s `monthly_income` of 12000. (You set this earlier in Part 1).\n",
    "\n",
    "Step 2. Create a series of three if statements to determine if the member’s total portfolio is large enough to fund the emergency portfolio:\n",
    "\n",
    "* If the total portfolio value is greater than the emergency fund value, display a message congratulating the member for having enough money in this fund.\n",
    "\n",
    "* Else if the total portfolio value is equal to the emergency fund value, display a message congratulating the member on reaching this important financial goal.\n",
    "\n",
    "* Else the total portfolio is less than the emergency fund value, so display a message showing how many dollars away the member is from reaching the goal. (Subtract the total portfolio value from the emergency fund value.)\n"
   ]
  },
  {
   "cell_type": "markdown",
   "metadata": {},
   "source": [
    "##### Step 4-1: Create a variable named `emergency_fund_value`, and set it equal to three times the value of the member’s `monthly_income` of 12000. (You set this earlier in Part 1)."
   ]
  },
  {
   "cell_type": "code",
   "execution_count": 26,
   "metadata": {},
   "outputs": [],
   "source": [
    "# Create a variable named emergency_fund_value\n",
    "emergency_fund_value = monthly_income * 3\n"
   ]
  },
  {
   "cell_type": "markdown",
   "metadata": {},
   "source": [
    "##### Step 4-2: Create a series of three if statements to determine if the member’s total portfolio is large enough to fund the emergency portfolio:\n",
    "\n",
    "* If the total portfolio value is greater than the emergency fund value, display a message congratulating the member for having enough money in this fund.\n",
    "\n",
    "* Else if the total portfolio value is equal to the emergency fund value, display a message congratulating the member on reaching this important financial goal.\n",
    "\n",
    "* Else the total portfolio is less than the emergency fund value, so display a message showing how many dollars away the member is from reaching the goal. (Subtract the total portfolio value from the emergency fund value.)"
   ]
  },
  {
   "cell_type": "code",
   "execution_count": 27,
   "metadata": {},
   "outputs": [
    {
     "name": "stdout",
     "output_type": "stream",
     "text": [
      "Congratulations! You have enough money in this fund\n"
     ]
    }
   ],
   "source": [
    "# Evaluate the possibility of creating an emergency fund with 3 conditions:\n",
    "if total_portfolio > emergency_fund_value:\n",
    "    print('Congratulations! You have enough money in this fund')\n",
    "elif total_portfolio == emergency_fund_value:\n",
    "    print(\"Congratulations on reaching this important financial goal! This portfolio is equal to the emergency fund value!\")  \n",
    "elif total_portfolio < emergency_fund_value:\n",
    "    print(f\"This portfolio is ${emergency_fund_value - total_portfolio} away from reaching the emergency fund value goal\")\n",
    "\n"
   ]
  },
  {
   "cell_type": "markdown",
   "metadata": {},
   "source": [
    "## Part 2: Create a Financial Planner for Retirement"
   ]
  },
  {
   "cell_type": "markdown",
   "metadata": {},
   "source": [
    "### Create the Monte Carlo Simulation\n",
    "\n",
    "In this section, you’ll use the MCForecastTools library to create a Monte Carlo simulation for the member’s savings portfolio. To do this, complete the following steps:\n",
    "\n",
    "1. Make an API call via the Alpaca SDK to get 3 years of historical closing prices for a traditional 60/40 portfolio split: 60% stocks (SPY) and 40% bonds (AGG).\n",
    "\n",
    "2. Run a Monte Carlo simulation of 500 samples and 30 years for the 60/40 portfolio, and then plot the results.The following image shows the overlay line plot resulting from a simulation with these characteristics. However, because a random number generator is used to run each live Monte Carlo simulation, your image will differ slightly from this exact image:\n",
    "\n",
    "![A screenshot depicts the resulting plot.](Images/5-4-monte-carlo-line-plot.png)\n",
    "\n",
    "3. Plot the probability distribution of the Monte Carlo simulation. Plot the probability distribution of the Monte Carlo simulation. The following image shows the histogram plot resulting from a simulation with these characteristics. However, because a random number generator is used to run each live Monte Carlo simulation, your image will differ slightly from this exact image:\n",
    "\n",
    "![A screenshot depicts the histogram plot.](Images/5-4-monte-carlo-histogram.png)\n",
    "\n",
    "4. Generate the summary statistics for the Monte Carlo simulation.\n",
    "\n"
   ]
  },
  {
   "cell_type": "markdown",
   "metadata": {},
   "source": [
    "#### Step 1: Make an API call via the Alpaca SDK to get 3 years of historical closing prices for a traditional 60/40 portfolio split: 60% stocks (SPY) and 40% bonds (AGG)."
   ]
  },
  {
   "cell_type": "code",
   "execution_count": 28,
   "metadata": {},
   "outputs": [],
   "source": [
    "# Set start and end dates of 3 years back from your current date\n",
    "start = pd.Timestamp(\"2019-07-19\", tz=\"America/New_York\").isoformat()\n",
    "\n",
    "end = pd.Timestamp(\"2022-07-19\", tz=\"America/New_York\").isoformat()"
   ]
  },
  {
   "cell_type": "code",
   "execution_count": 29,
   "metadata": {},
   "outputs": [
    {
     "data": {
      "text/html": [
       "<div>\n",
       "<style scoped>\n",
       "    .dataframe tbody tr th:only-of-type {\n",
       "        vertical-align: middle;\n",
       "    }\n",
       "\n",
       "    .dataframe tbody tr th {\n",
       "        vertical-align: top;\n",
       "    }\n",
       "\n",
       "    .dataframe thead tr th {\n",
       "        text-align: left;\n",
       "    }\n",
       "</style>\n",
       "<table border=\"1\" class=\"dataframe\">\n",
       "  <thead>\n",
       "    <tr>\n",
       "      <th></th>\n",
       "      <th colspan=\"7\" halign=\"left\">SPY</th>\n",
       "      <th colspan=\"7\" halign=\"left\">AGG</th>\n",
       "    </tr>\n",
       "    <tr>\n",
       "      <th></th>\n",
       "      <th>open</th>\n",
       "      <th>high</th>\n",
       "      <th>low</th>\n",
       "      <th>close</th>\n",
       "      <th>volume</th>\n",
       "      <th>trade_count</th>\n",
       "      <th>vwap</th>\n",
       "      <th>open</th>\n",
       "      <th>high</th>\n",
       "      <th>low</th>\n",
       "      <th>close</th>\n",
       "      <th>volume</th>\n",
       "      <th>trade_count</th>\n",
       "      <th>vwap</th>\n",
       "    </tr>\n",
       "  </thead>\n",
       "  <tbody>\n",
       "    <tr>\n",
       "      <th>2019-07-19</th>\n",
       "      <td>300.01</td>\n",
       "      <td>300.0700</td>\n",
       "      <td>296.960</td>\n",
       "      <td>297.17</td>\n",
       "      <td>76794138</td>\n",
       "      <td>260715</td>\n",
       "      <td>298.617649</td>\n",
       "      <td>111.22</td>\n",
       "      <td>111.286</td>\n",
       "      <td>111.1400</td>\n",
       "      <td>111.17</td>\n",
       "      <td>3150774</td>\n",
       "      <td>9948</td>\n",
       "      <td>111.225017</td>\n",
       "    </tr>\n",
       "    <tr>\n",
       "      <th>2019-07-22</th>\n",
       "      <td>297.61</td>\n",
       "      <td>298.5000</td>\n",
       "      <td>297.040</td>\n",
       "      <td>297.90</td>\n",
       "      <td>45137404</td>\n",
       "      <td>186383</td>\n",
       "      <td>297.748117</td>\n",
       "      <td>111.41</td>\n",
       "      <td>111.410</td>\n",
       "      <td>111.3000</td>\n",
       "      <td>111.31</td>\n",
       "      <td>2855073</td>\n",
       "      <td>7937</td>\n",
       "      <td>111.344721</td>\n",
       "    </tr>\n",
       "    <tr>\n",
       "      <th>2019-07-23</th>\n",
       "      <td>299.15</td>\n",
       "      <td>300.0300</td>\n",
       "      <td>298.220</td>\n",
       "      <td>300.03</td>\n",
       "      <td>44935473</td>\n",
       "      <td>208847</td>\n",
       "      <td>299.177015</td>\n",
       "      <td>111.27</td>\n",
       "      <td>111.320</td>\n",
       "      <td>111.1600</td>\n",
       "      <td>111.20</td>\n",
       "      <td>2659305</td>\n",
       "      <td>10894</td>\n",
       "      <td>111.219201</td>\n",
       "    </tr>\n",
       "    <tr>\n",
       "      <th>2019-07-24</th>\n",
       "      <td>299.16</td>\n",
       "      <td>301.4400</td>\n",
       "      <td>299.090</td>\n",
       "      <td>301.44</td>\n",
       "      <td>47738870</td>\n",
       "      <td>204882</td>\n",
       "      <td>300.570907</td>\n",
       "      <td>111.33</td>\n",
       "      <td>111.410</td>\n",
       "      <td>111.2950</td>\n",
       "      <td>111.36</td>\n",
       "      <td>2783461</td>\n",
       "      <td>12750</td>\n",
       "      <td>111.337833</td>\n",
       "    </tr>\n",
       "    <tr>\n",
       "      <th>2019-07-25</th>\n",
       "      <td>300.97</td>\n",
       "      <td>301.0000</td>\n",
       "      <td>299.110</td>\n",
       "      <td>300.00</td>\n",
       "      <td>55864213</td>\n",
       "      <td>266901</td>\n",
       "      <td>300.079179</td>\n",
       "      <td>111.33</td>\n",
       "      <td>111.330</td>\n",
       "      <td>111.0474</td>\n",
       "      <td>111.19</td>\n",
       "      <td>2977486</td>\n",
       "      <td>11325</td>\n",
       "      <td>111.190464</td>\n",
       "    </tr>\n",
       "    <tr>\n",
       "      <th>...</th>\n",
       "      <td>...</td>\n",
       "      <td>...</td>\n",
       "      <td>...</td>\n",
       "      <td>...</td>\n",
       "      <td>...</td>\n",
       "      <td>...</td>\n",
       "      <td>...</td>\n",
       "      <td>...</td>\n",
       "      <td>...</td>\n",
       "      <td>...</td>\n",
       "      <td>...</td>\n",
       "      <td>...</td>\n",
       "      <td>...</td>\n",
       "      <td>...</td>\n",
       "    </tr>\n",
       "    <tr>\n",
       "      <th>2022-07-13</th>\n",
       "      <td>375.09</td>\n",
       "      <td>381.9200</td>\n",
       "      <td>374.658</td>\n",
       "      <td>378.83</td>\n",
       "      <td>83575452</td>\n",
       "      <td>671953</td>\n",
       "      <td>378.819688</td>\n",
       "      <td>101.23</td>\n",
       "      <td>102.240</td>\n",
       "      <td>101.1900</td>\n",
       "      <td>102.21</td>\n",
       "      <td>6514247</td>\n",
       "      <td>26716</td>\n",
       "      <td>101.977478</td>\n",
       "    </tr>\n",
       "    <tr>\n",
       "      <th>2022-07-14</th>\n",
       "      <td>373.99</td>\n",
       "      <td>379.0498</td>\n",
       "      <td>371.040</td>\n",
       "      <td>377.91</td>\n",
       "      <td>89349688</td>\n",
       "      <td>637416</td>\n",
       "      <td>375.589384</td>\n",
       "      <td>101.51</td>\n",
       "      <td>101.980</td>\n",
       "      <td>101.3300</td>\n",
       "      <td>101.85</td>\n",
       "      <td>6224496</td>\n",
       "      <td>24722</td>\n",
       "      <td>101.747120</td>\n",
       "    </tr>\n",
       "    <tr>\n",
       "      <th>2022-07-15</th>\n",
       "      <td>382.62</td>\n",
       "      <td>385.2500</td>\n",
       "      <td>380.540</td>\n",
       "      <td>385.13</td>\n",
       "      <td>79318992</td>\n",
       "      <td>488124</td>\n",
       "      <td>383.334989</td>\n",
       "      <td>101.94</td>\n",
       "      <td>102.350</td>\n",
       "      <td>101.9000</td>\n",
       "      <td>102.25</td>\n",
       "      <td>8440151</td>\n",
       "      <td>27300</td>\n",
       "      <td>102.214854</td>\n",
       "    </tr>\n",
       "    <tr>\n",
       "      <th>2022-07-18</th>\n",
       "      <td>388.27</td>\n",
       "      <td>389.0900</td>\n",
       "      <td>380.660</td>\n",
       "      <td>381.95</td>\n",
       "      <td>62903915</td>\n",
       "      <td>489558</td>\n",
       "      <td>385.087984</td>\n",
       "      <td>102.00</td>\n",
       "      <td>102.030</td>\n",
       "      <td>101.7200</td>\n",
       "      <td>101.92</td>\n",
       "      <td>4949050</td>\n",
       "      <td>18802</td>\n",
       "      <td>101.892830</td>\n",
       "    </tr>\n",
       "    <tr>\n",
       "      <th>2022-07-19</th>\n",
       "      <td>386.17</td>\n",
       "      <td>392.8700</td>\n",
       "      <td>385.400</td>\n",
       "      <td>392.27</td>\n",
       "      <td>78242523</td>\n",
       "      <td>533601</td>\n",
       "      <td>389.362273</td>\n",
       "      <td>101.95</td>\n",
       "      <td>101.990</td>\n",
       "      <td>101.6615</td>\n",
       "      <td>101.78</td>\n",
       "      <td>4240277</td>\n",
       "      <td>18210</td>\n",
       "      <td>101.821971</td>\n",
       "    </tr>\n",
       "  </tbody>\n",
       "</table>\n",
       "<p>756 rows × 14 columns</p>\n",
       "</div>"
      ],
      "text/plain": [
       "               SPY                                                   \\\n",
       "              open      high      low   close    volume trade_count   \n",
       "2019-07-19  300.01  300.0700  296.960  297.17  76794138      260715   \n",
       "2019-07-22  297.61  298.5000  297.040  297.90  45137404      186383   \n",
       "2019-07-23  299.15  300.0300  298.220  300.03  44935473      208847   \n",
       "2019-07-24  299.16  301.4400  299.090  301.44  47738870      204882   \n",
       "2019-07-25  300.97  301.0000  299.110  300.00  55864213      266901   \n",
       "...            ...       ...      ...     ...       ...         ...   \n",
       "2022-07-13  375.09  381.9200  374.658  378.83  83575452      671953   \n",
       "2022-07-14  373.99  379.0498  371.040  377.91  89349688      637416   \n",
       "2022-07-15  382.62  385.2500  380.540  385.13  79318992      488124   \n",
       "2022-07-18  388.27  389.0900  380.660  381.95  62903915      489558   \n",
       "2022-07-19  386.17  392.8700  385.400  392.27  78242523      533601   \n",
       "\n",
       "                           AGG                                      \\\n",
       "                  vwap    open     high       low   close   volume   \n",
       "2019-07-19  298.617649  111.22  111.286  111.1400  111.17  3150774   \n",
       "2019-07-22  297.748117  111.41  111.410  111.3000  111.31  2855073   \n",
       "2019-07-23  299.177015  111.27  111.320  111.1600  111.20  2659305   \n",
       "2019-07-24  300.570907  111.33  111.410  111.2950  111.36  2783461   \n",
       "2019-07-25  300.079179  111.33  111.330  111.0474  111.19  2977486   \n",
       "...                ...     ...      ...       ...     ...      ...   \n",
       "2022-07-13  378.819688  101.23  102.240  101.1900  102.21  6514247   \n",
       "2022-07-14  375.589384  101.51  101.980  101.3300  101.85  6224496   \n",
       "2022-07-15  383.334989  101.94  102.350  101.9000  102.25  8440151   \n",
       "2022-07-18  385.087984  102.00  102.030  101.7200  101.92  4949050   \n",
       "2022-07-19  389.362273  101.95  101.990  101.6615  101.78  4240277   \n",
       "\n",
       "                                    \n",
       "           trade_count        vwap  \n",
       "2019-07-19        9948  111.225017  \n",
       "2019-07-22        7937  111.344721  \n",
       "2019-07-23       10894  111.219201  \n",
       "2019-07-24       12750  111.337833  \n",
       "2019-07-25       11325  111.190464  \n",
       "...                ...         ...  \n",
       "2022-07-13       26716  101.977478  \n",
       "2022-07-14       24722  101.747120  \n",
       "2022-07-15       27300  102.214854  \n",
       "2022-07-18       18802  101.892830  \n",
       "2022-07-19       18210  101.821971  \n",
       "\n",
       "[756 rows x 14 columns]"
      ]
     },
     "execution_count": 29,
     "metadata": {},
     "output_type": "execute_result"
    }
   ],
   "source": [
    "# Use the Alpaca get_bars function to make the API call to get the 3 years worth of pricing data\n",
    "# The tickers and timeframe parameters should have been set in Part 1 of this activity \n",
    "# The start and end dates should be updated with the information set above\n",
    "# Remember to add the df property to the end of the call so the response is returned as a DataFrame\n",
    "historical_closing_df = alpaca.get_bars(\n",
    "    tickers,\n",
    "    timeframe,\n",
    "    start = start,\n",
    "    end = end\n",
    ").df\n",
    "\n",
    "# Reorganize the DataFrame\n",
    "# Separate ticker data\n",
    "spy_year = historical_closing_df[historical_closing_df['symbol']=='SPY'].drop('symbol', axis=1)\n",
    "agg_year = historical_closing_df[historical_closing_df['symbol']=='AGG'].drop('symbol', axis=1)\n",
    "\n",
    "# Concatenate the ticker DataFrames\n",
    "historical_closing_df = pd.concat([spy_year, agg_year],axis=1, keys=['SPY','AGG'])\n",
    "\n",
    "# Drop the time component of the date\n",
    "historical_closing_df.index = historical_closing_df.index.date\n",
    "\n",
    "# Display both the first and last five rows of the DataFrame\n",
    "historical_closing_df\n"
   ]
  },
  {
   "cell_type": "markdown",
   "metadata": {},
   "source": [
    "#### Step 2: Run a Monte Carlo simulation of 500 samples and 30 years for the 60/40 portfolio, and then plot the results."
   ]
  },
  {
   "cell_type": "code",
   "execution_count": 30,
   "metadata": {},
   "outputs": [
    {
     "data": {
      "text/html": [
       "<div>\n",
       "<style scoped>\n",
       "    .dataframe tbody tr th:only-of-type {\n",
       "        vertical-align: middle;\n",
       "    }\n",
       "\n",
       "    .dataframe tbody tr th {\n",
       "        vertical-align: top;\n",
       "    }\n",
       "\n",
       "    .dataframe thead tr th {\n",
       "        text-align: left;\n",
       "    }\n",
       "</style>\n",
       "<table border=\"1\" class=\"dataframe\">\n",
       "  <thead>\n",
       "    <tr>\n",
       "      <th></th>\n",
       "      <th colspan=\"8\" halign=\"left\">SPY</th>\n",
       "      <th colspan=\"8\" halign=\"left\">AGG</th>\n",
       "    </tr>\n",
       "    <tr>\n",
       "      <th></th>\n",
       "      <th>open</th>\n",
       "      <th>high</th>\n",
       "      <th>low</th>\n",
       "      <th>close</th>\n",
       "      <th>volume</th>\n",
       "      <th>trade_count</th>\n",
       "      <th>vwap</th>\n",
       "      <th>daily_return</th>\n",
       "      <th>open</th>\n",
       "      <th>high</th>\n",
       "      <th>low</th>\n",
       "      <th>close</th>\n",
       "      <th>volume</th>\n",
       "      <th>trade_count</th>\n",
       "      <th>vwap</th>\n",
       "      <th>daily_return</th>\n",
       "    </tr>\n",
       "  </thead>\n",
       "  <tbody>\n",
       "    <tr>\n",
       "      <th>2019-07-19</th>\n",
       "      <td>300.01</td>\n",
       "      <td>300.07</td>\n",
       "      <td>296.96</td>\n",
       "      <td>297.17</td>\n",
       "      <td>76794138</td>\n",
       "      <td>260715</td>\n",
       "      <td>298.617649</td>\n",
       "      <td>NaN</td>\n",
       "      <td>111.22</td>\n",
       "      <td>111.286</td>\n",
       "      <td>111.1400</td>\n",
       "      <td>111.17</td>\n",
       "      <td>3150774</td>\n",
       "      <td>9948</td>\n",
       "      <td>111.225017</td>\n",
       "      <td>NaN</td>\n",
       "    </tr>\n",
       "    <tr>\n",
       "      <th>2019-07-22</th>\n",
       "      <td>297.61</td>\n",
       "      <td>298.50</td>\n",
       "      <td>297.04</td>\n",
       "      <td>297.90</td>\n",
       "      <td>45137404</td>\n",
       "      <td>186383</td>\n",
       "      <td>297.748117</td>\n",
       "      <td>0.002457</td>\n",
       "      <td>111.41</td>\n",
       "      <td>111.410</td>\n",
       "      <td>111.3000</td>\n",
       "      <td>111.31</td>\n",
       "      <td>2855073</td>\n",
       "      <td>7937</td>\n",
       "      <td>111.344721</td>\n",
       "      <td>0.001259</td>\n",
       "    </tr>\n",
       "    <tr>\n",
       "      <th>2019-07-23</th>\n",
       "      <td>299.15</td>\n",
       "      <td>300.03</td>\n",
       "      <td>298.22</td>\n",
       "      <td>300.03</td>\n",
       "      <td>44935473</td>\n",
       "      <td>208847</td>\n",
       "      <td>299.177015</td>\n",
       "      <td>0.007150</td>\n",
       "      <td>111.27</td>\n",
       "      <td>111.320</td>\n",
       "      <td>111.1600</td>\n",
       "      <td>111.20</td>\n",
       "      <td>2659305</td>\n",
       "      <td>10894</td>\n",
       "      <td>111.219201</td>\n",
       "      <td>-0.000988</td>\n",
       "    </tr>\n",
       "    <tr>\n",
       "      <th>2019-07-24</th>\n",
       "      <td>299.16</td>\n",
       "      <td>301.44</td>\n",
       "      <td>299.09</td>\n",
       "      <td>301.44</td>\n",
       "      <td>47738870</td>\n",
       "      <td>204882</td>\n",
       "      <td>300.570907</td>\n",
       "      <td>0.004700</td>\n",
       "      <td>111.33</td>\n",
       "      <td>111.410</td>\n",
       "      <td>111.2950</td>\n",
       "      <td>111.36</td>\n",
       "      <td>2783461</td>\n",
       "      <td>12750</td>\n",
       "      <td>111.337833</td>\n",
       "      <td>0.001439</td>\n",
       "    </tr>\n",
       "    <tr>\n",
       "      <th>2019-07-25</th>\n",
       "      <td>300.97</td>\n",
       "      <td>301.00</td>\n",
       "      <td>299.11</td>\n",
       "      <td>300.00</td>\n",
       "      <td>55864213</td>\n",
       "      <td>266901</td>\n",
       "      <td>300.079179</td>\n",
       "      <td>-0.004777</td>\n",
       "      <td>111.33</td>\n",
       "      <td>111.330</td>\n",
       "      <td>111.0474</td>\n",
       "      <td>111.19</td>\n",
       "      <td>2977486</td>\n",
       "      <td>11325</td>\n",
       "      <td>111.190464</td>\n",
       "      <td>-0.001527</td>\n",
       "    </tr>\n",
       "  </tbody>\n",
       "</table>\n",
       "</div>"
      ],
      "text/plain": [
       "               SPY                                                            \\\n",
       "              open    high     low   close    volume trade_count        vwap   \n",
       "2019-07-19  300.01  300.07  296.96  297.17  76794138      260715  298.617649   \n",
       "2019-07-22  297.61  298.50  297.04  297.90  45137404      186383  297.748117   \n",
       "2019-07-23  299.15  300.03  298.22  300.03  44935473      208847  299.177015   \n",
       "2019-07-24  299.16  301.44  299.09  301.44  47738870      204882  300.570907   \n",
       "2019-07-25  300.97  301.00  299.11  300.00  55864213      266901  300.079179   \n",
       "\n",
       "                            AGG                                      \\\n",
       "           daily_return    open     high       low   close   volume   \n",
       "2019-07-19          NaN  111.22  111.286  111.1400  111.17  3150774   \n",
       "2019-07-22     0.002457  111.41  111.410  111.3000  111.31  2855073   \n",
       "2019-07-23     0.007150  111.27  111.320  111.1600  111.20  2659305   \n",
       "2019-07-24     0.004700  111.33  111.410  111.2950  111.36  2783461   \n",
       "2019-07-25    -0.004777  111.33  111.330  111.0474  111.19  2977486   \n",
       "\n",
       "                                                 \n",
       "           trade_count        vwap daily_return  \n",
       "2019-07-19        9948  111.225017          NaN  \n",
       "2019-07-22        7937  111.344721     0.001259  \n",
       "2019-07-23       10894  111.219201    -0.000988  \n",
       "2019-07-24       12750  111.337833     0.001439  \n",
       "2019-07-25       11325  111.190464    -0.001527  "
      ]
     },
     "execution_count": 30,
     "metadata": {},
     "output_type": "execute_result"
    }
   ],
   "source": [
    "# Configure the Monte Carlo simulation to forecast 30 years cumulative returns\n",
    "# The weights should be split 40% to AGG and 60% to SPY.\n",
    "# Run 500 samples.\n",
    "# Create a simulation object\n",
    "thirty_year_simulation = MCSimulation(\n",
    "    portfolio_data=historical_closing_df,\n",
    "    weights=[0.6, 0.4],\n",
    "    num_simulation=500,\n",
    "    num_trading_days=252*30,\n",
    ")\n",
    "\n",
    "\n",
    "# Review the simulation input data\n",
    "thirty_year_simulation.portfolio_data.head()"
   ]
  },
  {
   "cell_type": "code",
   "execution_count": 31,
   "metadata": {},
   "outputs": [
    {
     "name": "stdout",
     "output_type": "stream",
     "text": [
      "Running Monte Carlo simulation number 0.\n",
      "Running Monte Carlo simulation number 10.\n",
      "Running Monte Carlo simulation number 20.\n",
      "Running Monte Carlo simulation number 30.\n",
      "Running Monte Carlo simulation number 40.\n",
      "Running Monte Carlo simulation number 50.\n",
      "Running Monte Carlo simulation number 60.\n",
      "Running Monte Carlo simulation number 70.\n",
      "Running Monte Carlo simulation number 80.\n",
      "Running Monte Carlo simulation number 90.\n",
      "Running Monte Carlo simulation number 100.\n"
     ]
    },
    {
     "name": "stderr",
     "output_type": "stream",
     "text": [
      "/Users/colefrederick/Bootcamp/Challenge/Module_5_Challenge/Financial_Planner/MCForecastTools.py:117: PerformanceWarning: DataFrame is highly fragmented.  This is usually the result of calling `frame.insert` many times, which has poor performance.  Consider joining all columns at once using pd.concat(axis=1) instead.  To get a de-fragmented frame, use `newframe = frame.copy()`\n",
      "  portfolio_cumulative_returns[n] = (1 + sim_df.fillna(0)).cumprod()\n"
     ]
    },
    {
     "name": "stdout",
     "output_type": "stream",
     "text": [
      "Running Monte Carlo simulation number 110.\n",
      "Running Monte Carlo simulation number 120.\n",
      "Running Monte Carlo simulation number 130.\n",
      "Running Monte Carlo simulation number 140.\n",
      "Running Monte Carlo simulation number 150.\n",
      "Running Monte Carlo simulation number 160.\n",
      "Running Monte Carlo simulation number 170.\n",
      "Running Monte Carlo simulation number 180.\n",
      "Running Monte Carlo simulation number 190.\n",
      "Running Monte Carlo simulation number 200.\n",
      "Running Monte Carlo simulation number 210.\n",
      "Running Monte Carlo simulation number 220.\n",
      "Running Monte Carlo simulation number 230.\n",
      "Running Monte Carlo simulation number 240.\n",
      "Running Monte Carlo simulation number 250.\n",
      "Running Monte Carlo simulation number 260.\n",
      "Running Monte Carlo simulation number 270.\n",
      "Running Monte Carlo simulation number 280.\n",
      "Running Monte Carlo simulation number 290.\n",
      "Running Monte Carlo simulation number 300.\n",
      "Running Monte Carlo simulation number 310.\n",
      "Running Monte Carlo simulation number 320.\n",
      "Running Monte Carlo simulation number 330.\n",
      "Running Monte Carlo simulation number 340.\n",
      "Running Monte Carlo simulation number 350.\n",
      "Running Monte Carlo simulation number 360.\n",
      "Running Monte Carlo simulation number 370.\n",
      "Running Monte Carlo simulation number 380.\n",
      "Running Monte Carlo simulation number 390.\n",
      "Running Monte Carlo simulation number 400.\n",
      "Running Monte Carlo simulation number 410.\n",
      "Running Monte Carlo simulation number 420.\n",
      "Running Monte Carlo simulation number 430.\n",
      "Running Monte Carlo simulation number 440.\n",
      "Running Monte Carlo simulation number 450.\n",
      "Running Monte Carlo simulation number 460.\n",
      "Running Monte Carlo simulation number 470.\n",
      "Running Monte Carlo simulation number 480.\n",
      "Running Monte Carlo simulation number 490.\n"
     ]
    },
    {
     "data": {
      "text/html": [
       "<div>\n",
       "<style scoped>\n",
       "    .dataframe tbody tr th:only-of-type {\n",
       "        vertical-align: middle;\n",
       "    }\n",
       "\n",
       "    .dataframe tbody tr th {\n",
       "        vertical-align: top;\n",
       "    }\n",
       "\n",
       "    .dataframe thead th {\n",
       "        text-align: right;\n",
       "    }\n",
       "</style>\n",
       "<table border=\"1\" class=\"dataframe\">\n",
       "  <thead>\n",
       "    <tr style=\"text-align: right;\">\n",
       "      <th></th>\n",
       "      <th>0</th>\n",
       "      <th>1</th>\n",
       "      <th>2</th>\n",
       "      <th>3</th>\n",
       "      <th>4</th>\n",
       "      <th>5</th>\n",
       "      <th>6</th>\n",
       "      <th>7</th>\n",
       "      <th>8</th>\n",
       "      <th>9</th>\n",
       "      <th>...</th>\n",
       "      <th>490</th>\n",
       "      <th>491</th>\n",
       "      <th>492</th>\n",
       "      <th>493</th>\n",
       "      <th>494</th>\n",
       "      <th>495</th>\n",
       "      <th>496</th>\n",
       "      <th>497</th>\n",
       "      <th>498</th>\n",
       "      <th>499</th>\n",
       "    </tr>\n",
       "  </thead>\n",
       "  <tbody>\n",
       "    <tr>\n",
       "      <th>0</th>\n",
       "      <td>1.000000</td>\n",
       "      <td>1.000000</td>\n",
       "      <td>1.000000</td>\n",
       "      <td>1.000000</td>\n",
       "      <td>1.000000</td>\n",
       "      <td>1.000000</td>\n",
       "      <td>1.000000</td>\n",
       "      <td>1.000000</td>\n",
       "      <td>1.000000</td>\n",
       "      <td>1.000000</td>\n",
       "      <td>...</td>\n",
       "      <td>1.000000</td>\n",
       "      <td>1.000000</td>\n",
       "      <td>1.000000</td>\n",
       "      <td>1.000000</td>\n",
       "      <td>1.000000</td>\n",
       "      <td>1.000000</td>\n",
       "      <td>1.000000</td>\n",
       "      <td>1.000000</td>\n",
       "      <td>1.000000</td>\n",
       "      <td>1.000000</td>\n",
       "    </tr>\n",
       "    <tr>\n",
       "      <th>1</th>\n",
       "      <td>0.983319</td>\n",
       "      <td>0.994044</td>\n",
       "      <td>1.009880</td>\n",
       "      <td>0.987414</td>\n",
       "      <td>1.010512</td>\n",
       "      <td>0.994112</td>\n",
       "      <td>1.000019</td>\n",
       "      <td>1.003579</td>\n",
       "      <td>1.006766</td>\n",
       "      <td>0.998891</td>\n",
       "      <td>...</td>\n",
       "      <td>0.995801</td>\n",
       "      <td>1.003819</td>\n",
       "      <td>1.011010</td>\n",
       "      <td>1.002635</td>\n",
       "      <td>1.004374</td>\n",
       "      <td>1.014230</td>\n",
       "      <td>1.004523</td>\n",
       "      <td>0.992484</td>\n",
       "      <td>1.003080</td>\n",
       "      <td>0.986156</td>\n",
       "    </tr>\n",
       "    <tr>\n",
       "      <th>2</th>\n",
       "      <td>0.991151</td>\n",
       "      <td>0.990438</td>\n",
       "      <td>1.000336</td>\n",
       "      <td>0.978593</td>\n",
       "      <td>1.004414</td>\n",
       "      <td>0.998051</td>\n",
       "      <td>1.004773</td>\n",
       "      <td>1.009909</td>\n",
       "      <td>1.004405</td>\n",
       "      <td>0.993212</td>\n",
       "      <td>...</td>\n",
       "      <td>0.993509</td>\n",
       "      <td>0.991051</td>\n",
       "      <td>0.996545</td>\n",
       "      <td>0.989776</td>\n",
       "      <td>0.997646</td>\n",
       "      <td>1.004330</td>\n",
       "      <td>1.025925</td>\n",
       "      <td>0.990782</td>\n",
       "      <td>0.994518</td>\n",
       "      <td>0.972506</td>\n",
       "    </tr>\n",
       "    <tr>\n",
       "      <th>3</th>\n",
       "      <td>0.986468</td>\n",
       "      <td>0.977188</td>\n",
       "      <td>1.003765</td>\n",
       "      <td>0.977328</td>\n",
       "      <td>1.001133</td>\n",
       "      <td>0.993771</td>\n",
       "      <td>0.994242</td>\n",
       "      <td>1.003073</td>\n",
       "      <td>1.005666</td>\n",
       "      <td>0.977447</td>\n",
       "      <td>...</td>\n",
       "      <td>0.987687</td>\n",
       "      <td>1.001264</td>\n",
       "      <td>1.007989</td>\n",
       "      <td>1.000661</td>\n",
       "      <td>1.001865</td>\n",
       "      <td>1.011135</td>\n",
       "      <td>1.026230</td>\n",
       "      <td>0.996023</td>\n",
       "      <td>1.007535</td>\n",
       "      <td>0.979253</td>\n",
       "    </tr>\n",
       "    <tr>\n",
       "      <th>4</th>\n",
       "      <td>0.991519</td>\n",
       "      <td>0.985429</td>\n",
       "      <td>0.992464</td>\n",
       "      <td>0.970190</td>\n",
       "      <td>0.992357</td>\n",
       "      <td>0.998001</td>\n",
       "      <td>0.994027</td>\n",
       "      <td>1.017079</td>\n",
       "      <td>1.016191</td>\n",
       "      <td>0.977371</td>\n",
       "      <td>...</td>\n",
       "      <td>0.983515</td>\n",
       "      <td>0.997070</td>\n",
       "      <td>1.007840</td>\n",
       "      <td>1.002636</td>\n",
       "      <td>1.001432</td>\n",
       "      <td>1.010201</td>\n",
       "      <td>1.021152</td>\n",
       "      <td>1.001438</td>\n",
       "      <td>1.004422</td>\n",
       "      <td>0.984824</td>\n",
       "    </tr>\n",
       "    <tr>\n",
       "      <th>...</th>\n",
       "      <td>...</td>\n",
       "      <td>...</td>\n",
       "      <td>...</td>\n",
       "      <td>...</td>\n",
       "      <td>...</td>\n",
       "      <td>...</td>\n",
       "      <td>...</td>\n",
       "      <td>...</td>\n",
       "      <td>...</td>\n",
       "      <td>...</td>\n",
       "      <td>...</td>\n",
       "      <td>...</td>\n",
       "      <td>...</td>\n",
       "      <td>...</td>\n",
       "      <td>...</td>\n",
       "      <td>...</td>\n",
       "      <td>...</td>\n",
       "      <td>...</td>\n",
       "      <td>...</td>\n",
       "      <td>...</td>\n",
       "      <td>...</td>\n",
       "    </tr>\n",
       "    <tr>\n",
       "      <th>7556</th>\n",
       "      <td>3.762104</td>\n",
       "      <td>13.451575</td>\n",
       "      <td>3.846803</td>\n",
       "      <td>4.178097</td>\n",
       "      <td>29.348572</td>\n",
       "      <td>3.243763</td>\n",
       "      <td>7.272071</td>\n",
       "      <td>0.985757</td>\n",
       "      <td>8.467426</td>\n",
       "      <td>0.891807</td>\n",
       "      <td>...</td>\n",
       "      <td>8.500989</td>\n",
       "      <td>2.436503</td>\n",
       "      <td>11.645792</td>\n",
       "      <td>8.282593</td>\n",
       "      <td>6.568712</td>\n",
       "      <td>3.564429</td>\n",
       "      <td>4.502145</td>\n",
       "      <td>0.965979</td>\n",
       "      <td>5.176693</td>\n",
       "      <td>24.415268</td>\n",
       "    </tr>\n",
       "    <tr>\n",
       "      <th>7557</th>\n",
       "      <td>3.739837</td>\n",
       "      <td>13.378589</td>\n",
       "      <td>3.836640</td>\n",
       "      <td>4.195127</td>\n",
       "      <td>28.737128</td>\n",
       "      <td>3.240399</td>\n",
       "      <td>7.183647</td>\n",
       "      <td>0.974980</td>\n",
       "      <td>8.474459</td>\n",
       "      <td>0.887142</td>\n",
       "      <td>...</td>\n",
       "      <td>8.435989</td>\n",
       "      <td>2.392077</td>\n",
       "      <td>11.675549</td>\n",
       "      <td>8.203806</td>\n",
       "      <td>6.547566</td>\n",
       "      <td>3.525288</td>\n",
       "      <td>4.442200</td>\n",
       "      <td>0.971965</td>\n",
       "      <td>5.170768</td>\n",
       "      <td>24.824677</td>\n",
       "    </tr>\n",
       "    <tr>\n",
       "      <th>7558</th>\n",
       "      <td>3.741290</td>\n",
       "      <td>13.482690</td>\n",
       "      <td>3.835607</td>\n",
       "      <td>4.199220</td>\n",
       "      <td>28.893184</td>\n",
       "      <td>3.314640</td>\n",
       "      <td>7.203955</td>\n",
       "      <td>0.968255</td>\n",
       "      <td>8.362700</td>\n",
       "      <td>0.893870</td>\n",
       "      <td>...</td>\n",
       "      <td>8.522967</td>\n",
       "      <td>2.373213</td>\n",
       "      <td>11.839882</td>\n",
       "      <td>8.203724</td>\n",
       "      <td>6.496161</td>\n",
       "      <td>3.536211</td>\n",
       "      <td>4.393869</td>\n",
       "      <td>0.961507</td>\n",
       "      <td>5.130784</td>\n",
       "      <td>24.724016</td>\n",
       "    </tr>\n",
       "    <tr>\n",
       "      <th>7559</th>\n",
       "      <td>3.764263</td>\n",
       "      <td>13.431424</td>\n",
       "      <td>3.847800</td>\n",
       "      <td>4.188444</td>\n",
       "      <td>28.967858</td>\n",
       "      <td>3.295032</td>\n",
       "      <td>7.165452</td>\n",
       "      <td>0.972933</td>\n",
       "      <td>8.312943</td>\n",
       "      <td>0.884286</td>\n",
       "      <td>...</td>\n",
       "      <td>8.481065</td>\n",
       "      <td>2.389484</td>\n",
       "      <td>11.768897</td>\n",
       "      <td>8.185773</td>\n",
       "      <td>6.433938</td>\n",
       "      <td>3.523285</td>\n",
       "      <td>4.404787</td>\n",
       "      <td>0.970877</td>\n",
       "      <td>5.012226</td>\n",
       "      <td>24.968240</td>\n",
       "    </tr>\n",
       "    <tr>\n",
       "      <th>7560</th>\n",
       "      <td>3.766358</td>\n",
       "      <td>13.415485</td>\n",
       "      <td>3.859715</td>\n",
       "      <td>4.176515</td>\n",
       "      <td>28.710248</td>\n",
       "      <td>3.264384</td>\n",
       "      <td>7.202384</td>\n",
       "      <td>0.958563</td>\n",
       "      <td>8.330820</td>\n",
       "      <td>0.881212</td>\n",
       "      <td>...</td>\n",
       "      <td>8.413229</td>\n",
       "      <td>2.328796</td>\n",
       "      <td>11.770491</td>\n",
       "      <td>8.274405</td>\n",
       "      <td>6.448250</td>\n",
       "      <td>3.509213</td>\n",
       "      <td>4.324361</td>\n",
       "      <td>0.961939</td>\n",
       "      <td>4.915015</td>\n",
       "      <td>25.057008</td>\n",
       "    </tr>\n",
       "  </tbody>\n",
       "</table>\n",
       "<p>7561 rows × 500 columns</p>\n",
       "</div>"
      ],
      "text/plain": [
       "           0          1         2         3          4         5         6    \\\n",
       "0     1.000000   1.000000  1.000000  1.000000   1.000000  1.000000  1.000000   \n",
       "1     0.983319   0.994044  1.009880  0.987414   1.010512  0.994112  1.000019   \n",
       "2     0.991151   0.990438  1.000336  0.978593   1.004414  0.998051  1.004773   \n",
       "3     0.986468   0.977188  1.003765  0.977328   1.001133  0.993771  0.994242   \n",
       "4     0.991519   0.985429  0.992464  0.970190   0.992357  0.998001  0.994027   \n",
       "...        ...        ...       ...       ...        ...       ...       ...   \n",
       "7556  3.762104  13.451575  3.846803  4.178097  29.348572  3.243763  7.272071   \n",
       "7557  3.739837  13.378589  3.836640  4.195127  28.737128  3.240399  7.183647   \n",
       "7558  3.741290  13.482690  3.835607  4.199220  28.893184  3.314640  7.203955   \n",
       "7559  3.764263  13.431424  3.847800  4.188444  28.967858  3.295032  7.165452   \n",
       "7560  3.766358  13.415485  3.859715  4.176515  28.710248  3.264384  7.202384   \n",
       "\n",
       "           7         8         9    ...       490       491        492  \\\n",
       "0     1.000000  1.000000  1.000000  ...  1.000000  1.000000   1.000000   \n",
       "1     1.003579  1.006766  0.998891  ...  0.995801  1.003819   1.011010   \n",
       "2     1.009909  1.004405  0.993212  ...  0.993509  0.991051   0.996545   \n",
       "3     1.003073  1.005666  0.977447  ...  0.987687  1.001264   1.007989   \n",
       "4     1.017079  1.016191  0.977371  ...  0.983515  0.997070   1.007840   \n",
       "...        ...       ...       ...  ...       ...       ...        ...   \n",
       "7556  0.985757  8.467426  0.891807  ...  8.500989  2.436503  11.645792   \n",
       "7557  0.974980  8.474459  0.887142  ...  8.435989  2.392077  11.675549   \n",
       "7558  0.968255  8.362700  0.893870  ...  8.522967  2.373213  11.839882   \n",
       "7559  0.972933  8.312943  0.884286  ...  8.481065  2.389484  11.768897   \n",
       "7560  0.958563  8.330820  0.881212  ...  8.413229  2.328796  11.770491   \n",
       "\n",
       "           493       494       495       496       497       498        499  \n",
       "0     1.000000  1.000000  1.000000  1.000000  1.000000  1.000000   1.000000  \n",
       "1     1.002635  1.004374  1.014230  1.004523  0.992484  1.003080   0.986156  \n",
       "2     0.989776  0.997646  1.004330  1.025925  0.990782  0.994518   0.972506  \n",
       "3     1.000661  1.001865  1.011135  1.026230  0.996023  1.007535   0.979253  \n",
       "4     1.002636  1.001432  1.010201  1.021152  1.001438  1.004422   0.984824  \n",
       "...        ...       ...       ...       ...       ...       ...        ...  \n",
       "7556  8.282593  6.568712  3.564429  4.502145  0.965979  5.176693  24.415268  \n",
       "7557  8.203806  6.547566  3.525288  4.442200  0.971965  5.170768  24.824677  \n",
       "7558  8.203724  6.496161  3.536211  4.393869  0.961507  5.130784  24.724016  \n",
       "7559  8.185773  6.433938  3.523285  4.404787  0.970877  5.012226  24.968240  \n",
       "7560  8.274405  6.448250  3.509213  4.324361  0.961939  4.915015  25.057008  \n",
       "\n",
       "[7561 rows x 500 columns]"
      ]
     },
     "execution_count": 31,
     "metadata": {},
     "output_type": "execute_result"
    }
   ],
   "source": [
    "# Run the Monte Carlo simulation to forecast 30 years cumulative returns\n",
    "thirty_year_simulation.calc_cumulative_return()"
   ]
  },
  {
   "cell_type": "code",
   "execution_count": 32,
   "metadata": {},
   "outputs": [
    {
     "data": {
      "text/plain": [
       "<AxesSubplot:title={'center':'500 Simulations of Cumulative Portfolio Return Trajectories Over the Next 7560 Trading Days.'}>"
      ]
     },
     "execution_count": 32,
     "metadata": {},
     "output_type": "execute_result"
    },
    {
     "data": {
      "image/png": "[encoded data removed]",
      "text/plain": [
       "<Figure size 432x288 with 1 Axes>"
      ]
     },
     "metadata": {
      "needs_background": "light"
     },
     "output_type": "display_data"
    }
   ],
   "source": [
    "# Visualize the 30-year Monte Carlo simulation by creating an\n",
    "# overlay line plot\n",
    "thirty_year_simulation.plot_simulation()"
   ]
  },
  {
   "cell_type": "markdown",
   "metadata": {},
   "source": [
    "#### Step 3: Plot the probability distribution of the Monte Carlo simulation."
   ]
  },
  {
   "cell_type": "code",
   "execution_count": 33,
   "metadata": {},
   "outputs": [
    {
     "data": {
      "text/plain": [
       "<AxesSubplot:title={'center':'Distribution of Final Cumuluative Returns Across All 500 Simulations'}, ylabel='Frequency'>"
      ]
     },
     "execution_count": 33,
     "metadata": {},
     "output_type": "execute_result"
    },
    {
     "data": {
      "image/png": "[encoded data removed]",
      "text/plain": [
       "<Figure size 432x288 with 1 Axes>"
      ]
     },
     "metadata": {
      "needs_background": "light"
     },
     "output_type": "display_data"
    }
   ],
   "source": [
    "# Visualize the probability distribution of the 30-year Monte Carlo simulation \n",
    "# by plotting a histogram\n",
    "thirty_year_simulation.plot_distribution()"
   ]
  },
  {
   "cell_type": "markdown",
   "metadata": {},
   "source": [
    "#### Step 4: Generate the summary statistics for the Monte Carlo simulation."
   ]
  },
  {
   "cell_type": "code",
   "execution_count": 34,
   "metadata": {},
   "outputs": [
    {
     "data": {
      "text/plain": [
       "count           500.000000\n",
       "mean              6.087522\n",
       "std               5.668592\n",
       "min               0.461171\n",
       "25%               2.508624\n",
       "50%               4.319644\n",
       "75%               7.296343\n",
       "max              36.843825\n",
       "95% CI Lower      0.960167\n",
       "95% CI Upper     23.829688\n",
       "Name: 7560, dtype: float64"
      ]
     },
     "execution_count": 34,
     "metadata": {},
     "output_type": "execute_result"
    }
   ],
   "source": [
    "# Generate summary statistics from the 30-year Monte Carlo simulation results\n",
    "# Save the results as a variable\n",
    "thirty_year_simulation_statistics = thirty_year_simulation.summarize_cumulative_return()\n",
    "\n",
    "# Review the 30-year Monte Carlo summary statistics\n",
    "thirty_year_simulation_statistics\n"
   ]
  },
  {
   "cell_type": "markdown",
   "metadata": {},
   "source": [
    "### Analyze the Retirement Portfolio Forecasts\n",
    "\n",
    "Using the current value of only the stock and bond portion of the member's portfolio and the summary statistics that you generated from the Monte Carlo simulation, answer the following question in your Jupyter notebook:\n",
    "\n",
    "-  What are the lower and upper bounds for the expected value of the portfolio with a 95% confidence interval?\n"
   ]
  },
  {
   "cell_type": "code",
   "execution_count": 35,
   "metadata": {},
   "outputs": [
    {
     "data": {
      "text/plain": [
       "63505.7"
      ]
     },
     "execution_count": 35,
     "metadata": {},
     "output_type": "execute_result"
    }
   ],
   "source": [
    "# Print the current balance of the stock and bond portion of the members portfolio\n",
    "total_stocks_bonds"
   ]
  },
  {
   "cell_type": "code",
   "execution_count": 36,
   "metadata": {},
   "outputs": [
    {
     "name": "stdout",
     "output_type": "stream",
     "text": [
      "There is a 95% chance that the current portfolio investment total of 63505.7  with a weight of 60% stock 40% bond will end within in the range of $60976.07 and $1513321.02 over the next 30 years.\n"
     ]
    }
   ],
   "source": [
    "# Use the lower and upper `95%` confidence intervals to calculate the range of the possible outcomes for the current stock/bond portfolio\n",
    "ci_lower_thirty_cumulative_return = round(thirty_year_simulation_statistics[8]*total_stocks_bonds,2)\n",
    "ci_upper_thirty_cumulative_return = round(thirty_year_simulation_statistics[9]*total_stocks_bonds,2)\n",
    "\n",
    "# Print the result of your calculations\n",
    "print(f\"There is a 95% chance that the current portfolio investment total of {total_stocks_bonds} \"\n",
    "      f\" with a weight of 60% stock 40% bond will end within in the range of\"\n",
    "      f\" ${ci_lower_thirty_cumulative_return} and ${ci_upper_thirty_cumulative_return} over the next 30 years.\")"
   ]
  },
  {
   "cell_type": "markdown",
   "metadata": {},
   "source": [
    "### Forecast Cumulative Returns in 10 Years\n",
    "\n",
    "The CTO of the credit union is impressed with your work on these planning tools but wonders if 30 years is a long time to wait until retirement. So, your next task is to adjust the retirement portfolio and run a new Monte Carlo simulation to find out if the changes will allow members to retire earlier.\n",
    "\n",
    "For this new Monte Carlo simulation, do the following: \n",
    "\n",
    "- Forecast the cumulative returns for 10 years from now. Because of the shortened investment horizon (30 years to 10 years), the portfolio needs to invest more heavily in the riskier asset&mdash;that is, stock&mdash;to help accumulate wealth for retirement. \n",
    "\n",
    "- Adjust the weights of the retirement portfolio so that the composition for the Monte Carlo simulation consists of 20% bonds and 80% stocks. \n",
    "\n",
    "- Run the simulation over 500 samples, and use the same data that the API call to Alpaca generated.\n",
    "\n",
    "- Based on the new Monte Carlo simulation, answer the following questions in your Jupyter notebook:\n",
    "\n",
    "    - Using the current value of only the stock and bond portion of the member's portfolio and the summary statistics that you generated from the new Monte Carlo simulation, what are the lower and upper bounds for the expected value of the portfolio (with the new weights) with a 95% confidence interval?\n",
    "\n",
    "    - Will weighting the portfolio more heavily toward stocks allow the credit union members to retire after only 10 years?\n"
   ]
  },
  {
   "cell_type": "code",
   "execution_count": 37,
   "metadata": {},
   "outputs": [
    {
     "data": {
      "text/html": [
       "<div>\n",
       "<style scoped>\n",
       "    .dataframe tbody tr th:only-of-type {\n",
       "        vertical-align: middle;\n",
       "    }\n",
       "\n",
       "    .dataframe tbody tr th {\n",
       "        vertical-align: top;\n",
       "    }\n",
       "\n",
       "    .dataframe thead tr th {\n",
       "        text-align: left;\n",
       "    }\n",
       "</style>\n",
       "<table border=\"1\" class=\"dataframe\">\n",
       "  <thead>\n",
       "    <tr>\n",
       "      <th></th>\n",
       "      <th colspan=\"8\" halign=\"left\">SPY</th>\n",
       "      <th colspan=\"8\" halign=\"left\">AGG</th>\n",
       "    </tr>\n",
       "    <tr>\n",
       "      <th></th>\n",
       "      <th>open</th>\n",
       "      <th>high</th>\n",
       "      <th>low</th>\n",
       "      <th>close</th>\n",
       "      <th>volume</th>\n",
       "      <th>trade_count</th>\n",
       "      <th>vwap</th>\n",
       "      <th>daily_return</th>\n",
       "      <th>open</th>\n",
       "      <th>high</th>\n",
       "      <th>low</th>\n",
       "      <th>close</th>\n",
       "      <th>volume</th>\n",
       "      <th>trade_count</th>\n",
       "      <th>vwap</th>\n",
       "      <th>daily_return</th>\n",
       "    </tr>\n",
       "  </thead>\n",
       "  <tbody>\n",
       "    <tr>\n",
       "      <th>2019-07-19</th>\n",
       "      <td>300.01</td>\n",
       "      <td>300.07</td>\n",
       "      <td>296.96</td>\n",
       "      <td>297.17</td>\n",
       "      <td>76794138</td>\n",
       "      <td>260715</td>\n",
       "      <td>298.617649</td>\n",
       "      <td>NaN</td>\n",
       "      <td>111.22</td>\n",
       "      <td>111.286</td>\n",
       "      <td>111.1400</td>\n",
       "      <td>111.17</td>\n",
       "      <td>3150774</td>\n",
       "      <td>9948</td>\n",
       "      <td>111.225017</td>\n",
       "      <td>NaN</td>\n",
       "    </tr>\n",
       "    <tr>\n",
       "      <th>2019-07-22</th>\n",
       "      <td>297.61</td>\n",
       "      <td>298.50</td>\n",
       "      <td>297.04</td>\n",
       "      <td>297.90</td>\n",
       "      <td>45137404</td>\n",
       "      <td>186383</td>\n",
       "      <td>297.748117</td>\n",
       "      <td>0.002457</td>\n",
       "      <td>111.41</td>\n",
       "      <td>111.410</td>\n",
       "      <td>111.3000</td>\n",
       "      <td>111.31</td>\n",
       "      <td>2855073</td>\n",
       "      <td>7937</td>\n",
       "      <td>111.344721</td>\n",
       "      <td>0.001259</td>\n",
       "    </tr>\n",
       "    <tr>\n",
       "      <th>2019-07-23</th>\n",
       "      <td>299.15</td>\n",
       "      <td>300.03</td>\n",
       "      <td>298.22</td>\n",
       "      <td>300.03</td>\n",
       "      <td>44935473</td>\n",
       "      <td>208847</td>\n",
       "      <td>299.177015</td>\n",
       "      <td>0.007150</td>\n",
       "      <td>111.27</td>\n",
       "      <td>111.320</td>\n",
       "      <td>111.1600</td>\n",
       "      <td>111.20</td>\n",
       "      <td>2659305</td>\n",
       "      <td>10894</td>\n",
       "      <td>111.219201</td>\n",
       "      <td>-0.000988</td>\n",
       "    </tr>\n",
       "    <tr>\n",
       "      <th>2019-07-24</th>\n",
       "      <td>299.16</td>\n",
       "      <td>301.44</td>\n",
       "      <td>299.09</td>\n",
       "      <td>301.44</td>\n",
       "      <td>47738870</td>\n",
       "      <td>204882</td>\n",
       "      <td>300.570907</td>\n",
       "      <td>0.004700</td>\n",
       "      <td>111.33</td>\n",
       "      <td>111.410</td>\n",
       "      <td>111.2950</td>\n",
       "      <td>111.36</td>\n",
       "      <td>2783461</td>\n",
       "      <td>12750</td>\n",
       "      <td>111.337833</td>\n",
       "      <td>0.001439</td>\n",
       "    </tr>\n",
       "    <tr>\n",
       "      <th>2019-07-25</th>\n",
       "      <td>300.97</td>\n",
       "      <td>301.00</td>\n",
       "      <td>299.11</td>\n",
       "      <td>300.00</td>\n",
       "      <td>55864213</td>\n",
       "      <td>266901</td>\n",
       "      <td>300.079179</td>\n",
       "      <td>-0.004777</td>\n",
       "      <td>111.33</td>\n",
       "      <td>111.330</td>\n",
       "      <td>111.0474</td>\n",
       "      <td>111.19</td>\n",
       "      <td>2977486</td>\n",
       "      <td>11325</td>\n",
       "      <td>111.190464</td>\n",
       "      <td>-0.001527</td>\n",
       "    </tr>\n",
       "  </tbody>\n",
       "</table>\n",
       "</div>"
      ],
      "text/plain": [
       "               SPY                                                            \\\n",
       "              open    high     low   close    volume trade_count        vwap   \n",
       "2019-07-19  300.01  300.07  296.96  297.17  76794138      260715  298.617649   \n",
       "2019-07-22  297.61  298.50  297.04  297.90  45137404      186383  297.748117   \n",
       "2019-07-23  299.15  300.03  298.22  300.03  44935473      208847  299.177015   \n",
       "2019-07-24  299.16  301.44  299.09  301.44  47738870      204882  300.570907   \n",
       "2019-07-25  300.97  301.00  299.11  300.00  55864213      266901  300.079179   \n",
       "\n",
       "                            AGG                                      \\\n",
       "           daily_return    open     high       low   close   volume   \n",
       "2019-07-19          NaN  111.22  111.286  111.1400  111.17  3150774   \n",
       "2019-07-22     0.002457  111.41  111.410  111.3000  111.31  2855073   \n",
       "2019-07-23     0.007150  111.27  111.320  111.1600  111.20  2659305   \n",
       "2019-07-24     0.004700  111.33  111.410  111.2950  111.36  2783461   \n",
       "2019-07-25    -0.004777  111.33  111.330  111.0474  111.19  2977486   \n",
       "\n",
       "                                                 \n",
       "           trade_count        vwap daily_return  \n",
       "2019-07-19        9948  111.225017          NaN  \n",
       "2019-07-22        7937  111.344721     0.001259  \n",
       "2019-07-23       10894  111.219201    -0.000988  \n",
       "2019-07-24       12750  111.337833     0.001439  \n",
       "2019-07-25       11325  111.190464    -0.001527  "
      ]
     },
     "execution_count": 37,
     "metadata": {},
     "output_type": "execute_result"
    }
   ],
   "source": [
    "# Configure a Monte Carlo simulation to forecast 10 years cumulative returns\n",
    "# The weights should be split 20% to AGG and 80% to SPY.\n",
    "# Run 500 samples.\n",
    "ten_year_simulation = MCSimulation(\n",
    "    portfolio_data=historical_closing_df,\n",
    "    weights=[0.8, 0.2],\n",
    "    num_simulation=500,\n",
    "    num_trading_days=252*10,\n",
    ")\n",
    "\n",
    "\n",
    "# Review the simulation input data\n",
    "ten_year_simulation.portfolio_data.head()\n"
   ]
  },
  {
   "cell_type": "code",
   "execution_count": 38,
   "metadata": {},
   "outputs": [
    {
     "name": "stdout",
     "output_type": "stream",
     "text": [
      "Running Monte Carlo simulation number 0.\n",
      "Running Monte Carlo simulation number 10.\n",
      "Running Monte Carlo simulation number 20.\n",
      "Running Monte Carlo simulation number 30.\n",
      "Running Monte Carlo simulation number 40.\n",
      "Running Monte Carlo simulation number 50.\n",
      "Running Monte Carlo simulation number 60.\n",
      "Running Monte Carlo simulation number 70.\n",
      "Running Monte Carlo simulation number 80.\n",
      "Running Monte Carlo simulation number 90.\n",
      "Running Monte Carlo simulation number 100.\n"
     ]
    },
    {
     "name": "stderr",
     "output_type": "stream",
     "text": [
      "/Users/colefrederick/Bootcamp/Challenge/Module_5_Challenge/Financial_Planner/MCForecastTools.py:117: PerformanceWarning: DataFrame is highly fragmented.  This is usually the result of calling `frame.insert` many times, which has poor performance.  Consider joining all columns at once using pd.concat(axis=1) instead.  To get a de-fragmented frame, use `newframe = frame.copy()`\n",
      "  portfolio_cumulative_returns[n] = (1 + sim_df.fillna(0)).cumprod()\n"
     ]
    },
    {
     "name": "stdout",
     "output_type": "stream",
     "text": [
      "Running Monte Carlo simulation number 110.\n",
      "Running Monte Carlo simulation number 120.\n",
      "Running Monte Carlo simulation number 130.\n",
      "Running Monte Carlo simulation number 140.\n",
      "Running Monte Carlo simulation number 150.\n",
      "Running Monte Carlo simulation number 160.\n",
      "Running Monte Carlo simulation number 170.\n",
      "Running Monte Carlo simulation number 180.\n",
      "Running Monte Carlo simulation number 190.\n",
      "Running Monte Carlo simulation number 200.\n",
      "Running Monte Carlo simulation number 210.\n",
      "Running Monte Carlo simulation number 220.\n",
      "Running Monte Carlo simulation number 230.\n",
      "Running Monte Carlo simulation number 240.\n",
      "Running Monte Carlo simulation number 250.\n",
      "Running Monte Carlo simulation number 260.\n",
      "Running Monte Carlo simulation number 270.\n",
      "Running Monte Carlo simulation number 280.\n",
      "Running Monte Carlo simulation number 290.\n",
      "Running Monte Carlo simulation number 300.\n",
      "Running Monte Carlo simulation number 310.\n",
      "Running Monte Carlo simulation number 320.\n",
      "Running Monte Carlo simulation number 330.\n",
      "Running Monte Carlo simulation number 340.\n",
      "Running Monte Carlo simulation number 350.\n",
      "Running Monte Carlo simulation number 360.\n",
      "Running Monte Carlo simulation number 370.\n",
      "Running Monte Carlo simulation number 380.\n",
      "Running Monte Carlo simulation number 390.\n",
      "Running Monte Carlo simulation number 400.\n",
      "Running Monte Carlo simulation number 410.\n",
      "Running Monte Carlo simulation number 420.\n",
      "Running Monte Carlo simulation number 430.\n",
      "Running Monte Carlo simulation number 440.\n",
      "Running Monte Carlo simulation number 450.\n",
      "Running Monte Carlo simulation number 460.\n",
      "Running Monte Carlo simulation number 470.\n",
      "Running Monte Carlo simulation number 480.\n",
      "Running Monte Carlo simulation number 490.\n"
     ]
    },
    {
     "data": {
      "text/html": [
       "<div>\n",
       "<style scoped>\n",
       "    .dataframe tbody tr th:only-of-type {\n",
       "        vertical-align: middle;\n",
       "    }\n",
       "\n",
       "    .dataframe tbody tr th {\n",
       "        vertical-align: top;\n",
       "    }\n",
       "\n",
       "    .dataframe thead th {\n",
       "        text-align: right;\n",
       "    }\n",
       "</style>\n",
       "<table border=\"1\" class=\"dataframe\">\n",
       "  <thead>\n",
       "    <tr style=\"text-align: right;\">\n",
       "      <th></th>\n",
       "      <th>0</th>\n",
       "      <th>1</th>\n",
       "      <th>2</th>\n",
       "      <th>3</th>\n",
       "      <th>4</th>\n",
       "      <th>5</th>\n",
       "      <th>6</th>\n",
       "      <th>7</th>\n",
       "      <th>8</th>\n",
       "      <th>9</th>\n",
       "      <th>...</th>\n",
       "      <th>490</th>\n",
       "      <th>491</th>\n",
       "      <th>492</th>\n",
       "      <th>493</th>\n",
       "      <th>494</th>\n",
       "      <th>495</th>\n",
       "      <th>496</th>\n",
       "      <th>497</th>\n",
       "      <th>498</th>\n",
       "      <th>499</th>\n",
       "    </tr>\n",
       "  </thead>\n",
       "  <tbody>\n",
       "    <tr>\n",
       "      <th>0</th>\n",
       "      <td>1.000000</td>\n",
       "      <td>1.000000</td>\n",
       "      <td>1.000000</td>\n",
       "      <td>1.000000</td>\n",
       "      <td>1.000000</td>\n",
       "      <td>1.000000</td>\n",
       "      <td>1.000000</td>\n",
       "      <td>1.000000</td>\n",
       "      <td>1.000000</td>\n",
       "      <td>1.000000</td>\n",
       "      <td>...</td>\n",
       "      <td>1.000000</td>\n",
       "      <td>1.000000</td>\n",
       "      <td>1.000000</td>\n",
       "      <td>1.000000</td>\n",
       "      <td>1.000000</td>\n",
       "      <td>1.000000</td>\n",
       "      <td>1.000000</td>\n",
       "      <td>1.000000</td>\n",
       "      <td>1.000000</td>\n",
       "      <td>1.000000</td>\n",
       "    </tr>\n",
       "    <tr>\n",
       "      <th>1</th>\n",
       "      <td>1.010936</td>\n",
       "      <td>0.996037</td>\n",
       "      <td>1.000604</td>\n",
       "      <td>0.993861</td>\n",
       "      <td>1.019183</td>\n",
       "      <td>1.008210</td>\n",
       "      <td>0.992205</td>\n",
       "      <td>0.995351</td>\n",
       "      <td>0.995298</td>\n",
       "      <td>1.019957</td>\n",
       "      <td>...</td>\n",
       "      <td>0.994427</td>\n",
       "      <td>1.003452</td>\n",
       "      <td>1.002542</td>\n",
       "      <td>0.997665</td>\n",
       "      <td>0.990975</td>\n",
       "      <td>0.993912</td>\n",
       "      <td>1.014017</td>\n",
       "      <td>0.995521</td>\n",
       "      <td>1.008796</td>\n",
       "      <td>0.993290</td>\n",
       "    </tr>\n",
       "    <tr>\n",
       "      <th>2</th>\n",
       "      <td>1.013264</td>\n",
       "      <td>0.982321</td>\n",
       "      <td>1.031408</td>\n",
       "      <td>1.003249</td>\n",
       "      <td>1.016676</td>\n",
       "      <td>1.017250</td>\n",
       "      <td>1.000801</td>\n",
       "      <td>1.003706</td>\n",
       "      <td>0.999970</td>\n",
       "      <td>1.009875</td>\n",
       "      <td>...</td>\n",
       "      <td>1.021627</td>\n",
       "      <td>1.020440</td>\n",
       "      <td>0.998537</td>\n",
       "      <td>0.989999</td>\n",
       "      <td>0.982828</td>\n",
       "      <td>0.978835</td>\n",
       "      <td>1.009375</td>\n",
       "      <td>0.971260</td>\n",
       "      <td>0.990184</td>\n",
       "      <td>0.989373</td>\n",
       "    </tr>\n",
       "    <tr>\n",
       "      <th>3</th>\n",
       "      <td>1.025309</td>\n",
       "      <td>0.973897</td>\n",
       "      <td>1.026013</td>\n",
       "      <td>0.997552</td>\n",
       "      <td>0.999802</td>\n",
       "      <td>1.024289</td>\n",
       "      <td>0.998311</td>\n",
       "      <td>1.012787</td>\n",
       "      <td>0.988432</td>\n",
       "      <td>0.990525</td>\n",
       "      <td>...</td>\n",
       "      <td>1.038007</td>\n",
       "      <td>0.991409</td>\n",
       "      <td>1.015099</td>\n",
       "      <td>0.995142</td>\n",
       "      <td>0.997207</td>\n",
       "      <td>0.994604</td>\n",
       "      <td>0.993393</td>\n",
       "      <td>0.997691</td>\n",
       "      <td>0.977006</td>\n",
       "      <td>0.992426</td>\n",
       "    </tr>\n",
       "    <tr>\n",
       "      <th>4</th>\n",
       "      <td>1.050681</td>\n",
       "      <td>0.974275</td>\n",
       "      <td>1.014350</td>\n",
       "      <td>1.002681</td>\n",
       "      <td>0.994424</td>\n",
       "      <td>1.044985</td>\n",
       "      <td>0.996447</td>\n",
       "      <td>1.005043</td>\n",
       "      <td>1.014517</td>\n",
       "      <td>0.991674</td>\n",
       "      <td>...</td>\n",
       "      <td>1.049615</td>\n",
       "      <td>0.976630</td>\n",
       "      <td>1.014287</td>\n",
       "      <td>0.989656</td>\n",
       "      <td>1.009881</td>\n",
       "      <td>0.975900</td>\n",
       "      <td>0.977499</td>\n",
       "      <td>1.000153</td>\n",
       "      <td>0.964229</td>\n",
       "      <td>0.998929</td>\n",
       "    </tr>\n",
       "    <tr>\n",
       "      <th>...</th>\n",
       "      <td>...</td>\n",
       "      <td>...</td>\n",
       "      <td>...</td>\n",
       "      <td>...</td>\n",
       "      <td>...</td>\n",
       "      <td>...</td>\n",
       "      <td>...</td>\n",
       "      <td>...</td>\n",
       "      <td>...</td>\n",
       "      <td>...</td>\n",
       "      <td>...</td>\n",
       "      <td>...</td>\n",
       "      <td>...</td>\n",
       "      <td>...</td>\n",
       "      <td>...</td>\n",
       "      <td>...</td>\n",
       "      <td>...</td>\n",
       "      <td>...</td>\n",
       "      <td>...</td>\n",
       "      <td>...</td>\n",
       "      <td>...</td>\n",
       "    </tr>\n",
       "    <tr>\n",
       "      <th>2516</th>\n",
       "      <td>3.678646</td>\n",
       "      <td>4.930383</td>\n",
       "      <td>2.288342</td>\n",
       "      <td>2.439969</td>\n",
       "      <td>8.565148</td>\n",
       "      <td>5.158340</td>\n",
       "      <td>3.514038</td>\n",
       "      <td>2.021839</td>\n",
       "      <td>1.263259</td>\n",
       "      <td>5.784681</td>\n",
       "      <td>...</td>\n",
       "      <td>0.592982</td>\n",
       "      <td>1.492484</td>\n",
       "      <td>5.936556</td>\n",
       "      <td>1.093371</td>\n",
       "      <td>5.119696</td>\n",
       "      <td>0.781873</td>\n",
       "      <td>2.372653</td>\n",
       "      <td>1.242256</td>\n",
       "      <td>3.753314</td>\n",
       "      <td>1.159858</td>\n",
       "    </tr>\n",
       "    <tr>\n",
       "      <th>2517</th>\n",
       "      <td>3.725840</td>\n",
       "      <td>4.866216</td>\n",
       "      <td>2.263132</td>\n",
       "      <td>2.477321</td>\n",
       "      <td>8.398058</td>\n",
       "      <td>5.262167</td>\n",
       "      <td>3.543648</td>\n",
       "      <td>2.034199</td>\n",
       "      <td>1.262131</td>\n",
       "      <td>5.821511</td>\n",
       "      <td>...</td>\n",
       "      <td>0.593830</td>\n",
       "      <td>1.530444</td>\n",
       "      <td>5.925344</td>\n",
       "      <td>1.103383</td>\n",
       "      <td>5.110636</td>\n",
       "      <td>0.795347</td>\n",
       "      <td>2.362916</td>\n",
       "      <td>1.230643</td>\n",
       "      <td>3.705611</td>\n",
       "      <td>1.141209</td>\n",
       "    </tr>\n",
       "    <tr>\n",
       "      <th>2518</th>\n",
       "      <td>3.652022</td>\n",
       "      <td>4.886989</td>\n",
       "      <td>2.317725</td>\n",
       "      <td>2.502583</td>\n",
       "      <td>8.472469</td>\n",
       "      <td>5.231793</td>\n",
       "      <td>3.550794</td>\n",
       "      <td>2.011307</td>\n",
       "      <td>1.238183</td>\n",
       "      <td>5.803927</td>\n",
       "      <td>...</td>\n",
       "      <td>0.601200</td>\n",
       "      <td>1.520145</td>\n",
       "      <td>5.891215</td>\n",
       "      <td>1.092787</td>\n",
       "      <td>5.022825</td>\n",
       "      <td>0.798426</td>\n",
       "      <td>2.393506</td>\n",
       "      <td>1.254264</td>\n",
       "      <td>3.654635</td>\n",
       "      <td>1.132263</td>\n",
       "    </tr>\n",
       "    <tr>\n",
       "      <th>2519</th>\n",
       "      <td>3.623106</td>\n",
       "      <td>4.783159</td>\n",
       "      <td>2.304498</td>\n",
       "      <td>2.496299</td>\n",
       "      <td>8.381010</td>\n",
       "      <td>5.094233</td>\n",
       "      <td>3.595262</td>\n",
       "      <td>2.055477</td>\n",
       "      <td>1.229529</td>\n",
       "      <td>5.820658</td>\n",
       "      <td>...</td>\n",
       "      <td>0.598879</td>\n",
       "      <td>1.521415</td>\n",
       "      <td>5.879183</td>\n",
       "      <td>1.101021</td>\n",
       "      <td>5.075592</td>\n",
       "      <td>0.774212</td>\n",
       "      <td>2.405350</td>\n",
       "      <td>1.263513</td>\n",
       "      <td>3.676206</td>\n",
       "      <td>1.147038</td>\n",
       "    </tr>\n",
       "    <tr>\n",
       "      <th>2520</th>\n",
       "      <td>3.586335</td>\n",
       "      <td>4.810222</td>\n",
       "      <td>2.286613</td>\n",
       "      <td>2.428354</td>\n",
       "      <td>8.366676</td>\n",
       "      <td>5.086942</td>\n",
       "      <td>3.571589</td>\n",
       "      <td>2.079870</td>\n",
       "      <td>1.228997</td>\n",
       "      <td>5.866797</td>\n",
       "      <td>...</td>\n",
       "      <td>0.601711</td>\n",
       "      <td>1.534545</td>\n",
       "      <td>6.004100</td>\n",
       "      <td>1.098265</td>\n",
       "      <td>5.090827</td>\n",
       "      <td>0.759094</td>\n",
       "      <td>2.386263</td>\n",
       "      <td>1.282156</td>\n",
       "      <td>3.656273</td>\n",
       "      <td>1.156370</td>\n",
       "    </tr>\n",
       "  </tbody>\n",
       "</table>\n",
       "<p>2521 rows × 500 columns</p>\n",
       "</div>"
      ],
      "text/plain": [
       "           0         1         2         3         4         5         6    \\\n",
       "0     1.000000  1.000000  1.000000  1.000000  1.000000  1.000000  1.000000   \n",
       "1     1.010936  0.996037  1.000604  0.993861  1.019183  1.008210  0.992205   \n",
       "2     1.013264  0.982321  1.031408  1.003249  1.016676  1.017250  1.000801   \n",
       "3     1.025309  0.973897  1.026013  0.997552  0.999802  1.024289  0.998311   \n",
       "4     1.050681  0.974275  1.014350  1.002681  0.994424  1.044985  0.996447   \n",
       "...        ...       ...       ...       ...       ...       ...       ...   \n",
       "2516  3.678646  4.930383  2.288342  2.439969  8.565148  5.158340  3.514038   \n",
       "2517  3.725840  4.866216  2.263132  2.477321  8.398058  5.262167  3.543648   \n",
       "2518  3.652022  4.886989  2.317725  2.502583  8.472469  5.231793  3.550794   \n",
       "2519  3.623106  4.783159  2.304498  2.496299  8.381010  5.094233  3.595262   \n",
       "2520  3.586335  4.810222  2.286613  2.428354  8.366676  5.086942  3.571589   \n",
       "\n",
       "           7         8         9    ...       490       491       492  \\\n",
       "0     1.000000  1.000000  1.000000  ...  1.000000  1.000000  1.000000   \n",
       "1     0.995351  0.995298  1.019957  ...  0.994427  1.003452  1.002542   \n",
       "2     1.003706  0.999970  1.009875  ...  1.021627  1.020440  0.998537   \n",
       "3     1.012787  0.988432  0.990525  ...  1.038007  0.991409  1.015099   \n",
       "4     1.005043  1.014517  0.991674  ...  1.049615  0.976630  1.014287   \n",
       "...        ...       ...       ...  ...       ...       ...       ...   \n",
       "2516  2.021839  1.263259  5.784681  ...  0.592982  1.492484  5.936556   \n",
       "2517  2.034199  1.262131  5.821511  ...  0.593830  1.530444  5.925344   \n",
       "2518  2.011307  1.238183  5.803927  ...  0.601200  1.520145  5.891215   \n",
       "2519  2.055477  1.229529  5.820658  ...  0.598879  1.521415  5.879183   \n",
       "2520  2.079870  1.228997  5.866797  ...  0.601711  1.534545  6.004100   \n",
       "\n",
       "           493       494       495       496       497       498       499  \n",
       "0     1.000000  1.000000  1.000000  1.000000  1.000000  1.000000  1.000000  \n",
       "1     0.997665  0.990975  0.993912  1.014017  0.995521  1.008796  0.993290  \n",
       "2     0.989999  0.982828  0.978835  1.009375  0.971260  0.990184  0.989373  \n",
       "3     0.995142  0.997207  0.994604  0.993393  0.997691  0.977006  0.992426  \n",
       "4     0.989656  1.009881  0.975900  0.977499  1.000153  0.964229  0.998929  \n",
       "...        ...       ...       ...       ...       ...       ...       ...  \n",
       "2516  1.093371  5.119696  0.781873  2.372653  1.242256  3.753314  1.159858  \n",
       "2517  1.103383  5.110636  0.795347  2.362916  1.230643  3.705611  1.141209  \n",
       "2518  1.092787  5.022825  0.798426  2.393506  1.254264  3.654635  1.132263  \n",
       "2519  1.101021  5.075592  0.774212  2.405350  1.263513  3.676206  1.147038  \n",
       "2520  1.098265  5.090827  0.759094  2.386263  1.282156  3.656273  1.156370  \n",
       "\n",
       "[2521 rows x 500 columns]"
      ]
     },
     "execution_count": 38,
     "metadata": {},
     "output_type": "execute_result"
    }
   ],
   "source": [
    "# Run the Monte Carlo simulation to forecast 10 years cumulative returns\n",
    "ten_year_simulation.calc_cumulative_return()"
   ]
  },
  {
   "cell_type": "code",
   "execution_count": 39,
   "metadata": {},
   "outputs": [
    {
     "data": {
      "text/plain": [
       "<AxesSubplot:title={'center':'500 Simulations of Cumulative Portfolio Return Trajectories Over the Next 2520 Trading Days.'}>"
      ]
     },
     "execution_count": 39,
     "metadata": {},
     "output_type": "execute_result"
    },
    {
     "data": {
      "image/png": "[encoded data removed]",
      "text/plain": [
       "<Figure size 432x288 with 1 Axes>"
      ]
     },
     "metadata": {
      "needs_background": "light"
     },
     "output_type": "display_data"
    }
   ],
   "source": [
    "# Visualize the 10-year Monte Carlo simulation by creating an\n",
    "# overlay line plot\n",
    "ten_year_simulation.plot_simulation()"
   ]
  },
  {
   "cell_type": "code",
   "execution_count": 40,
   "metadata": {},
   "outputs": [
    {
     "data": {
      "text/plain": [
       "<AxesSubplot:title={'center':'Distribution of Final Cumuluative Returns Across All 500 Simulations'}, ylabel='Frequency'>"
      ]
     },
     "execution_count": 40,
     "metadata": {},
     "output_type": "execute_result"
    },
    {
     "data": {
      "image/png": "[encoded data removed]",
      "text/plain": [
       "<Figure size 432x288 with 1 Axes>"
      ]
     },
     "metadata": {
      "needs_background": "light"
     },
     "output_type": "display_data"
    }
   ],
   "source": [
    "# Visualize the probability distribution of the 10-year Monte Carlo simulation \n",
    "# by plotting a histogram\n",
    "ten_year_simulation.plot_distribution()"
   ]
  },
  {
   "cell_type": "code",
   "execution_count": 41,
   "metadata": {},
   "outputs": [
    {
     "data": {
      "text/plain": [
       "count           500.000000\n",
       "mean              2.432295\n",
       "std               1.588644\n",
       "min               0.405326\n",
       "25%               1.310178\n",
       "50%               2.004153\n",
       "75%               3.163992\n",
       "max              12.174771\n",
       "95% CI Lower      0.636522\n",
       "95% CI Upper      6.638620\n",
       "Name: 2520, dtype: float64"
      ]
     },
     "execution_count": 41,
     "metadata": {},
     "output_type": "execute_result"
    }
   ],
   "source": [
    "# Generate summary statistics from the 10-year Monte Carlo simulation results\n",
    "# Save the results as a variable\n",
    "ten_year_simulation_statistics = ten_year_simulation.summarize_cumulative_return()\n",
    "\n",
    "# Review the 10-year Monte Carlo summary statistics\n",
    "ten_year_simulation_statistics\n"
   ]
  },
  {
   "cell_type": "markdown",
   "metadata": {},
   "source": [
    "### Answer the following questions:"
   ]
  },
  {
   "cell_type": "markdown",
   "metadata": {},
   "source": [
    "#### Question: Using the current value of only the stock and bond portion of the member's portfolio and the summary statistics that you generated from the new Monte Carlo simulation, what are the lower and upper bounds for the expected value of the portfolio (with the new weights) with a 95% confidence interval?"
   ]
  },
  {
   "cell_type": "code",
   "execution_count": 42,
   "metadata": {},
   "outputs": [
    {
     "data": {
      "text/plain": [
       "63505.7"
      ]
     },
     "execution_count": 42,
     "metadata": {},
     "output_type": "execute_result"
    }
   ],
   "source": [
    "# Print the current balance of the stock and bond portion of the members portfolio\n",
    "total_stocks_bonds"
   ]
  },
  {
   "cell_type": "code",
   "execution_count": 43,
   "metadata": {},
   "outputs": [
    {
     "name": "stdout",
     "output_type": "stream",
     "text": [
      "There is a 95% chance that the current portfolio investment total of 63505.7  with a weight of 80% stock 20% bond will end within in the range of $40422.75 and $421590.22 over the next 10 years.\n"
     ]
    }
   ],
   "source": [
    "# Use the lower and upper `95%` confidence intervals to calculate the range of the possible outcomes for the current stock/bond portfolio\n",
    "ci_lower_ten_cumulative_return = round(ten_year_simulation_statistics[8]*total_stocks_bonds,2)\n",
    "ci_upper_ten_cumulative_return = round(ten_year_simulation_statistics[9]*total_stocks_bonds,2)\n",
    "\n",
    "# Print the result of your calculations\n",
    "print(f\"There is a 95% chance that the current portfolio investment total of {total_stocks_bonds} \"\n",
    "      f\" with a weight of 80% stock 20% bond will end within in the range of\"\n",
    "      f\" ${ci_lower_ten_cumulative_return} and ${ci_upper_ten_cumulative_return} over the next 10 years.\")\n"
   ]
  },
  {
   "cell_type": "markdown",
   "metadata": {},
   "source": [
    "#### Question: Will weighting the portfolio more heavily to stocks allow the credit union members to retire after only 10 years?"
   ]
  },
  {
   "cell_type": "code",
   "execution_count": 44,
   "metadata": {
    "tags": []
   },
   "outputs": [],
   "source": [
    "# Create df containing summaries of 10 and 30 year Monte Carlo Simulation\n",
    "monte_summaries_df = pd.concat([\n",
    "    thirty_year_simulation_statistics, \n",
    "    ten_year_simulation_statistics],\n",
    "    axis=1, \n",
    "    keys=['30 Year','10 Year'])"
   ]
  },
  {
   "cell_type": "code",
   "execution_count": 45,
   "metadata": {},
   "outputs": [],
   "source": [
    "# Create cumulative profit and loss dataframe by multiplying stock values by the Monte Carlo return data\n",
    "cumulative_pnl = total_stocks_bonds * monte_summaries_df.drop(['count'])"
   ]
  },
  {
   "cell_type": "code",
   "execution_count": 46,
   "metadata": {},
   "outputs": [
    {
     "data": {
      "text/html": [
       "<style type=\"text/css\">\n",
       "</style>\n",
       "<table id=\"T_168e0_\">\n",
       "  <thead>\n",
       "    <tr>\n",
       "      <th class=\"blank level0\" >&nbsp;</th>\n",
       "      <th class=\"col_heading level0 col0\" >30 Year</th>\n",
       "      <th class=\"col_heading level0 col1\" >10 Year</th>\n",
       "    </tr>\n",
       "  </thead>\n",
       "  <tbody>\n",
       "    <tr>\n",
       "      <th id=\"T_168e0_level0_row0\" class=\"row_heading level0 row0\" >mean</th>\n",
       "      <td id=\"T_168e0_row0_col0\" class=\"data row0 col0\" >386,592</td>\n",
       "      <td id=\"T_168e0_row0_col1\" class=\"data row0 col1\" >154,465</td>\n",
       "    </tr>\n",
       "    <tr>\n",
       "      <th id=\"T_168e0_level0_row1\" class=\"row_heading level0 row1\" >std</th>\n",
       "      <td id=\"T_168e0_row1_col0\" class=\"data row1 col0\" >359,988</td>\n",
       "      <td id=\"T_168e0_row1_col1\" class=\"data row1 col1\" >100,888</td>\n",
       "    </tr>\n",
       "    <tr>\n",
       "      <th id=\"T_168e0_level0_row2\" class=\"row_heading level0 row2\" >min</th>\n",
       "      <td id=\"T_168e0_row2_col0\" class=\"data row2 col0\" >29,287</td>\n",
       "      <td id=\"T_168e0_row2_col1\" class=\"data row2 col1\" >25,741</td>\n",
       "    </tr>\n",
       "    <tr>\n",
       "      <th id=\"T_168e0_level0_row3\" class=\"row_heading level0 row3\" >25%</th>\n",
       "      <td id=\"T_168e0_row3_col0\" class=\"data row3 col0\" >159,312</td>\n",
       "      <td id=\"T_168e0_row3_col1\" class=\"data row3 col1\" >83,204</td>\n",
       "    </tr>\n",
       "    <tr>\n",
       "      <th id=\"T_168e0_level0_row4\" class=\"row_heading level0 row4\" >50%</th>\n",
       "      <td id=\"T_168e0_row4_col0\" class=\"data row4 col0\" >274,322</td>\n",
       "      <td id=\"T_168e0_row4_col1\" class=\"data row4 col1\" >127,275</td>\n",
       "    </tr>\n",
       "    <tr>\n",
       "      <th id=\"T_168e0_level0_row5\" class=\"row_heading level0 row5\" >75%</th>\n",
       "      <td id=\"T_168e0_row5_col0\" class=\"data row5 col0\" >463,359</td>\n",
       "      <td id=\"T_168e0_row5_col1\" class=\"data row5 col1\" >200,932</td>\n",
       "    </tr>\n",
       "    <tr>\n",
       "      <th id=\"T_168e0_level0_row6\" class=\"row_heading level0 row6\" >max</th>\n",
       "      <td id=\"T_168e0_row6_col0\" class=\"data row6 col0\" >2,339,793</td>\n",
       "      <td id=\"T_168e0_row6_col1\" class=\"data row6 col1\" >773,167</td>\n",
       "    </tr>\n",
       "    <tr>\n",
       "      <th id=\"T_168e0_level0_row7\" class=\"row_heading level0 row7\" >95% CI Lower</th>\n",
       "      <td id=\"T_168e0_row7_col0\" class=\"data row7 col0\" >60,976</td>\n",
       "      <td id=\"T_168e0_row7_col1\" class=\"data row7 col1\" >40,423</td>\n",
       "    </tr>\n",
       "    <tr>\n",
       "      <th id=\"T_168e0_level0_row8\" class=\"row_heading level0 row8\" >95% CI Upper</th>\n",
       "      <td id=\"T_168e0_row8_col0\" class=\"data row8 col0\" >1,513,321</td>\n",
       "      <td id=\"T_168e0_row8_col1\" class=\"data row8 col1\" >421,590</td>\n",
       "    </tr>\n",
       "  </tbody>\n",
       "</table>\n"
      ],
      "text/plain": [
       "<pandas.io.formats.style.Styler at 0x7fcc6b8c0fd0>"
      ]
     },
     "execution_count": 46,
     "metadata": {},
     "output_type": "execute_result"
    }
   ],
   "source": [
    "# Format cumulative profit and loss dataframe\n",
    "cumulative_pnl = cumulative_pnl.style.format(\"{:,.0f}\")\n",
    "\n",
    "# Display cumulative profit and loss dataframe\n",
    "cumulative_pnl"
   ]
  },
  {
   "cell_type": "raw",
   "metadata": {},
   "source": [
    "**Answer** \n",
    "\n",
    "No directions were given in regards to how much the client needs to have saved. A client would also need to have more money saved to retire after 10 years than if they retired after 30, due to the length of retirement. For this question I'm assuming a standard retirement goal of 401k. \n",
    "\n",
    "Based off of the upper and lower 95% confidence interval there is just above a 5% chance that the 10 year option would generate enough income to retire. Most likely, after ten years the portfolio would be worth around $159,346 (as shown by the 10 year mean in the cumulative_pnl dataframe) which is well bellow a comfortable retirement savings. The max projected portfolio size after ten years is $834,491 so theoretically it is possible to earn enough, if the client feels the difference in the max projection and $401,000 is enough to retire 20 years early. "
   ]
  }
 ],
 "metadata": {
  "kernelspec": {
   "display_name": "Python 3 (ipykernel)",
   "language": "python",
   "name": "python3"
  },
  "language_info": {
   "codemirror_mode": {
    "name": "ipython",
    "version": 3
   },
   "file_extension": ".py",
   "mimetype": "text/x-python",
   "name": "python",
   "nbconvert_exporter": "python",
   "pygments_lexer": "ipython3",
   "version": "3.7.13"
  }
 },
 "nbformat": 4,
 "nbformat_minor": 4
}
